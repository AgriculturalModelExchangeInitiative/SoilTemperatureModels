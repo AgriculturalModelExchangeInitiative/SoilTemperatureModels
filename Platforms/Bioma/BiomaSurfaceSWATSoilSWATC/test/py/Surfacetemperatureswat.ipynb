{
 "cells": [
  {
   "cell_type": "markdown",
   "id": "90a455ba",
   "metadata": {},
   "source": [
    "# Automatic generation of Notebook using PyCropML\n",
    "    This notebook implements a crop model."
   ]
  },
  {
   "cell_type": "markdown",
   "id": "7bbafb5c",
   "metadata": {},
   "source": [
    "### Model Surfacetemperatureswat"
   ]
  },
  {
   "cell_type": "code",
   "execution_count": null,
   "id": "7a94b185",
   "metadata": {},
   "outputs": [],
   "source": [
    "import numpy\n",
    "from datetime import datetime\n",
    "from array import array\n",
    "import sys\n",
    "sys.path.append(\"..\\..\\src\\py\\BiomaSurfaceSWATSoilSWATC\")\n",
    "from surfacetemperatureswat import model_surfacetemperatureswat\n"
   ]
  }
 ],
 "metadata": {},
 "nbformat": 4,
 "nbformat_minor": 5
}
