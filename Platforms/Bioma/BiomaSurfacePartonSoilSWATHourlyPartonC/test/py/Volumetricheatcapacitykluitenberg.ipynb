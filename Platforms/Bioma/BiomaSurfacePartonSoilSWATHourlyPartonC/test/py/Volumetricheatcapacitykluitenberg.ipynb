{
 "cells": [
  {
   "cell_type": "markdown",
   "id": "67ebe7c7",
   "metadata": {},
   "source": [
    "# Automatic generation of Notebook using PyCropML\n",
    "    This notebook implements a crop model."
   ]
  },
  {
   "cell_type": "markdown",
   "id": "9b7d2b11",
   "metadata": {},
   "source": [
    "### Model Volumetricheatcapacitykluitenberg"
   ]
  },
  {
   "cell_type": "code",
   "execution_count": null,
   "id": "977b85b4",
   "metadata": {},
   "outputs": [],
   "source": [
    "import numpy\n",
    "from datetime import datetime\n",
    "from array import array\n",
    "import sys\n",
    "sys.path.append(\"..\\..\\src\\py\\BiomaSurfacePartonSoilSWATHourlyPartonC\")\n",
    "from volumetricheatcapacitykluitenberg import model_volumetricheatcapacitykluitenberg\n"
   ]
  }
 ],
 "metadata": {},
 "nbformat": 4,
 "nbformat_minor": 5
}
