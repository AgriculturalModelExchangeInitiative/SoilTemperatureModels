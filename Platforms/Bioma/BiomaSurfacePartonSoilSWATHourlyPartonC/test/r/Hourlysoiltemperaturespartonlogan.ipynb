{
 "cells": [
  {
   "cell_type": "markdown",
   "id": "f8cebda5",
   "metadata": {},
   "source": [
    "# Automatic generation of Notebook using PyCropML\n",
    "    This notebook implements a crop model."
   ]
  },
  {
   "cell_type": "markdown",
   "id": "955c4dbf",
   "metadata": {},
   "source": [
    "### Model Hourlysoiltemperaturespartonlogan"
   ]
  },
  {
   "cell_type": "code",
   "execution_count": null,
   "id": "ff050b12",
   "metadata": {},
   "outputs": [],
   "source": [
    "source(\"../../src/r/BiomaSurfacePartonSoilSWATHourlyPartonC/hourlysoiltemperaturespartonlogan.r\")\n",
    "library(assertthat)\n"
   ]
  }
 ],
 "metadata": {},
 "nbformat": 4,
 "nbformat_minor": 5
}
