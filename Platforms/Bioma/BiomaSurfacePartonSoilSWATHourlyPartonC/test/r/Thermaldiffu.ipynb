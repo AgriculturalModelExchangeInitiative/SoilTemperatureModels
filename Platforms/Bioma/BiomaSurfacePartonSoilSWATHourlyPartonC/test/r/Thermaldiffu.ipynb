{
 "cells": [
  {
   "cell_type": "markdown",
   "id": "f8e861ce",
   "metadata": {},
   "source": [
    "# Automatic generation of Notebook using PyCropML\n",
    "    This notebook implements a crop model."
   ]
  },
  {
   "cell_type": "markdown",
   "id": "ced884de",
   "metadata": {},
   "source": [
    "### Model Thermaldiffu"
   ]
  },
  {
   "cell_type": "code",
   "execution_count": null,
   "id": "6613a79f",
   "metadata": {},
   "outputs": [],
   "source": [
    "source(\"../../src/r/BiomaSurfacePartonSoilSWATHourlyPartonC/thermaldiffu.r\")\n",
    "library(assertthat)\n"
   ]
  }
 ],
 "metadata": {},
 "nbformat": 4,
 "nbformat_minor": 5
}
