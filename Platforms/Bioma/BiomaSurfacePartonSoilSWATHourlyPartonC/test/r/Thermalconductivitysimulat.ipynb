{
 "cells": [
  {
   "cell_type": "markdown",
   "id": "fa00fa76",
   "metadata": {},
   "source": [
    "# Automatic generation of Notebook using PyCropML\n",
    "    This notebook implements a crop model."
   ]
  },
  {
   "cell_type": "markdown",
   "id": "3c408a53",
   "metadata": {},
   "source": [
    "### Model Thermalconductivitysimulat"
   ]
  },
  {
   "cell_type": "code",
   "execution_count": null,
   "id": "3e0d5e0b",
   "metadata": {},
   "outputs": [],
   "source": [
    "source(\"../../src/r/BiomaSurfacePartonSoilSWATHourlyPartonC/thermalconductivitysimulat.r\")\n",
    "library(assertthat)\n"
   ]
  }
 ],
 "metadata": {},
 "nbformat": 4,
 "nbformat_minor": 5
}
