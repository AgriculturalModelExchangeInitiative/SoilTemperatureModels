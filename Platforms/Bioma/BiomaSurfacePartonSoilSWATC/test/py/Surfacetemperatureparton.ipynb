{
 "cells": [
  {
   "cell_type": "markdown",
   "id": "b89724ae",
   "metadata": {},
   "source": [
    "# Automatic generation of Notebook using PyCropML\n",
    "    This notebook implements a crop model."
   ]
  },
  {
   "cell_type": "markdown",
   "id": "20f02f7e",
   "metadata": {},
   "source": [
    "### Model Surfacetemperatureparton"
   ]
  },
  {
   "cell_type": "code",
   "execution_count": null,
   "id": "47f6e6f6",
   "metadata": {},
   "outputs": [],
   "source": [
    "import numpy\n",
    "from datetime import datetime\n",
    "from array import array\n",
    "import sys\n",
    "sys.path.append(\"..\\..\\src\\py\\BiomaSurfacePartonSoilSWATC\")\n",
    "from surfacetemperatureparton import model_surfacetemperatureparton\n"
   ]
  }
 ],
 "metadata": {},
 "nbformat": 4,
 "nbformat_minor": 5
}
