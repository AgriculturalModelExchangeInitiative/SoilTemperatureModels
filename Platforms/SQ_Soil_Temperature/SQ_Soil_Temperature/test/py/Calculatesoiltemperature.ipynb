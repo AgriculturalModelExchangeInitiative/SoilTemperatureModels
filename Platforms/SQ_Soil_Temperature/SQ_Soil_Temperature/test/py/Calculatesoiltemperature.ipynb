{
 "cells": [
  {
   "cell_type": "markdown",
   "id": "f3942e25",
   "metadata": {},
   "source": [
    "# Automatic generation of Notebook using PyCropML\n",
    "    This notebook implements a crop model."
   ]
  },
  {
   "cell_type": "markdown",
   "id": "bf111ea4",
   "metadata": {},
   "source": [
    "### Model Calculatesoiltemperature"
   ]
  },
  {
   "cell_type": "code",
   "execution_count": null,
   "id": "f45336ab",
   "metadata": {},
   "outputs": [],
   "source": [
    "import numpy\n",
    "from datetime import datetime\n",
    "from array import array\n",
    "import sys\n",
    "sys.path.append(\"../../src/py/SQ_Soil_Temperature\")\n",
    "from calculatesoiltemperature import model_calculatesoiltemperature\n"
   ]
  }
 ],
 "metadata": {},
 "nbformat": 4,
 "nbformat_minor": 5
}
