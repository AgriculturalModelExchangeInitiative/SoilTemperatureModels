{
 "cells": [
  {
   "cell_type": "markdown",
   "id": "e4ad7dea",
   "metadata": {},
   "source": [
    "# Automatic generation of Notebook using PyCropML\n",
    "    This notebook implements a crop model."
   ]
  },
  {
   "cell_type": "markdown",
   "id": "243467e1",
   "metadata": {},
   "source": [
    "### Model Calculatesoiltemperature"
   ]
  },
  {
   "cell_type": "code",
   "execution_count": null,
   "id": "9e5856bb",
   "metadata": {},
   "outputs": [],
   "source": [
    "source(\"../../src/r/SQ_Soil_Temperature/calculatesoiltemperature.r\")\n",
    "library(assertthat)\n"
   ]
  }
 ],
 "metadata": {},
 "nbformat": 4,
 "nbformat_minor": 5
}
