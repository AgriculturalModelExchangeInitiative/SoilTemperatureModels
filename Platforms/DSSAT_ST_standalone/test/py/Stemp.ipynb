{
 "cells": [
  {
   "cell_type": "markdown",
   "id": "96f03305",
   "metadata": {},
   "source": [
    "# Automatic generation of Notebook using PyCropML\n",
    "    This notebook implements a crop model."
   ]
  },
  {
   "cell_type": "markdown",
   "id": "e7897303",
   "metadata": {},
   "source": [
    "### Model Stemp"
   ]
  },
  {
   "cell_type": "code",
   "execution_count": null,
   "id": "c039d60b",
   "metadata": {},
   "outputs": [],
   "source": [
    "import numpy\n",
    "from datetime import datetime\n",
    "from array import array\n",
    "import sys\n",
    "sys.path.append(\"..\\..\\src\\py\\DSSAT_ST_standalone\")\n",
    "from stemp import model_stemp\n",
    "from stemp import init_stemp\n"
   ]
  }
 ],
 "metadata": {},
 "nbformat": 4,
 "nbformat_minor": 5
}
