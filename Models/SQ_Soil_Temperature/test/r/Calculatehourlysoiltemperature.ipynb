{
 "cells": [
  {
   "cell_type": "markdown",
   "id": "08180962",
   "metadata": {},
   "source": [
    "# Automatic generation of Notebook using PyCropML\n",
    "    This notebook implements a crop model."
   ]
  },
  {
   "cell_type": "markdown",
   "id": "a95b0088",
   "metadata": {},
   "source": [
    "### Model Calculatehourlysoiltemperature"
   ]
  },
  {
   "cell_type": "code",
   "execution_count": null,
   "id": "7722bee9",
   "metadata": {},
   "outputs": [],
   "source": [
    "source(\"../../src/r/SQ_Soil_Temperature/calculatehourlysoiltemperature.r\")\n",
    "library(assertthat)\n"
   ]
  }
 ],
 "metadata": {},
 "nbformat": 4,
 "nbformat_minor": 5
}
