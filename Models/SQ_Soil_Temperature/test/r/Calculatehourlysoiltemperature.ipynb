{
 "cells": [
  {
   "cell_type": "markdown",
   "id": "fe1cafb8",
   "metadata": {},
   "source": [
    "# Automatic generation of Notebook using PyCropML\n",
    "    This notebook implements a crop model."
   ]
  },
  {
   "cell_type": "markdown",
   "id": "f180d884",
   "metadata": {},
   "source": [
    "### Model Calculatehourlysoiltemperature"
   ]
  },
  {
   "cell_type": "code",
   "execution_count": null,
   "id": "cf12a7aa",
   "metadata": {},
   "outputs": [],
   "source": [
    "source(\"../../src/r/SQ_Soil_Temperature/calculatehourlysoiltemperature.r\")\n",
    "library(assertthat)\n"
   ]
  }
 ],
 "metadata": {},
 "nbformat": 4,
 "nbformat_minor": 5
}
