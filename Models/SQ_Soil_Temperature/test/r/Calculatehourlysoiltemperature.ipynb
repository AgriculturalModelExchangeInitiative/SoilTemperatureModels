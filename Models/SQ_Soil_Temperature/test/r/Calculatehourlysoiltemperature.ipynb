{
 "cells": [
  {
   "cell_type": "markdown",
   "id": "80095f72",
   "metadata": {},
   "source": [
    "# Automatic generation of Notebook using PyCropML\n",
    "    This notebook implements a crop model."
   ]
  },
  {
   "cell_type": "markdown",
   "id": "7397f54d",
   "metadata": {},
   "source": [
    "### Model Calculatehourlysoiltemperature"
   ]
  },
  {
   "cell_type": "code",
   "execution_count": null,
   "id": "e0f6e5f3",
   "metadata": {},
   "outputs": [],
   "source": [
    "source(\"../../src/r/SQ_Soil_Temperature/calculatehourlysoiltemperature.r\")\n",
    "library(assertthat)\n"
   ]
  }
 ],
 "metadata": {},
 "nbformat": 4,
 "nbformat_minor": 5
}
