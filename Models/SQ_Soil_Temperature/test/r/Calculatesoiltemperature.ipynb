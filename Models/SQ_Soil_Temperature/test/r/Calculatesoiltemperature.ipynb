{
 "cells": [
  {
   "cell_type": "markdown",
   "id": "5473d4f6",
   "metadata": {},
   "source": [
    "# Automatic generation of Notebook using PyCropML\n",
    "    This notebook implements a crop model."
   ]
  },
  {
   "cell_type": "markdown",
   "id": "e5024e09",
   "metadata": {},
   "source": [
    "### Model Calculatesoiltemperature"
   ]
  },
  {
   "cell_type": "code",
   "execution_count": null,
   "id": "1a4bea0e",
   "metadata": {},
   "outputs": [],
   "source": [
    "source(\"../../src/r/SQ_Soil_Temperature/calculatesoiltemperature.r\")\n",
    "library(assertthat)\n"
   ]
  }
 ],
 "metadata": {},
 "nbformat": 4,
 "nbformat_minor": 5
}
