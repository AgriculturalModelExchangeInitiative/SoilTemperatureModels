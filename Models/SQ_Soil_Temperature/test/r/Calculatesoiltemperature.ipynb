{
 "cells": [
  {
   "cell_type": "markdown",
   "id": "309d1da4",
   "metadata": {},
   "source": [
    "# Automatic generation of Notebook using PyCropML\n",
    "    This notebook implements a crop model."
   ]
  },
  {
   "cell_type": "markdown",
   "id": "b571e2c2",
   "metadata": {},
   "source": [
    "### Model Calculatesoiltemperature"
   ]
  },
  {
   "cell_type": "code",
   "execution_count": null,
   "id": "cc9993d7",
   "metadata": {},
   "outputs": [],
   "source": [
    "source(\"../../src/r/SQ_Soil_Temperature/calculatesoiltemperature.r\")\n",
    "library(assertthat)\n"
   ]
  }
 ],
 "metadata": {},
 "nbformat": 4,
 "nbformat_minor": 5
}
