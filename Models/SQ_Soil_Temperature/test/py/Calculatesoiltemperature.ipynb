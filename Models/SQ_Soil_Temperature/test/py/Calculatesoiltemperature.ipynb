{
 "cells": [
  {
   "cell_type": "markdown",
   "id": "69db1fbe",
   "metadata": {},
   "source": [
    "# Automatic generation of Notebook using PyCropML\n",
    "    This notebook implements a crop model."
   ]
  },
  {
   "cell_type": "markdown",
   "id": "3120aa96",
   "metadata": {},
   "source": [
    "### Model Calculatesoiltemperature"
   ]
  },
  {
   "cell_type": "code",
   "execution_count": null,
   "id": "58cd5b8b",
   "metadata": {},
   "outputs": [],
   "source": [
    "import numpy\n",
    "from datetime import datetime\n",
    "from array import array\n",
    "import sys\n",
    "sys.path.append(\"..\\..\\src\\py\\SQ_Soil_Temperature\")\n",
    "from calculatesoiltemperature import model_calculatesoiltemperature\n",
    "from calculatesoiltemperature import init_calculatesoiltemperature\n"
   ]
  }
 ],
 "metadata": {},
 "nbformat": 4,
 "nbformat_minor": 5
}
