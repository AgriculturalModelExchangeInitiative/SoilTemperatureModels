{
 "cells": [
  {
   "cell_type": "markdown",
   "id": "fb9a0ddb",
   "metadata": {},
   "source": [
    "# Automatic generation of Notebook using PyCropML\n",
    "    This notebook implements a crop model."
   ]
  },
  {
   "cell_type": "markdown",
   "id": "bd93d7e8",
   "metadata": {},
   "source": [
    "### Model Calculatesoiltemperature"
   ]
  },
  {
   "cell_type": "code",
   "execution_count": null,
   "id": "19346586",
   "metadata": {},
   "outputs": [],
   "source": [
    "import numpy\n",
    "from datetime import datetime\n",
    "from array import array\n",
    "import sys\n",
    "sys.path.append(\"../../src/py/SQ_Soil_Temperature\")\n",
    "from calculatesoiltemperature import model_calculatesoiltemperature\n"
   ]
  }
 ],
 "metadata": {},
 "nbformat": 4,
 "nbformat_minor": 5
}
