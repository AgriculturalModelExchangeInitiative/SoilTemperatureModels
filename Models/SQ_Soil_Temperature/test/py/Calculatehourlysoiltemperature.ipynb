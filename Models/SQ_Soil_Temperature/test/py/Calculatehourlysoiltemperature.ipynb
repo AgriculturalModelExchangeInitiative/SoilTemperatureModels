{
 "cells": [
  {
   "cell_type": "markdown",
   "id": "885efefd",
   "metadata": {},
   "source": [
    "# Automatic generation of Notebook using PyCropML\n",
    "    This notebook implements a crop model."
   ]
  },
  {
   "cell_type": "markdown",
   "id": "6278935d",
   "metadata": {},
   "source": [
    "### Model Calculatehourlysoiltemperature"
   ]
  },
  {
   "cell_type": "code",
   "execution_count": null,
   "id": "6d70d1a4",
   "metadata": {},
   "outputs": [],
   "source": [
    "import numpy\n",
    "from datetime import datetime\n",
    "from array import array\n",
    "import sys\n",
    "sys.path.append(\"../../src/py/SQ_Soil_Temperature\")\n",
    "from calculatehourlysoiltemperature import model_calculatehourlysoiltemperature\n"
   ]
  }
 ],
 "metadata": {},
 "nbformat": 4,
 "nbformat_minor": 5
}
