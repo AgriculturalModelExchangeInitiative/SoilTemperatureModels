{
 "cells": [
  {
   "cell_type": "markdown",
   "id": "c57e1fa0",
   "metadata": {},
   "source": [
    "# Automatic generation of Notebook using PyCropML\n",
    "    This notebook implements a crop model."
   ]
  },
  {
   "cell_type": "markdown",
   "id": "ab0d582d",
   "metadata": {},
   "source": [
    "### Model Calculatesoiltemperature"
   ]
  },
  {
   "cell_type": "code",
   "execution_count": null,
   "id": "9b26ec96",
   "metadata": {},
   "outputs": [],
   "source": [
    "#include \"../../src/cpp/SQ_Soil_Temperature/SoilTemperatureState.cpp\"\n",
    "#include \"../../src/cpp/SQ_Soil_Temperature/SoilTemperatureRate.cpp\"\n",
    "#include \"../../src/cpp/SQ_Soil_Temperature/SoilTemperatureAuxiliary.cpp\"\n",
    "#include \"../../src/cpp/SQ_Soil_Temperature/SoilTemperatureExogenous.cpp\"\n",
    "#include \"../../src/cpp/SQ_Soil_Temperature/CalculateSoilTemperature.cpp\"\n"
   ]
  },
  {
   "cell_type": "code",
   "execution_count": null,
   "id": "82255e43",
   "metadata": {},
   "outputs": [],
   "source": [
    "class Test\n",
    "{\n",
    "    private:\n",
    "        SoiltemperatureState s;\n",
    "        SoiltemperatureState s1;\n",
    "        SoiltemperatureRate r;\n",
    "        SoiltemperatureAuxiliary a;\n",
    "        SoiltemperatureExogenous ex;\n",
    "        Calculatesoiltemperature mod;\n",
    "    public:\n",
    "}\n"
   ]
  },
  {
   "cell_type": "code",
   "execution_count": null,
   "id": "64a7673f",
   "metadata": {},
   "outputs": [],
   "source": [
    "Test t;\n"
   ]
  }
 ],
 "metadata": {},
 "nbformat": 4,
 "nbformat_minor": 5
}
