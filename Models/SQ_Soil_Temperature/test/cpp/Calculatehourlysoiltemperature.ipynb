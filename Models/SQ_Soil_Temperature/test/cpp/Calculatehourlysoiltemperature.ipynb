{
 "cells": [
  {
   "cell_type": "markdown",
   "id": "3a1cbd6e",
   "metadata": {},
   "source": [
    "# Automatic generation of Notebook using PyCropML\n",
    "    This notebook implements a crop model."
   ]
  },
  {
   "cell_type": "markdown",
   "id": "116067af",
   "metadata": {},
   "source": [
    "### Model Calculatehourlysoiltemperature"
   ]
  },
  {
   "cell_type": "code",
   "execution_count": null,
   "id": "876234d3",
   "metadata": {},
   "outputs": [],
   "source": [
    "#include \"../../src/cpp/SQ_Soil_Temperature/SoilTemperatureState.cpp\"\n",
    "#include \"../../src/cpp/SQ_Soil_Temperature/SoilTemperatureRate.cpp\"\n",
    "#include \"../../src/cpp/SQ_Soil_Temperature/SoilTemperatureAuxiliary.cpp\"\n",
    "#include \"../../src/cpp/SQ_Soil_Temperature/SoilTemperatureExogenous.cpp\"\n",
    "#include \"../../src/cpp/SQ_Soil_Temperature/CalculateHourlySoilTemperature.cpp\"\n"
   ]
  },
  {
   "cell_type": "code",
   "execution_count": null,
   "id": "9143ce6c",
   "metadata": {},
   "outputs": [],
   "source": [
    "class Test\n",
    "{\n",
    "    private:\n",
    "        SoiltemperatureState s;\n",
    "        SoiltemperatureState s1;\n",
    "        SoiltemperatureRate r;\n",
    "        SoiltemperatureAuxiliary a;\n",
    "        SoiltemperatureExogenous ex;\n",
    "        Calculatehourlysoiltemperature mod;\n",
    "    public:\n",
    "}\n"
   ]
  },
  {
   "cell_type": "code",
   "execution_count": null,
   "id": "5c9527c9",
   "metadata": {},
   "outputs": [],
   "source": [
    "Test t;\n"
   ]
  }
 ],
 "metadata": {},
 "nbformat": 4,
 "nbformat_minor": 5
}
