{
 "cells": [
  {
   "cell_type": "markdown",
   "id": "b21dd23e",
   "metadata": {},
   "source": [
    "# Automatic generation of Notebook using PyCropML\n",
    "    This notebook implements a crop model."
   ]
  },
  {
   "cell_type": "markdown",
   "id": "82de9045",
   "metadata": {},
   "source": [
    "### Model Stemp"
   ]
  },
  {
   "cell_type": "code",
   "execution_count": null,
   "id": "676eb91a",
   "metadata": {},
   "outputs": [],
   "source": [
    "#include \"..\\..\\src\\cpp\\DSSAT_ST_standalone\\STEMP_State.cpp\"\n",
    "#include \"..\\..\\src\\cpp\\DSSAT_ST_standalone\\STEMP_Rate.cpp\"\n",
    "#include \"..\\..\\src\\cpp\\DSSAT_ST_standalone\\STEMP_Auxiliary.cpp\"\n",
    "#include \"..\\..\\src\\cpp\\DSSAT_ST_standalone\\STEMP_Exogenous.cpp\"\n",
    "#include \"..\\..\\src\\cpp\\DSSAT_ST_standalone\\STEMP.cpp\"\n"
   ]
  },
  {
   "cell_type": "code",
   "execution_count": null,
   "id": "97032541",
   "metadata": {},
   "outputs": [],
   "source": [
    "class Test\n",
    "{\n",
    "    private:\n",
    "        Stemp_State s;\n",
    "        Stemp_State s1;\n",
    "        Stemp_Rate r;\n",
    "        Stemp_Auxiliary a;\n",
    "        Stemp_Exogenous ex;\n",
    "        Stemp mod;\n",
    "    public:\n",
    "}\n"
   ]
  },
  {
   "cell_type": "code",
   "execution_count": null,
   "id": "4819c794",
   "metadata": {},
   "outputs": [],
   "source": [
    "Test t;\n"
   ]
  }
 ],
 "metadata": {},
 "nbformat": 4,
 "nbformat_minor": 5
}
