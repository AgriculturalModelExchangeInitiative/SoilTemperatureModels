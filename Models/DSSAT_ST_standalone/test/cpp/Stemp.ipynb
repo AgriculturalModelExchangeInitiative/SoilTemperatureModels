{
 "cells": [
  {
   "cell_type": "markdown",
   "id": "2ad7a994",
   "metadata": {},
   "source": [
    "# Automatic generation of Notebook using PyCropML\n",
    "    This notebook implements a crop model."
   ]
  },
  {
   "cell_type": "markdown",
   "id": "d76f26f8",
   "metadata": {},
   "source": [
    "### Model Stemp"
   ]
  },
  {
   "cell_type": "code",
   "execution_count": null,
   "id": "e6600765",
   "metadata": {},
   "outputs": [],
   "source": [
    "#include \"..\\..\\src\\cpp\\DSSAT_ST_standalone\\Stemp_State.cpp\"\n",
    "#include \"..\\..\\src\\cpp\\DSSAT_ST_standalone\\Stemp_Rate.cpp\"\n",
    "#include \"..\\..\\src\\cpp\\DSSAT_ST_standalone\\Stemp_Auxiliary.cpp\"\n",
    "#include \"..\\..\\src\\cpp\\DSSAT_ST_standalone\\Stemp_Exogenous.cpp\"\n",
    "#include \"..\\..\\src\\cpp\\DSSAT_ST_standalone\\Stemp.cpp\"\n"
   ]
  },
  {
   "cell_type": "code",
   "execution_count": null,
   "id": "30e35ffa",
   "metadata": {},
   "outputs": [],
   "source": [
    "class Test\n",
    "{\n",
    "    private:\n",
    "        Stemp_State s;\n",
    "        Stemp_State s1;\n",
    "        Stemp_Rate r;\n",
    "        Stemp_Auxiliary a;\n",
    "        Stemp_Exogenous ex;\n",
    "        Stemp mod;\n",
    "    public:\n",
    "}\n"
   ]
  },
  {
   "cell_type": "code",
   "execution_count": null,
   "id": "b7cdef46",
   "metadata": {},
   "outputs": [],
   "source": [
    "Test t;\n"
   ]
  }
 ],
 "metadata": {},
 "nbformat": 4,
 "nbformat_minor": 5
}
