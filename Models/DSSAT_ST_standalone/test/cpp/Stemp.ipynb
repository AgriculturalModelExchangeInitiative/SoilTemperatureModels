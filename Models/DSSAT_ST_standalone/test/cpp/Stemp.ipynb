{
 "cells": [
  {
   "cell_type": "markdown",
   "id": "d55d001c",
   "metadata": {},
   "source": [
    "# Automatic generation of Notebook using PyCropML\n",
    "    This notebook implements a crop model."
   ]
  },
  {
   "cell_type": "markdown",
   "id": "c7eae754",
   "metadata": {},
   "source": [
    "### Model Stemp"
   ]
  },
  {
   "cell_type": "code",
   "execution_count": null,
   "id": "08357312",
   "metadata": {},
   "outputs": [],
   "source": [
    "#include \"..\\..\\src\\cpp\\DSSAT_ST_standalone\\Stemp_State.cpp\"\n",
    "#include \"..\\..\\src\\cpp\\DSSAT_ST_standalone\\Stemp_Rate.cpp\"\n",
    "#include \"..\\..\\src\\cpp\\DSSAT_ST_standalone\\Stemp_Auxiliary.cpp\"\n",
    "#include \"..\\..\\src\\cpp\\DSSAT_ST_standalone\\Stemp_Exogenous.cpp\"\n",
    "#include \"..\\..\\src\\cpp\\DSSAT_ST_standalone\\Stemp.cpp\"\n"
   ]
  },
  {
   "cell_type": "code",
   "execution_count": null,
   "id": "1b387647",
   "metadata": {},
   "outputs": [],
   "source": [
    "class Test\n",
    "{\n",
    "    private:\n",
    "        Stemp_State s;\n",
    "        Stemp_State s1;\n",
    "        Stemp_Rate r;\n",
    "        Stemp_Auxiliary a;\n",
    "        Stemp_Exogenous ex;\n",
    "        Stemp mod;\n",
    "    public:\n",
    "}\n"
   ]
  },
  {
   "cell_type": "code",
   "execution_count": null,
   "id": "c50d1cb5",
   "metadata": {},
   "outputs": [],
   "source": [
    "Test t;\n"
   ]
  }
 ],
 "metadata": {},
 "nbformat": 4,
 "nbformat_minor": 5
}
