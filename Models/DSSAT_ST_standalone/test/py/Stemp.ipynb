{
 "cells": [
  {
   "cell_type": "markdown",
   "id": "538520c5",
   "metadata": {},
   "source": [
    "# Automatic generation of Notebook using PyCropML\n",
    "    This notebook implements a crop model."
   ]
  },
  {
   "cell_type": "markdown",
   "id": "9bc0c53a",
   "metadata": {},
   "source": [
    "### Model Stemp"
   ]
  },
  {
   "cell_type": "code",
   "execution_count": null,
   "id": "359feef8",
   "metadata": {},
   "outputs": [],
   "source": [
    "import numpy\n",
    "from datetime import datetime\n",
    "from array import array\n",
    "import sys\n",
    "sys.path.append(\"..\\..\\src\\py\\DSSAT_ST_standalone\")\n",
    "from stemp import model_stemp\n",
    "from stemp import init_stemp\n"
   ]
  }
 ],
 "metadata": {},
 "nbformat": 4,
 "nbformat_minor": 5
}
