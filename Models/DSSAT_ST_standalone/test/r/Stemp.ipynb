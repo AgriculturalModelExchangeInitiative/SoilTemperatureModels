{
 "cells": [
  {
   "cell_type": "markdown",
   "id": "91c1f1c6",
   "metadata": {},
   "source": [
    "# Automatic generation of Notebook using PyCropML\n",
    "    This notebook implements a crop model."
   ]
  },
  {
   "cell_type": "markdown",
   "id": "e00b87eb",
   "metadata": {},
   "source": [
    "### Model Stemp"
   ]
  },
  {
   "cell_type": "code",
   "execution_count": null,
   "id": "9ca0b068",
   "metadata": {},
   "outputs": [],
   "source": [
    "source(\"../../src/r/DSSAT_ST_standalone/stemp.r\")\n",
    "library(assertthat)\n"
   ]
  }
 ],
 "metadata": {},
 "nbformat": 4,
 "nbformat_minor": 5
}
