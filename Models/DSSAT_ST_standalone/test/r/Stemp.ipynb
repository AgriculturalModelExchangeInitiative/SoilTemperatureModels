{
 "cells": [
  {
   "cell_type": "markdown",
   "id": "d4e52c47",
   "metadata": {},
   "source": [
    "# Automatic generation of Notebook using PyCropML\n",
    "    This notebook implements a crop model."
   ]
  },
  {
   "cell_type": "markdown",
   "id": "e739bfc6",
   "metadata": {},
   "source": [
    "### Model Stemp"
   ]
  },
  {
   "cell_type": "code",
   "execution_count": null,
   "id": "98e386a8",
   "metadata": {},
   "outputs": [],
   "source": [
    "source(\"../../src/r/DSSAT_ST_standalone/stemp.r\")\n",
    "library(assertthat)\n"
   ]
  }
 ],
 "metadata": {},
 "nbformat": 4,
 "nbformat_minor": 5
}
