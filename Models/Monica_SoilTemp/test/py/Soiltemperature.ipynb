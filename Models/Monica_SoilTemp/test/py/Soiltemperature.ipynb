{
 "cells": [
  {
   "cell_type": "markdown",
   "id": "48b4bae4",
   "metadata": {},
   "source": [
    "# Automatic generation of Notebook using PyCropML\n",
    "    This notebook implements a crop model."
   ]
  },
  {
   "cell_type": "markdown",
   "id": "ccf87ab8",
   "metadata": {},
   "source": [
    "### Model Soiltemperature"
   ]
  },
  {
   "cell_type": "code",
   "execution_count": null,
   "id": "f3466183",
   "metadata": {},
   "outputs": [],
   "source": [
    "import numpy\n",
    "from datetime import datetime\n",
    "from array import array\n",
    "import sys\n",
    "sys.path.append(\"../../src/py/Monica_SoilTemp\")\n",
    "from soiltemperature import model_soiltemperature\n",
    "from soiltemperature import init_soiltemperature\n"
   ]
  }
 ],
 "metadata": {},
 "nbformat": 4,
 "nbformat_minor": 5
}
