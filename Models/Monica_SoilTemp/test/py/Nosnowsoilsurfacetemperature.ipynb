{
 "cells": [
  {
   "cell_type": "markdown",
   "id": "db1780c0",
   "metadata": {},
   "source": [
    "# Automatic generation of Notebook using PyCropML\n",
    "    This notebook implements a crop model."
   ]
  },
  {
   "cell_type": "markdown",
   "id": "0bcf4ffa",
   "metadata": {},
   "source": [
    "### Model Nosnowsoilsurfacetemperature"
   ]
  },
  {
   "cell_type": "code",
   "execution_count": null,
   "id": "86133885",
   "metadata": {},
   "outputs": [],
   "source": [
    "import numpy\n",
    "from datetime import datetime\n",
    "from array import array\n",
    "import sys\n",
    "sys.path.append(\"..\\..\\src\\py\\Monica_SoilTemp\")\n",
    "from nosnowsoilsurfacetemperature import model_nosnowsoilsurfacetemperature\n"
   ]
  }
 ],
 "metadata": {},
 "nbformat": 4,
 "nbformat_minor": 5
}
