{
 "cells": [
  {
   "cell_type": "markdown",
   "id": "e10c8764",
   "metadata": {},
   "source": [
    "# Automatic generation of Notebook using PyCropML\n",
    "    This notebook implements a crop model."
   ]
  },
  {
   "cell_type": "markdown",
   "id": "50652ab7",
   "metadata": {},
   "source": [
    "### Model Nosnowsoilsurfacetemperature"
   ]
  },
  {
   "cell_type": "code",
   "execution_count": null,
   "id": "fa71926b",
   "metadata": {},
   "outputs": [],
   "source": [
    "import numpy\n",
    "from datetime import datetime\n",
    "from array import array\n",
    "import sys\n",
    "sys.path.append(\"../../src/py/Monica_SoilTemp\")\n",
    "from nosnowsoilsurfacetemperature import model_nosnowsoilsurfacetemperature\n"
   ]
  }
 ],
 "metadata": {},
 "nbformat": 4,
 "nbformat_minor": 5
}
