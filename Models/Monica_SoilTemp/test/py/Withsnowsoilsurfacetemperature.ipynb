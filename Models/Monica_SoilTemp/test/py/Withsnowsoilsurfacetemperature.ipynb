{
 "cells": [
  {
   "cell_type": "markdown",
   "id": "c170baee",
   "metadata": {},
   "source": [
    "# Automatic generation of Notebook using PyCropML\n",
    "    This notebook implements a crop model."
   ]
  },
  {
   "cell_type": "markdown",
   "id": "b4d71dbf",
   "metadata": {},
   "source": [
    "### Model Withsnowsoilsurfacetemperature"
   ]
  },
  {
   "cell_type": "code",
   "execution_count": null,
   "id": "7ae41f1c",
   "metadata": {},
   "outputs": [],
   "source": [
    "import numpy\n",
    "from datetime import datetime\n",
    "from array import array\n",
    "import sys\n",
    "sys.path.append(\"../../src/py/Monica_SoilTemp\")\n",
    "from withsnowsoilsurfacetemperature import model_withsnowsoilsurfacetemperature\n"
   ]
  }
 ],
 "metadata": {},
 "nbformat": 4,
 "nbformat_minor": 5
}
