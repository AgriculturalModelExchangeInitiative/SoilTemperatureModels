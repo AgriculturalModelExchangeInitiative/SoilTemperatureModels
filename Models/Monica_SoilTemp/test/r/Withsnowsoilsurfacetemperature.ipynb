{
 "cells": [
  {
   "cell_type": "markdown",
   "id": "1f0e7709",
   "metadata": {},
   "source": [
    "# Automatic generation of Notebook using PyCropML\n",
    "    This notebook implements a crop model."
   ]
  },
  {
   "cell_type": "markdown",
   "id": "c751e5f0",
   "metadata": {},
   "source": [
    "### Model Withsnowsoilsurfacetemperature"
   ]
  },
  {
   "cell_type": "code",
   "execution_count": null,
   "id": "e4c3bb5c",
   "metadata": {},
   "outputs": [],
   "source": [
    "source(\"../../src/r/Monica_SoilTemp/withsnowsoilsurfacetemperature.r\")\n",
    "library(assertthat)\n"
   ]
  }
 ],
 "metadata": {},
 "nbformat": 4,
 "nbformat_minor": 5
}
