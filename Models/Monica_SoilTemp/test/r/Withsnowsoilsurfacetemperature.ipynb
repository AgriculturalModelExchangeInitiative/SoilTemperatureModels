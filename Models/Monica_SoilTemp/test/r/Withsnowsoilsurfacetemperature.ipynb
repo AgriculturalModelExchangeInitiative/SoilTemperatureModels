{
 "cells": [
  {
   "cell_type": "markdown",
   "id": "9345d47e",
   "metadata": {},
   "source": [
    "# Automatic generation of Notebook using PyCropML\n",
    "    This notebook implements a crop model."
   ]
  },
  {
   "cell_type": "markdown",
   "id": "d768e69a",
   "metadata": {},
   "source": [
    "### Model Withsnowsoilsurfacetemperature"
   ]
  },
  {
   "cell_type": "code",
   "execution_count": null,
   "id": "d1bd0b0e",
   "metadata": {},
   "outputs": [],
   "source": [
    "source(\"../../src/r/Monica_SoilTemp/withsnowsoilsurfacetemperature.r\")\n",
    "library(assertthat)\n"
   ]
  }
 ],
 "metadata": {},
 "nbformat": 4,
 "nbformat_minor": 5
}
