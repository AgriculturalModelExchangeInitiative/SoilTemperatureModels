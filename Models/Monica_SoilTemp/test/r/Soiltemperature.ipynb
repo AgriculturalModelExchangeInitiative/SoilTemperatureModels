{
 "cells": [
  {
   "cell_type": "markdown",
   "id": "b23ff0b5",
   "metadata": {},
   "source": [
    "# Automatic generation of Notebook using PyCropML\n",
    "    This notebook implements a crop model."
   ]
  },
  {
   "cell_type": "markdown",
   "id": "cf159965",
   "metadata": {},
   "source": [
    "### Model Soiltemperature"
   ]
  },
  {
   "cell_type": "code",
   "execution_count": null,
   "id": "93256b3f",
   "metadata": {},
   "outputs": [],
   "source": [
    "source(\"../../src/r/Monica_SoilTemp/soiltemperature.r\")\n",
    "library(assertthat)\n"
   ]
  }
 ],
 "metadata": {},
 "nbformat": 4,
 "nbformat_minor": 5
}
