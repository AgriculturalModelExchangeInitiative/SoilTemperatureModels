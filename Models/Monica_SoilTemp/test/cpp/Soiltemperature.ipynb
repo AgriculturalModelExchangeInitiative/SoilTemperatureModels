{
 "cells": [
  {
   "cell_type": "markdown",
   "id": "633cb046",
   "metadata": {},
   "source": [
    "# Automatic generation of Notebook using PyCropML\n",
    "    This notebook implements a crop model."
   ]
  },
  {
   "cell_type": "markdown",
   "id": "3ee72f60",
   "metadata": {},
   "source": [
    "### Model Soiltemperature"
   ]
  },
  {
   "cell_type": "code",
   "execution_count": null,
   "id": "c3182612",
   "metadata": {},
   "outputs": [],
   "source": [
    "#include \"../../src/cpp/Monica_SoilTemp/SoilTemperatureCompState.cpp\"\n",
    "#include \"../../src/cpp/Monica_SoilTemp/SoilTemperatureCompRate.cpp\"\n",
    "#include \"../../src/cpp/Monica_SoilTemp/SoilTemperatureCompAuxiliary.cpp\"\n",
    "#include \"../../src/cpp/Monica_SoilTemp/SoilTemperatureCompExogenous.cpp\"\n",
    "#include \"../../src/cpp/Monica_SoilTemp/SoilTemperature.cpp\"\n"
   ]
  },
  {
   "cell_type": "code",
   "execution_count": null,
   "id": "42413e0a",
   "metadata": {},
   "outputs": [],
   "source": [
    "class Test\n",
    "{\n",
    "    private:\n",
    "        SoiltemperaturecompState s;\n",
    "        SoiltemperaturecompState s1;\n",
    "        SoiltemperaturecompRate r;\n",
    "        SoiltemperaturecompAuxiliary a;\n",
    "        SoiltemperaturecompExogenous ex;\n",
    "        Soiltemperature mod;\n",
    "    public:\n",
    "}\n"
   ]
  },
  {
   "cell_type": "code",
   "execution_count": null,
   "id": "784da23a",
   "metadata": {},
   "outputs": [],
   "source": [
    "Test t;\n"
   ]
  }
 ],
 "metadata": {},
 "nbformat": 4,
 "nbformat_minor": 5
}
