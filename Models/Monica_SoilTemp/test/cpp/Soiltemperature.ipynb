{
 "cells": [
  {
   "cell_type": "markdown",
   "id": "5bedf4ef",
   "metadata": {},
   "source": [
    "# Automatic generation of Notebook using PyCropML\n",
    "    This notebook implements a crop model."
   ]
  },
  {
   "cell_type": "markdown",
   "id": "f70cc677",
   "metadata": {},
   "source": [
    "### Model Soiltemperature"
   ]
  },
  {
   "cell_type": "code",
   "execution_count": null,
   "id": "e823f7f7",
   "metadata": {},
   "outputs": [],
   "source": [
    "#include \"../../src/cpp/SoiltemperaturecompState.cpp\"\n",
    "#include \"../../src/cpp/SoiltemperaturecompRate.cpp\"\n",
    "#include \"../../src/cpp/SoiltemperaturecompAuxiliary.cpp\"\n",
    "#include \"../../src/cpp/SoiltemperaturecompExogenous.cpp\"\n",
    "#include \"../../src/cpp/Soiltemperature.cpp\"\n"
   ]
  },
  {
   "cell_type": "code",
   "execution_count": null,
   "id": "fcd54033",
   "metadata": {},
   "outputs": [],
   "source": [
    "class Test\n",
    "{\n",
    "    private:\n",
    "        SoiltemperaturecompState s;\n",
    "        SoiltemperaturecompState s1;\n",
    "        SoiltemperaturecompRate r;\n",
    "        SoiltemperaturecompAuxiliary a;\n",
    "        SoiltemperaturecompExogenous ex;\n",
    "        Soiltemperature mod;\n",
    "    public:\n",
    "}\n"
   ]
  },
  {
   "cell_type": "code",
   "execution_count": null,
   "id": "b50364a8",
   "metadata": {},
   "outputs": [],
   "source": [
    "Test t;\n"
   ]
  }
 ],
 "metadata": {},
 "nbformat": 4,
 "nbformat_minor": 5
}
