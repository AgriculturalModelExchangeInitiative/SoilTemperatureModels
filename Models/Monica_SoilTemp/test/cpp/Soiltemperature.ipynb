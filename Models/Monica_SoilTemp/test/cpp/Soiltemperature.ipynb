{
 "cells": [
  {
   "cell_type": "markdown",
   "id": "605d4884",
   "metadata": {},
   "source": [
    "# Automatic generation of Notebook using PyCropML\n",
    "    This notebook implements a crop model."
   ]
  },
  {
   "cell_type": "markdown",
   "id": "335a33fe",
   "metadata": {},
   "source": [
    "### Model Soiltemperature"
   ]
  },
  {
   "cell_type": "code",
   "execution_count": null,
   "id": "80843907",
   "metadata": {},
   "outputs": [],
   "source": [
    "#include \"..\\..\\src\\cpp\\Monica_SoilTemp\\SoilTemperatureCompState.cpp\"\n",
    "#include \"..\\..\\src\\cpp\\Monica_SoilTemp\\SoilTemperatureCompRate.cpp\"\n",
    "#include \"..\\..\\src\\cpp\\Monica_SoilTemp\\SoilTemperatureCompAuxiliary.cpp\"\n",
    "#include \"..\\..\\src\\cpp\\Monica_SoilTemp\\SoilTemperatureCompExogenous.cpp\"\n",
    "#include \"..\\..\\src\\cpp\\Monica_SoilTemp\\SoilTemperature.cpp\"\n"
   ]
  },
  {
   "cell_type": "code",
   "execution_count": null,
   "id": "c971e7b6",
   "metadata": {},
   "outputs": [],
   "source": [
    "class Test\n",
    "{\n",
    "    private:\n",
    "        SoiltemperaturecompState s;\n",
    "        SoiltemperaturecompState s1;\n",
    "        SoiltemperaturecompRate r;\n",
    "        SoiltemperaturecompAuxiliary a;\n",
    "        SoiltemperaturecompExogenous ex;\n",
    "        Soiltemperature mod;\n",
    "    public:\n",
    "}\n"
   ]
  },
  {
   "cell_type": "code",
   "execution_count": null,
   "id": "32aad6e9",
   "metadata": {},
   "outputs": [],
   "source": [
    "Test t;\n"
   ]
  }
 ],
 "metadata": {},
 "nbformat": 4,
 "nbformat_minor": 5
}
