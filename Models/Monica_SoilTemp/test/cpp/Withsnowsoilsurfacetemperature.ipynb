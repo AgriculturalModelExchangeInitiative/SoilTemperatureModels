{
 "cells": [
  {
   "cell_type": "markdown",
   "id": "73f09acc",
   "metadata": {},
   "source": [
    "# Automatic generation of Notebook using PyCropML\n",
    "    This notebook implements a crop model."
   ]
  },
  {
   "cell_type": "markdown",
   "id": "a4e4ac2f",
   "metadata": {},
   "source": [
    "### Model Withsnowsoilsurfacetemperature"
   ]
  },
  {
   "cell_type": "code",
   "execution_count": null,
   "id": "e07b3009",
   "metadata": {},
   "outputs": [],
   "source": [
    "#include \"../../src/cpp/SoiltemperaturecompState.cpp\"\n",
    "#include \"../../src/cpp/SoiltemperaturecompRate.cpp\"\n",
    "#include \"../../src/cpp/SoiltemperaturecompAuxiliary.cpp\"\n",
    "#include \"../../src/cpp/SoiltemperaturecompExogenous.cpp\"\n",
    "#include \"../../src/cpp/Withsnowsoilsurfacetemperature.cpp\"\n"
   ]
  },
  {
   "cell_type": "code",
   "execution_count": null,
   "id": "e524e55c",
   "metadata": {},
   "outputs": [],
   "source": [
    "class Test\n",
    "{\n",
    "    private:\n",
    "        SoiltemperaturecompState s;\n",
    "        SoiltemperaturecompState s1;\n",
    "        SoiltemperaturecompRate r;\n",
    "        SoiltemperaturecompAuxiliary a;\n",
    "        SoiltemperaturecompExogenous ex;\n",
    "        Withsnowsoilsurfacetemperature mod;\n",
    "    public:\n",
    "}\n"
   ]
  },
  {
   "cell_type": "code",
   "execution_count": null,
   "id": "f506a067",
   "metadata": {},
   "outputs": [],
   "source": [
    "Test t;\n"
   ]
  }
 ],
 "metadata": {},
 "nbformat": 4,
 "nbformat_minor": 5
}
