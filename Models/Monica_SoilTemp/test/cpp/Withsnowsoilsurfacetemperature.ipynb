{
 "cells": [
  {
   "cell_type": "markdown",
   "id": "85cca291",
   "metadata": {},
   "source": [
    "# Automatic generation of Notebook using PyCropML\n",
    "    This notebook implements a crop model."
   ]
  },
  {
   "cell_type": "markdown",
   "id": "6627993a",
   "metadata": {},
   "source": [
    "### Model Withsnowsoilsurfacetemperature"
   ]
  },
  {
   "cell_type": "code",
   "execution_count": null,
   "id": "56d7f328",
   "metadata": {},
   "outputs": [],
   "source": [
    "#include \"../../src/cpp/Monica_SoilTemp/SoilTemperatureCompState.cpp\"\n",
    "#include \"../../src/cpp/Monica_SoilTemp/SoilTemperatureCompRate.cpp\"\n",
    "#include \"../../src/cpp/Monica_SoilTemp/SoilTemperatureCompAuxiliary.cpp\"\n",
    "#include \"../../src/cpp/Monica_SoilTemp/SoilTemperatureCompExogenous.cpp\"\n",
    "#include \"../../src/cpp/Monica_SoilTemp/WithSnowSoilSurfaceTemperature.cpp\"\n"
   ]
  },
  {
   "cell_type": "code",
   "execution_count": null,
   "id": "08a9b62c",
   "metadata": {},
   "outputs": [],
   "source": [
    "class Test\n",
    "{\n",
    "    private:\n",
    "        SoiltemperaturecompState s;\n",
    "        SoiltemperaturecompState s1;\n",
    "        SoiltemperaturecompRate r;\n",
    "        SoiltemperaturecompAuxiliary a;\n",
    "        SoiltemperaturecompExogenous ex;\n",
    "        Withsnowsoilsurfacetemperature mod;\n",
    "    public:\n",
    "}\n"
   ]
  },
  {
   "cell_type": "code",
   "execution_count": null,
   "id": "e027547f",
   "metadata": {},
   "outputs": [],
   "source": [
    "Test t;\n"
   ]
  }
 ],
 "metadata": {},
 "nbformat": 4,
 "nbformat_minor": 5
}
