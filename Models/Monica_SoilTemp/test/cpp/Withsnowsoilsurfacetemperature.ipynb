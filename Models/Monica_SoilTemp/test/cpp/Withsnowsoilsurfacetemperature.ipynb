{
 "cells": [
  {
   "cell_type": "markdown",
   "id": "d78cea58",
   "metadata": {},
   "source": [
    "# Automatic generation of Notebook using PyCropML\n",
    "    This notebook implements a crop model."
   ]
  },
  {
   "cell_type": "markdown",
   "id": "5a59b661",
   "metadata": {},
   "source": [
    "### Model Withsnowsoilsurfacetemperature"
   ]
  },
  {
   "cell_type": "code",
   "execution_count": null,
   "id": "baf25233",
   "metadata": {},
   "outputs": [],
   "source": [
    "#include \"../../src/cpp/Monica_SoilTemp/SoilTemperatureCompState.cpp\"\n",
    "#include \"../../src/cpp/Monica_SoilTemp/SoilTemperatureCompRate.cpp\"\n",
    "#include \"../../src/cpp/Monica_SoilTemp/SoilTemperatureCompAuxiliary.cpp\"\n",
    "#include \"../../src/cpp/Monica_SoilTemp/SoilTemperatureCompExogenous.cpp\"\n",
    "#include \"../../src/cpp/Monica_SoilTemp/WithSnowSoilSurfaceTemperature.cpp\"\n"
   ]
  },
  {
   "cell_type": "code",
   "execution_count": null,
   "id": "7ffc641a",
   "metadata": {},
   "outputs": [],
   "source": [
    "class Test\n",
    "{\n",
    "    private:\n",
    "        SoiltemperaturecompState s;\n",
    "        SoiltemperaturecompState s1;\n",
    "        SoiltemperaturecompRate r;\n",
    "        SoiltemperaturecompAuxiliary a;\n",
    "        SoiltemperaturecompExogenous ex;\n",
    "        Withsnowsoilsurfacetemperature mod;\n",
    "    public:\n",
    "}\n"
   ]
  },
  {
   "cell_type": "code",
   "execution_count": null,
   "id": "a9a1d55e",
   "metadata": {},
   "outputs": [],
   "source": [
    "Test t;\n"
   ]
  }
 ],
 "metadata": {},
 "nbformat": 4,
 "nbformat_minor": 5
}
