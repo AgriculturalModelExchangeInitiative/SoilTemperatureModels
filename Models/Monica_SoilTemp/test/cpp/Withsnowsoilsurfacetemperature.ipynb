{
 "cells": [
  {
   "cell_type": "markdown",
   "id": "7584c999",
   "metadata": {},
   "source": [
    "# Automatic generation of Notebook using PyCropML\n",
    "    This notebook implements a crop model."
   ]
  },
  {
   "cell_type": "markdown",
   "id": "7a911953",
   "metadata": {},
   "source": [
    "### Model Withsnowsoilsurfacetemperature"
   ]
  },
  {
   "cell_type": "code",
   "execution_count": null,
   "id": "8d4b0146",
   "metadata": {},
   "outputs": [],
   "source": [
    "#include \"..\\..\\src\\cpp\\Monica_SoilTemp\\SoilTemperatureCompState.cpp\"\n",
    "#include \"..\\..\\src\\cpp\\Monica_SoilTemp\\SoilTemperatureCompRate.cpp\"\n",
    "#include \"..\\..\\src\\cpp\\Monica_SoilTemp\\SoilTemperatureCompAuxiliary.cpp\"\n",
    "#include \"..\\..\\src\\cpp\\Monica_SoilTemp\\SoilTemperatureCompExogenous.cpp\"\n",
    "#include \"..\\..\\src\\cpp\\Monica_SoilTemp\\WithSnowSoilSurfaceTemperature.cpp\"\n"
   ]
  },
  {
   "cell_type": "code",
   "execution_count": null,
   "id": "ef6e8437",
   "metadata": {},
   "outputs": [],
   "source": [
    "class Test\n",
    "{\n",
    "    private:\n",
    "        SoiltemperaturecompState s;\n",
    "        SoiltemperaturecompState s1;\n",
    "        SoiltemperaturecompRate r;\n",
    "        SoiltemperaturecompAuxiliary a;\n",
    "        SoiltemperaturecompExogenous ex;\n",
    "        Withsnowsoilsurfacetemperature mod;\n",
    "    public:\n",
    "}\n"
   ]
  },
  {
   "cell_type": "code",
   "execution_count": null,
   "id": "71ffd236",
   "metadata": {},
   "outputs": [],
   "source": [
    "Test t;\n"
   ]
  }
 ],
 "metadata": {},
 "nbformat": 4,
 "nbformat_minor": 5
}
