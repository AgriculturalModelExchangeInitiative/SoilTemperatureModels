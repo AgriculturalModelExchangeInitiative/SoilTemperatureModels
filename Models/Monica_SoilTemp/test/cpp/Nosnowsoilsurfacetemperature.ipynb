{
 "cells": [
  {
   "cell_type": "markdown",
   "id": "253ee160",
   "metadata": {},
   "source": [
    "# Automatic generation of Notebook using PyCropML\n",
    "    This notebook implements a crop model."
   ]
  },
  {
   "cell_type": "markdown",
   "id": "99605a88",
   "metadata": {},
   "source": [
    "### Model Nosnowsoilsurfacetemperature"
   ]
  },
  {
   "cell_type": "code",
   "execution_count": null,
   "id": "d584dbac",
   "metadata": {},
   "outputs": [],
   "source": [
    "#include \"..\\..\\src\\cpp\\Monica_SoilTemp\\SoilTemperatureCompState.cpp\"\n",
    "#include \"..\\..\\src\\cpp\\Monica_SoilTemp\\SoilTemperatureCompRate.cpp\"\n",
    "#include \"..\\..\\src\\cpp\\Monica_SoilTemp\\SoilTemperatureCompAuxiliary.cpp\"\n",
    "#include \"..\\..\\src\\cpp\\Monica_SoilTemp\\SoilTemperatureCompExogenous.cpp\"\n",
    "#include \"..\\..\\src\\cpp\\Monica_SoilTemp\\NoSnowSoilSurfaceTemperature.cpp\"\n"
   ]
  },
  {
   "cell_type": "code",
   "execution_count": null,
   "id": "2cbe4dd6",
   "metadata": {},
   "outputs": [],
   "source": [
    "class Test\n",
    "{\n",
    "    private:\n",
    "        SoiltemperaturecompState s;\n",
    "        SoiltemperaturecompState s1;\n",
    "        SoiltemperaturecompRate r;\n",
    "        SoiltemperaturecompAuxiliary a;\n",
    "        SoiltemperaturecompExogenous ex;\n",
    "        Nosnowsoilsurfacetemperature mod;\n",
    "    public:\n",
    "}\n"
   ]
  },
  {
   "cell_type": "code",
   "execution_count": null,
   "id": "a509cd59",
   "metadata": {},
   "outputs": [],
   "source": [
    "Test t;\n"
   ]
  }
 ],
 "metadata": {},
 "nbformat": 4,
 "nbformat_minor": 5
}
