{
 "cells": [
  {
   "cell_type": "markdown",
   "id": "d7461243",
   "metadata": {},
   "source": [
    "# Automatic generation of Notebook using PyCropML\n",
    "    This notebook implements a crop model."
   ]
  },
  {
   "cell_type": "markdown",
   "id": "d7324ea9",
   "metadata": {},
   "source": [
    "### Model Nosnowsoilsurfacetemperature"
   ]
  },
  {
   "cell_type": "code",
   "execution_count": null,
   "id": "6e32f22d",
   "metadata": {},
   "outputs": [],
   "source": [
    "#include \"../../src/cpp/Monica_SoilTemp/SoilTemperatureCompState.cpp\"\n",
    "#include \"../../src/cpp/Monica_SoilTemp/SoilTemperatureCompRate.cpp\"\n",
    "#include \"../../src/cpp/Monica_SoilTemp/SoilTemperatureCompAuxiliary.cpp\"\n",
    "#include \"../../src/cpp/Monica_SoilTemp/SoilTemperatureCompExogenous.cpp\"\n",
    "#include \"../../src/cpp/Monica_SoilTemp/NoSnowSoilSurfaceTemperature.cpp\"\n"
   ]
  },
  {
   "cell_type": "code",
   "execution_count": null,
   "id": "adaaf2e3",
   "metadata": {},
   "outputs": [],
   "source": [
    "class Test\n",
    "{\n",
    "    private:\n",
    "        SoiltemperaturecompState s;\n",
    "        SoiltemperaturecompState s1;\n",
    "        SoiltemperaturecompRate r;\n",
    "        SoiltemperaturecompAuxiliary a;\n",
    "        SoiltemperaturecompExogenous ex;\n",
    "        Nosnowsoilsurfacetemperature mod;\n",
    "    public:\n",
    "}\n"
   ]
  },
  {
   "cell_type": "code",
   "execution_count": null,
   "id": "4e064096",
   "metadata": {},
   "outputs": [],
   "source": [
    "Test t;\n"
   ]
  }
 ],
 "metadata": {},
 "nbformat": 4,
 "nbformat_minor": 5
}
