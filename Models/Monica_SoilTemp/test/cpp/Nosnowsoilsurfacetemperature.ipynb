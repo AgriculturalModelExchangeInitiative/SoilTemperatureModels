{
 "cells": [
  {
   "cell_type": "markdown",
   "id": "952d6a94",
   "metadata": {},
   "source": [
    "# Automatic generation of Notebook using PyCropML\n",
    "    This notebook implements a crop model."
   ]
  },
  {
   "cell_type": "markdown",
   "id": "a8fed1d2",
   "metadata": {},
   "source": [
    "### Model Nosnowsoilsurfacetemperature"
   ]
  },
  {
   "cell_type": "code",
   "execution_count": null,
   "id": "4b17a047",
   "metadata": {},
   "outputs": [],
   "source": [
    "#include \"../../src/cpp/Monica_SoilTemp/SoilTemperatureCompState.cpp\"\n",
    "#include \"../../src/cpp/Monica_SoilTemp/SoilTemperatureCompRate.cpp\"\n",
    "#include \"../../src/cpp/Monica_SoilTemp/SoilTemperatureCompAuxiliary.cpp\"\n",
    "#include \"../../src/cpp/Monica_SoilTemp/SoilTemperatureCompExogenous.cpp\"\n",
    "#include \"../../src/cpp/Monica_SoilTemp/NoSnowSoilSurfaceTemperature.cpp\"\n"
   ]
  },
  {
   "cell_type": "code",
   "execution_count": null,
   "id": "067af8c0",
   "metadata": {},
   "outputs": [],
   "source": [
    "class Test\n",
    "{\n",
    "    private:\n",
    "        SoiltemperaturecompState s;\n",
    "        SoiltemperaturecompState s1;\n",
    "        SoiltemperaturecompRate r;\n",
    "        SoiltemperaturecompAuxiliary a;\n",
    "        SoiltemperaturecompExogenous ex;\n",
    "        Nosnowsoilsurfacetemperature mod;\n",
    "    public:\n",
    "}\n"
   ]
  },
  {
   "cell_type": "code",
   "execution_count": null,
   "id": "13e2ccae",
   "metadata": {},
   "outputs": [],
   "source": [
    "Test t;\n"
   ]
  }
 ],
 "metadata": {},
 "nbformat": 4,
 "nbformat_minor": 5
}
