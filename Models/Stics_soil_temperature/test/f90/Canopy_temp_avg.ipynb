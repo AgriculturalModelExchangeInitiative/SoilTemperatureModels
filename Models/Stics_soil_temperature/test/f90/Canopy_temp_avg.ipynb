{
 "cells": [
  {
   "cell_type": "markdown",
   "id": "d7d852b1",
   "metadata": {},
   "source": [
    "# Automatic generation of Notebook using PyCropML\n",
    "    This notebook implements a crop model."
   ]
  },
  {
   "cell_type": "markdown",
   "id": "1d03edec",
   "metadata": {},
   "source": [
    "### Model Canopy_temp_avg"
   ]
  },
  {
   "cell_type": "code",
   "execution_count": null,
   "id": "394adfa7",
   "metadata": {},
   "outputs": [],
   "source": [
    "MODULE Canopy_temp_avgmod\n",
    "    IMPLICIT NONE\n",
    "CONTAINS\n",
    "\n",
    "    SUBROUTINE model_canopy_temp_avg(min_canopy_temp, &\n",
    "        max_canopy_temp, &\n",
    "        canopy_temp_avg)\n",
    "        IMPLICIT NONE\n",
    "        INTEGER:: i_cyml_r\n",
    "        REAL, INTENT(IN) :: min_canopy_temp\n",
    "        REAL, INTENT(IN) :: max_canopy_temp\n",
    "        REAL, INTENT(OUT) :: canopy_temp_avg\n",
    "        !- Name: canopy_temp_avg -Version: 1.0, -Time step: 1\n",
    "        !- Description:\n",
    "    !            * Title: canopy_temp_avg model\n",
    "    !            * Authors: None\n",
    "    !            * Reference: doi:http://dx.doi.org/10.1016/j.agrformet.2014.05.002\n",
    "    !            * Institution: INRAE\n",
    "    !            * ExtendedDescription: None\n",
    "    !            * ShortDescription: None\n",
    "        !- inputs:\n",
    "    !            * name: min_canopy_temp\n",
    "    !                          ** description : current minimum temperature\n",
    "    !                          ** inputtype : variable\n",
    "    !                          ** variablecategory : exogenous\n",
    "    !                          ** datatype : DOUBLE\n",
    "    !                          ** max : 50.0\n",
    "    !                          ** min : -50.0\n",
    "    !                          ** default : 0.0\n",
    "    !                          ** unit : degC\n",
    "    !            * name: max_canopy_temp\n",
    "    !                          ** description : current maximum temperature\n",
    "    !                          ** inputtype : variable\n",
    "    !                          ** variablecategory : exogenous\n",
    "    !                          ** datatype : DOUBLE\n",
    "    !                          ** max : 50.0\n",
    "    !                          ** min : -50.0\n",
    "    !                          ** default : 0.0\n",
    "    !                          ** unit : degC\n",
    "        !- outputs:\n",
    "    !            * name: canopy_temp_avg\n",
    "    !                          ** description : current temperature amplitude\n",
    "    !                          ** datatype : DOUBLE\n",
    "    !                          ** variablecategory : state\n",
    "    !                          ** max : 100.0\n",
    "    !                          ** min : 0.0\n",
    "    !                          ** unit : degC\n",
    "        canopy_temp_avg = (max_canopy_temp + min_canopy_temp) / 2\n",
    "    END SUBROUTINE model_canopy_temp_avg\n",
    "\n",
    "END MODULE\n",
    "PROGRAM test\n",
    "    USE Canopy_temp_avgmod\n",
    "\n",
    "END PROGRAM\n"
   ]
  }
 ],
 "metadata": {},
 "nbformat": 4,
 "nbformat_minor": 5
}
