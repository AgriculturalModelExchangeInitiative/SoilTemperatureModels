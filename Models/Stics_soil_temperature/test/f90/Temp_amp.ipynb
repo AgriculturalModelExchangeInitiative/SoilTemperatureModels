{
 "cells": [
  {
   "cell_type": "markdown",
   "id": "316cf0f1",
   "metadata": {},
   "source": [
    "# Automatic generation of Notebook using PyCropML\n",
    "    This notebook implements a crop model."
   ]
  },
  {
   "cell_type": "markdown",
   "id": "6f6139d8",
   "metadata": {},
   "source": [
    "### Model Temp_amp"
   ]
  },
  {
   "cell_type": "code",
   "execution_count": null,
   "id": "e5445986",
   "metadata": {},
   "outputs": [],
   "source": [
    "MODULE Temp_ampmod\n",
    "    IMPLICIT NONE\n",
    "CONTAINS\n",
    "\n",
    "    SUBROUTINE model_temp_amp(min_temp, &\n",
    "        max_temp, &\n",
    "        temp_amp)\n",
    "        IMPLICIT NONE\n",
    "        INTEGER:: i_cyml_r\n",
    "        REAL, INTENT(IN) :: min_temp\n",
    "        REAL, INTENT(IN) :: max_temp\n",
    "        REAL, INTENT(OUT) :: temp_amp\n",
    "        !- Name: temp_amp -Version: 1.0, -Time step: 1\n",
    "        !- Description:\n",
    "    !            * Title: temp_amp model\n",
    "    !            * Authors: None\n",
    "    !            * Reference: doi:http://dx.doi.org/10.1016/j.agrformet.2014.05.002\n",
    "    !            * Institution: INRAE\n",
    "    !            * ExtendedDescription: None\n",
    "    !            * ShortDescription: None\n",
    "        !- inputs:\n",
    "    !            * name: min_temp\n",
    "    !                          ** description : current minimum temperature\n",
    "    !                          ** inputtype : variable\n",
    "    !                          ** variablecategory : exogenous\n",
    "    !                          ** datatype : DOUBLE\n",
    "    !                          ** max : 50.0\n",
    "    !                          ** min : -50.0\n",
    "    !                          ** default : 0.0\n",
    "    !                          ** unit : degC\n",
    "    !            * name: max_temp\n",
    "    !                          ** description : current maximum temperature\n",
    "    !                          ** inputtype : variable\n",
    "    !                          ** variablecategory : exogenous\n",
    "    !                          ** datatype : DOUBLE\n",
    "    !                          ** max : 50.0\n",
    "    !                          ** min : -50.0\n",
    "    !                          ** default : 0.0\n",
    "    !                          ** unit : degC\n",
    "        !- outputs:\n",
    "    !            * name: temp_amp\n",
    "    !                          ** description : current temperature amplitude\n",
    "    !                          ** datatype : DOUBLE\n",
    "    !                          ** variablecategory : state\n",
    "    !                          ** max : 100.0\n",
    "    !                          ** min : 0.0\n",
    "    !                          ** unit : degC\n",
    "        temp_amp = max_temp - min_temp\n",
    "    END SUBROUTINE model_temp_amp\n",
    "\n",
    "END MODULE\n",
    "PROGRAM test\n",
    "    USE Temp_ampmod\n",
    "\n",
    "END PROGRAM\n"
   ]
  }
 ],
 "metadata": {},
 "nbformat": 4,
 "nbformat_minor": 5
}
