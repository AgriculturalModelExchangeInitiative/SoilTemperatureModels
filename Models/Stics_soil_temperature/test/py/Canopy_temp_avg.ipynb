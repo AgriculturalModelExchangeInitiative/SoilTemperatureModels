{
 "cells": [
  {
   "cell_type": "markdown",
   "id": "67dd5758",
   "metadata": {},
   "source": [
    "# Automatic generation of Notebook using PyCropML\n",
    "    This notebook implements a crop model."
   ]
  },
  {
   "cell_type": "markdown",
   "id": "77dcff29",
   "metadata": {},
   "source": [
    "### Model Canopy_temp_avg"
   ]
  },
  {
   "cell_type": "code",
   "execution_count": null,
   "id": "e05cadb8",
   "metadata": {},
   "outputs": [],
   "source": [
    "import numpy\n",
    "from datetime import datetime\n",
    "from array import array\n",
    "import sys\n",
    "sys.path.append(\"../../src/py/Stics_soil_temperature\")\n",
    "from canopy_temp_avg import model_canopy_temp_avg\n"
   ]
  }
 ],
 "metadata": {},
 "nbformat": 4,
 "nbformat_minor": 5
}
