{
 "cells": [
  {
   "cell_type": "markdown",
   "id": "e6cb6fe0",
   "metadata": {},
   "source": [
    "# Automatic generation of Notebook using PyCropML\n",
    "    This notebook implements a crop model."
   ]
  },
  {
   "cell_type": "markdown",
   "id": "6f7480b6",
   "metadata": {},
   "source": [
    "### Model Canopy_temp_avg"
   ]
  },
  {
   "cell_type": "code",
   "execution_count": null,
   "id": "6c6b7e78",
   "metadata": {},
   "outputs": [],
   "source": [
    "import numpy\n",
    "from datetime import datetime\n",
    "from array import array\n",
    "import sys\n",
    "sys.path.append(\"..\\..\\src\\py\\Stics_soil_temperature\")\n",
    "from canopy_temp_avg import model_canopy_temp_avg\n"
   ]
  }
 ],
 "metadata": {},
 "nbformat": 4,
 "nbformat_minor": 5
}
