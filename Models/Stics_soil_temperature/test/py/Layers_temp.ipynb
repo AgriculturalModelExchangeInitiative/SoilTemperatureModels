{
 "cells": [
  {
   "cell_type": "markdown",
   "id": "c23efd10",
   "metadata": {},
   "source": [
    "# Automatic generation of Notebook using PyCropML\n",
    "    This notebook implements a crop model."
   ]
  },
  {
   "cell_type": "markdown",
   "id": "c26c2c9d",
   "metadata": {},
   "source": [
    "### Model Layers_temp"
   ]
  },
  {
   "cell_type": "code",
   "execution_count": null,
   "id": "db4a0a34",
   "metadata": {},
   "outputs": [],
   "source": [
    "import numpy\n",
    "from datetime import datetime\n",
    "from array import array\n",
    "import sys\n",
    "sys.path.append(\"..\\..\\src\\py\\Stics_soil_temperature\")\n",
    "from layers_temp import model_layers_temp\n"
   ]
  }
 ],
 "metadata": {},
 "nbformat": 4,
 "nbformat_minor": 5
}
