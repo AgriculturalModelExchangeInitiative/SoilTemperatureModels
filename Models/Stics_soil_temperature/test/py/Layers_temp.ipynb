{
 "cells": [
  {
   "cell_type": "markdown",
   "id": "bd99a6c3",
   "metadata": {},
   "source": [
    "# Automatic generation of Notebook using PyCropML\n",
    "    This notebook implements a crop model."
   ]
  },
  {
   "cell_type": "markdown",
   "id": "f2e101bb",
   "metadata": {},
   "source": [
    "### Model Layers_temp"
   ]
  },
  {
   "cell_type": "code",
   "execution_count": null,
   "id": "342573a7",
   "metadata": {},
   "outputs": [],
   "source": [
    "import numpy\n",
    "from datetime import datetime\n",
    "from array import array\n",
    "import sys\n",
    "sys.path.append(\"../../src/py/Stics_soil_temperature\")\n",
    "from layers_temp import model_layers_temp\n"
   ]
  }
 ],
 "metadata": {},
 "nbformat": 4,
 "nbformat_minor": 5
}
