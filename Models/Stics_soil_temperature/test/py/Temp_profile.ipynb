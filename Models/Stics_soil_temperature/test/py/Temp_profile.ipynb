{
 "cells": [
  {
   "cell_type": "markdown",
   "id": "bce1a389",
   "metadata": {},
   "source": [
    "# Automatic generation of Notebook using PyCropML\n",
    "    This notebook implements a crop model."
   ]
  },
  {
   "cell_type": "markdown",
   "id": "8e623406",
   "metadata": {},
   "source": [
    "### Model Temp_profile"
   ]
  },
  {
   "cell_type": "code",
   "execution_count": null,
   "id": "2e569925",
   "metadata": {},
   "outputs": [],
   "source": [
    "import numpy\n",
    "from datetime import datetime\n",
    "from array import array\n",
    "import sys\n",
    "sys.path.append(\"..\\..\\src\\py\\Stics_soil_temperature\")\n",
    "from temp_profile import model_temp_profile\n",
    "from temp_profile import init_temp_profile\n"
   ]
  }
 ],
 "metadata": {},
 "nbformat": 4,
 "nbformat_minor": 5
}
