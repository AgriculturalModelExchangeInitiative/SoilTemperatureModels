{
 "cells": [
  {
   "cell_type": "markdown",
   "id": "79ac3f55",
   "metadata": {},
   "source": [
    "# Automatic generation of Notebook using PyCropML\n",
    "    This notebook implements a crop model."
   ]
  },
  {
   "cell_type": "markdown",
   "id": "2b710022",
   "metadata": {},
   "source": [
    "### Model Update"
   ]
  },
  {
   "cell_type": "code",
   "execution_count": null,
   "id": "9207b301",
   "metadata": {},
   "outputs": [],
   "source": [
    "import numpy\n",
    "from datetime import datetime\n",
    "from array import array\n",
    "import sys\n",
    "sys.path.append(\"..\\..\\src\\py\\Stics_soil_temperature\")\n",
    "from update import model_update\n"
   ]
  }
 ],
 "metadata": {},
 "nbformat": 4,
 "nbformat_minor": 5
}
