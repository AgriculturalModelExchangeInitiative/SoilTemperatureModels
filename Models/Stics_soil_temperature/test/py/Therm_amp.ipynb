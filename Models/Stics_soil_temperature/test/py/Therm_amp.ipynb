{
 "cells": [
  {
   "cell_type": "markdown",
   "id": "9405fb02",
   "metadata": {},
   "source": [
    "# Automatic generation of Notebook using PyCropML\n",
    "    This notebook implements a crop model."
   ]
  },
  {
   "cell_type": "markdown",
   "id": "aa60ed7c",
   "metadata": {},
   "source": [
    "### Model Therm_amp"
   ]
  },
  {
   "cell_type": "code",
   "execution_count": null,
   "id": "28120115",
   "metadata": {},
   "outputs": [],
   "source": [
    "import numpy\n",
    "from datetime import datetime\n",
    "from array import array\n",
    "import sys\n",
    "sys.path.append(\"../../src/py/Stics_soil_temperature\")\n",
    "from therm_amp import model_therm_amp\n"
   ]
  }
 ],
 "metadata": {},
 "nbformat": 4,
 "nbformat_minor": 5
}
