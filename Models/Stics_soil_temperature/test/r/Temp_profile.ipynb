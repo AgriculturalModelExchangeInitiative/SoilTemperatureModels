{
 "cells": [
  {
   "cell_type": "markdown",
   "id": "d7029d5c",
   "metadata": {},
   "source": [
    "# Automatic generation of Notebook using PyCropML\n",
    "    This notebook implements a crop model."
   ]
  },
  {
   "cell_type": "markdown",
   "id": "15c2fbff",
   "metadata": {},
   "source": [
    "### Model Temp_profile"
   ]
  },
  {
   "cell_type": "code",
   "execution_count": null,
   "id": "ed78dd12",
   "metadata": {},
   "outputs": [],
   "source": [
    "source(\"../../src/r/Stics_soil_temperature/temp_profile.r\")\n",
    "library(assertthat)\n"
   ]
  }
 ],
 "metadata": {},
 "nbformat": 4,
 "nbformat_minor": 5
}
