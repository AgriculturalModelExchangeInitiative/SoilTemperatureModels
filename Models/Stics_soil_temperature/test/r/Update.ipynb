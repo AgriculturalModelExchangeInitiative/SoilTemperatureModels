{
 "cells": [
  {
   "cell_type": "markdown",
   "id": "ffa6e1d5",
   "metadata": {},
   "source": [
    "# Automatic generation of Notebook using PyCropML\n",
    "    This notebook implements a crop model."
   ]
  },
  {
   "cell_type": "markdown",
   "id": "20fe5732",
   "metadata": {},
   "source": [
    "### Model Update"
   ]
  },
  {
   "cell_type": "code",
   "execution_count": null,
   "id": "17d8524e",
   "metadata": {},
   "outputs": [],
   "source": [
    "source(\"../../src/r/Stics_soil_temperature/update.r\")\n",
    "library(assertthat)\n"
   ]
  }
 ],
 "metadata": {},
 "nbformat": 4,
 "nbformat_minor": 5
}
