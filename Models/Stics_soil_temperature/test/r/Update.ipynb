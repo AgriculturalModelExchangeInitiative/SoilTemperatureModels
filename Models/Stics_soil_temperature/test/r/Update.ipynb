{
 "cells": [
  {
   "cell_type": "markdown",
   "id": "5e1f46b1",
   "metadata": {},
   "source": [
    "# Automatic generation of Notebook using PyCropML\n",
    "    This notebook implements a crop model."
   ]
  },
  {
   "cell_type": "markdown",
   "id": "a82efdca",
   "metadata": {},
   "source": [
    "### Model Update"
   ]
  },
  {
   "cell_type": "code",
   "execution_count": null,
   "id": "928153f8",
   "metadata": {},
   "outputs": [],
   "source": [
    "source(\"../../src/r/Stics_soil_temperature/update.r\")\n",
    "library(assertthat)\n"
   ]
  }
 ],
 "metadata": {},
 "nbformat": 4,
 "nbformat_minor": 5
}
