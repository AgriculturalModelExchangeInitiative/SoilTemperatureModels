{
 "cells": [
  {
   "cell_type": "markdown",
   "id": "1860265d",
   "metadata": {},
   "source": [
    "# Automatic generation of Notebook using PyCropML\n",
    "    This notebook implements a crop model."
   ]
  },
  {
   "cell_type": "markdown",
   "id": "cb157700",
   "metadata": {},
   "source": [
    "### Model Update"
   ]
  },
  {
   "cell_type": "code",
   "execution_count": null,
   "id": "967d3428",
   "metadata": {},
   "outputs": [],
   "source": [
    "source(\"../../src/r/Stics_soil_temperature/update.r\")\n",
    "library(assertthat)\n"
   ]
  }
 ],
 "metadata": {},
 "nbformat": 4,
 "nbformat_minor": 5
}
