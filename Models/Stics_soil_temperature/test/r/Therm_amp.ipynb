{
 "cells": [
  {
   "cell_type": "markdown",
   "id": "06eff471",
   "metadata": {},
   "source": [
    "# Automatic generation of Notebook using PyCropML\n",
    "    This notebook implements a crop model."
   ]
  },
  {
   "cell_type": "markdown",
   "id": "0809b979",
   "metadata": {},
   "source": [
    "### Model Therm_amp"
   ]
  },
  {
   "cell_type": "code",
   "execution_count": null,
   "id": "18818ede",
   "metadata": {},
   "outputs": [],
   "source": [
    "source(\"../../src/r/Stics_soil_temperature/therm_amp.r\")\n",
    "library(assertthat)\n"
   ]
  }
 ],
 "metadata": {},
 "nbformat": 4,
 "nbformat_minor": 5
}
