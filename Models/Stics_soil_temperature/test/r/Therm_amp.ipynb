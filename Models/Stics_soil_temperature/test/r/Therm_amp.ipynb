{
 "cells": [
  {
   "cell_type": "markdown",
   "id": "b26825a1",
   "metadata": {},
   "source": [
    "# Automatic generation of Notebook using PyCropML\n",
    "    This notebook implements a crop model."
   ]
  },
  {
   "cell_type": "markdown",
   "id": "055051b4",
   "metadata": {},
   "source": [
    "### Model Therm_amp"
   ]
  },
  {
   "cell_type": "code",
   "execution_count": null,
   "id": "e683eb6b",
   "metadata": {},
   "outputs": [],
   "source": [
    "source(\"../../src/r/Stics_soil_temperature/therm_amp.r\")\n",
    "library(assertthat)\n"
   ]
  }
 ],
 "metadata": {},
 "nbformat": 4,
 "nbformat_minor": 5
}
