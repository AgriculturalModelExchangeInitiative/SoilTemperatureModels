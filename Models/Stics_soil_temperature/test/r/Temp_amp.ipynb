{
 "cells": [
  {
   "cell_type": "markdown",
   "id": "36972ee8",
   "metadata": {},
   "source": [
    "# Automatic generation of Notebook using PyCropML\n",
    "    This notebook implements a crop model."
   ]
  },
  {
   "cell_type": "markdown",
   "id": "d965a39f",
   "metadata": {},
   "source": [
    "### Model Temp_amp"
   ]
  },
  {
   "cell_type": "code",
   "execution_count": null,
   "id": "510ef4ac",
   "metadata": {},
   "outputs": [],
   "source": [
    "source(\"../../src/r/Stics_soil_temperature/temp_amp.r\")\n",
    "library(assertthat)\n"
   ]
  }
 ],
 "metadata": {},
 "nbformat": 4,
 "nbformat_minor": 5
}
