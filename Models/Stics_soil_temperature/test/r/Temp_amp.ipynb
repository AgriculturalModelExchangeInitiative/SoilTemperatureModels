{
 "cells": [
  {
   "cell_type": "markdown",
   "id": "8dd51298",
   "metadata": {},
   "source": [
    "# Automatic generation of Notebook using PyCropML\n",
    "    This notebook implements a crop model."
   ]
  },
  {
   "cell_type": "markdown",
   "id": "607a0316",
   "metadata": {},
   "source": [
    "### Model Temp_amp"
   ]
  },
  {
   "cell_type": "code",
   "execution_count": null,
   "id": "0a95c698",
   "metadata": {},
   "outputs": [],
   "source": [
    "source(\"../../src/r/Stics_soil_temperature/temp_amp.r\")\n",
    "library(assertthat)\n"
   ]
  }
 ],
 "metadata": {},
 "nbformat": 4,
 "nbformat_minor": 5
}
