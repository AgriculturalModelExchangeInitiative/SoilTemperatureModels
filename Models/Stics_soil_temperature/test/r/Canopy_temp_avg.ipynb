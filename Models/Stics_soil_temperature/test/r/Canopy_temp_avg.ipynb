{
 "cells": [
  {
   "cell_type": "markdown",
   "id": "a8398b81",
   "metadata": {},
   "source": [
    "# Automatic generation of Notebook using PyCropML\n",
    "    This notebook implements a crop model."
   ]
  },
  {
   "cell_type": "markdown",
   "id": "f0a39414",
   "metadata": {},
   "source": [
    "### Model Canopy_temp_avg"
   ]
  },
  {
   "cell_type": "code",
   "execution_count": null,
   "id": "c9101f86",
   "metadata": {},
   "outputs": [],
   "source": [
    "source(\"../../src/r/Stics_soil_temperature/canopy_temp_avg.r\")\n",
    "library(assertthat)\n"
   ]
  }
 ],
 "metadata": {},
 "nbformat": 4,
 "nbformat_minor": 5
}
