{
 "cells": [
  {
   "cell_type": "markdown",
   "id": "d76b0345",
   "metadata": {},
   "source": [
    "# Automatic generation of Notebook using PyCropML\n",
    "    This notebook implements a crop model."
   ]
  },
  {
   "cell_type": "markdown",
   "id": "f900dbf1",
   "metadata": {},
   "source": [
    "### Model Layers_temp"
   ]
  },
  {
   "cell_type": "code",
   "execution_count": null,
   "id": "8994a2ca",
   "metadata": {},
   "outputs": [],
   "source": [
    "source(\"../../src/r/Stics_soil_temperature/layers_temp.r\")\n",
    "library(assertthat)\n"
   ]
  }
 ],
 "metadata": {},
 "nbformat": 4,
 "nbformat_minor": 5
}
