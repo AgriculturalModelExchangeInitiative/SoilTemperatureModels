{
 "cells": [
  {
   "cell_type": "markdown",
   "id": "311c17a3",
   "metadata": {},
   "source": [
    "# Automatic generation of Notebook using PyCropML\n",
    "    This notebook implements a crop model."
   ]
  },
  {
   "cell_type": "markdown",
   "id": "56f68b3d",
   "metadata": {},
   "source": [
    "### Model Layers_temp"
   ]
  },
  {
   "cell_type": "code",
   "execution_count": null,
   "id": "7d8f432c",
   "metadata": {},
   "outputs": [],
   "source": [
    "source(\"../../src/r/Stics_soil_temperature/layers_temp.r\")\n",
    "library(assertthat)\n"
   ]
  }
 ],
 "metadata": {},
 "nbformat": 4,
 "nbformat_minor": 5
}
