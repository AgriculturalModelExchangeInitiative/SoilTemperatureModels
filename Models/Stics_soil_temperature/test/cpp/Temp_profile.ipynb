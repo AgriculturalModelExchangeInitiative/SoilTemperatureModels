{
 "cells": [
  {
   "cell_type": "markdown",
   "id": "1d5d60c0",
   "metadata": {},
   "source": [
    "# Automatic generation of Notebook using PyCropML\n",
    "    This notebook implements a crop model."
   ]
  },
  {
   "cell_type": "markdown",
   "id": "ed0520ab",
   "metadata": {},
   "source": [
    "### Model Temp_profile"
   ]
  },
  {
   "cell_type": "code",
   "execution_count": null,
   "id": "9e110417",
   "metadata": {},
   "outputs": [],
   "source": [
    "#include \"../../src/cpp/Stics_soil_temperature/soil_tempState.cpp\"\n",
    "#include \"../../src/cpp/Stics_soil_temperature/soil_tempRate.cpp\"\n",
    "#include \"../../src/cpp/Stics_soil_temperature/soil_tempAuxiliary.cpp\"\n",
    "#include \"../../src/cpp/Stics_soil_temperature/soil_tempExogenous.cpp\"\n",
    "#include \"../../src/cpp/Stics_soil_temperature/temp_profile.cpp\"\n"
   ]
  },
  {
   "cell_type": "code",
   "execution_count": null,
   "id": "ec062c2f",
   "metadata": {},
   "outputs": [],
   "source": [
    "class Test\n",
    "{\n",
    "    private:\n",
    "        Soil_tempState s;\n",
    "        Soil_tempState s1;\n",
    "        Soil_tempRate r;\n",
    "        Soil_tempAuxiliary a;\n",
    "        Soil_tempExogenous ex;\n",
    "        Temp_profile mod;\n",
    "    public:\n",
    "}\n"
   ]
  },
  {
   "cell_type": "code",
   "execution_count": null,
   "id": "dc478916",
   "metadata": {},
   "outputs": [],
   "source": [
    "Test t;\n"
   ]
  }
 ],
 "metadata": {},
 "nbformat": 4,
 "nbformat_minor": 5
}
