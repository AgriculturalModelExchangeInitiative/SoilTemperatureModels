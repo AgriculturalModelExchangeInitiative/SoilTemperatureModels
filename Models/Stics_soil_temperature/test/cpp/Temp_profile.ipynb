{
 "cells": [
  {
   "cell_type": "markdown",
   "id": "e9364765",
   "metadata": {},
   "source": [
    "# Automatic generation of Notebook using PyCropML\n",
    "    This notebook implements a crop model."
   ]
  },
  {
   "cell_type": "markdown",
   "id": "be7fa614",
   "metadata": {},
   "source": [
    "### Model Temp_profile"
   ]
  },
  {
   "cell_type": "code",
   "execution_count": null,
   "id": "74092217",
   "metadata": {},
   "outputs": [],
   "source": [
    "#include \"..\\..\\src\\cpp\\Stics_soil_temperature\\soil_tempState.cpp\"\n",
    "#include \"..\\..\\src\\cpp\\Stics_soil_temperature\\soil_tempRate.cpp\"\n",
    "#include \"..\\..\\src\\cpp\\Stics_soil_temperature\\soil_tempAuxiliary.cpp\"\n",
    "#include \"..\\..\\src\\cpp\\Stics_soil_temperature\\soil_tempExogenous.cpp\"\n",
    "#include \"..\\..\\src\\cpp\\Stics_soil_temperature\\temp_profile.cpp\"\n"
   ]
  },
  {
   "cell_type": "code",
   "execution_count": null,
   "id": "7c9eb21d",
   "metadata": {},
   "outputs": [],
   "source": [
    "class Test\n",
    "{\n",
    "    private:\n",
    "        Soil_tempState s;\n",
    "        Soil_tempState s1;\n",
    "        Soil_tempRate r;\n",
    "        Soil_tempAuxiliary a;\n",
    "        Soil_tempExogenous ex;\n",
    "        Temp_profile mod;\n",
    "    public:\n",
    "}\n"
   ]
  },
  {
   "cell_type": "code",
   "execution_count": null,
   "id": "382abc49",
   "metadata": {},
   "outputs": [],
   "source": [
    "Test t;\n"
   ]
  }
 ],
 "metadata": {},
 "nbformat": 4,
 "nbformat_minor": 5
}
