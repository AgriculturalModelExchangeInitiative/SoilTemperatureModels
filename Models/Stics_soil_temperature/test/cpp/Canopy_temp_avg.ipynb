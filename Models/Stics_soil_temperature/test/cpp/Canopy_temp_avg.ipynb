{
 "cells": [
  {
   "cell_type": "markdown",
   "id": "48ade608",
   "metadata": {},
   "source": [
    "# Automatic generation of Notebook using PyCropML\n",
    "    This notebook implements a crop model."
   ]
  },
  {
   "cell_type": "markdown",
   "id": "5e4edf81",
   "metadata": {},
   "source": [
    "### Model Canopy_temp_avg"
   ]
  },
  {
   "cell_type": "code",
   "execution_count": null,
   "id": "36d64a3e",
   "metadata": {},
   "outputs": [],
   "source": [
    "#include \"..\\..\\src\\cpp\\Stics_soil_temperature\\Soil_tempState.cpp\"\n",
    "#include \"..\\..\\src\\cpp\\Stics_soil_temperature\\Soil_tempRate.cpp\"\n",
    "#include \"..\\..\\src\\cpp\\Stics_soil_temperature\\Soil_tempAuxiliary.cpp\"\n",
    "#include \"..\\..\\src\\cpp\\Stics_soil_temperature\\Soil_tempExogenous.cpp\"\n",
    "#include \"..\\..\\src\\cpp\\Stics_soil_temperature\\Canopy_temp_avg.cpp\"\n"
   ]
  },
  {
   "cell_type": "code",
   "execution_count": null,
   "id": "b204760c",
   "metadata": {},
   "outputs": [],
   "source": [
    "class Test\n",
    "{\n",
    "    private:\n",
    "        Soil_tempState s;\n",
    "        Soil_tempState s1;\n",
    "        Soil_tempRate r;\n",
    "        Soil_tempAuxiliary a;\n",
    "        Soil_tempExogenous ex;\n",
    "        Canopy_temp_avg mod;\n",
    "    public:\n",
    "}\n"
   ]
  },
  {
   "cell_type": "code",
   "execution_count": null,
   "id": "af88c502",
   "metadata": {},
   "outputs": [],
   "source": [
    "Test t;\n"
   ]
  }
 ],
 "metadata": {},
 "nbformat": 4,
 "nbformat_minor": 5
}
