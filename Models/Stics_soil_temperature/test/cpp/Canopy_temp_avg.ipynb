{
 "cells": [
  {
   "cell_type": "markdown",
   "id": "3027f946",
   "metadata": {},
   "source": [
    "# Automatic generation of Notebook using PyCropML\n",
    "    This notebook implements a crop model."
   ]
  },
  {
   "cell_type": "markdown",
   "id": "d7f5ec0f",
   "metadata": {},
   "source": [
    "### Model Canopy_temp_avg"
   ]
  },
  {
   "cell_type": "code",
   "execution_count": null,
   "id": "19f50627",
   "metadata": {},
   "outputs": [],
   "source": [
    "#include \"..\\..\\src\\cpp\\Stics_soil_temperature\\soil_tempState.cpp\"\n",
    "#include \"..\\..\\src\\cpp\\Stics_soil_temperature\\soil_tempRate.cpp\"\n",
    "#include \"..\\..\\src\\cpp\\Stics_soil_temperature\\soil_tempAuxiliary.cpp\"\n",
    "#include \"..\\..\\src\\cpp\\Stics_soil_temperature\\soil_tempExogenous.cpp\"\n",
    "#include \"..\\..\\src\\cpp\\Stics_soil_temperature\\canopy_temp_avg.cpp\"\n"
   ]
  },
  {
   "cell_type": "code",
   "execution_count": null,
   "id": "822b0216",
   "metadata": {},
   "outputs": [],
   "source": [
    "class Test\n",
    "{\n",
    "    private:\n",
    "        Soil_tempState s;\n",
    "        Soil_tempState s1;\n",
    "        Soil_tempRate r;\n",
    "        Soil_tempAuxiliary a;\n",
    "        Soil_tempExogenous ex;\n",
    "        Canopy_temp_avg mod;\n",
    "    public:\n",
    "}\n"
   ]
  },
  {
   "cell_type": "code",
   "execution_count": null,
   "id": "79d3f284",
   "metadata": {},
   "outputs": [],
   "source": [
    "Test t;\n"
   ]
  }
 ],
 "metadata": {},
 "nbformat": 4,
 "nbformat_minor": 5
}
