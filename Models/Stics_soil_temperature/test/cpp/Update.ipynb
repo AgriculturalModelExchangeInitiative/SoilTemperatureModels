{
 "cells": [
  {
   "cell_type": "markdown",
   "id": "a713b2fb",
   "metadata": {},
   "source": [
    "# Automatic generation of Notebook using PyCropML\n",
    "    This notebook implements a crop model."
   ]
  },
  {
   "cell_type": "markdown",
   "id": "90e4e30b",
   "metadata": {},
   "source": [
    "### Model Update"
   ]
  },
  {
   "cell_type": "code",
   "execution_count": null,
   "id": "22f8273b",
   "metadata": {},
   "outputs": [],
   "source": [
    "#include \"../../src/cpp/Stics_soil_temperature/soil_tempState.cpp\"\n",
    "#include \"../../src/cpp/Stics_soil_temperature/soil_tempRate.cpp\"\n",
    "#include \"../../src/cpp/Stics_soil_temperature/soil_tempAuxiliary.cpp\"\n",
    "#include \"../../src/cpp/Stics_soil_temperature/soil_tempExogenous.cpp\"\n",
    "#include \"../../src/cpp/Stics_soil_temperature/update.cpp\"\n"
   ]
  },
  {
   "cell_type": "code",
   "execution_count": null,
   "id": "e21badc0",
   "metadata": {},
   "outputs": [],
   "source": [
    "class Test\n",
    "{\n",
    "    private:\n",
    "        Soil_tempState s;\n",
    "        Soil_tempState s1;\n",
    "        Soil_tempRate r;\n",
    "        Soil_tempAuxiliary a;\n",
    "        Soil_tempExogenous ex;\n",
    "        Update mod;\n",
    "    public:\n",
    "}\n"
   ]
  },
  {
   "cell_type": "code",
   "execution_count": null,
   "id": "23d35066",
   "metadata": {},
   "outputs": [],
   "source": [
    "Test t;\n"
   ]
  }
 ],
 "metadata": {},
 "nbformat": 4,
 "nbformat_minor": 5
}
