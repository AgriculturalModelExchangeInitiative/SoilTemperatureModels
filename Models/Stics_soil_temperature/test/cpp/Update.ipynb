{
 "cells": [
  {
   "cell_type": "markdown",
   "id": "e2b72394",
   "metadata": {},
   "source": [
    "# Automatic generation of Notebook using PyCropML\n",
    "    This notebook implements a crop model."
   ]
  },
  {
   "cell_type": "markdown",
   "id": "b745eea6",
   "metadata": {},
   "source": [
    "### Model Update"
   ]
  },
  {
   "cell_type": "code",
   "execution_count": null,
   "id": "09020b80",
   "metadata": {},
   "outputs": [],
   "source": [
    "#include \"..\\..\\src\\cpp\\Stics_soil_temperature\\soil_tempState.cpp\"\n",
    "#include \"..\\..\\src\\cpp\\Stics_soil_temperature\\soil_tempRate.cpp\"\n",
    "#include \"..\\..\\src\\cpp\\Stics_soil_temperature\\soil_tempAuxiliary.cpp\"\n",
    "#include \"..\\..\\src\\cpp\\Stics_soil_temperature\\soil_tempExogenous.cpp\"\n",
    "#include \"..\\..\\src\\cpp\\Stics_soil_temperature\\update.cpp\"\n"
   ]
  },
  {
   "cell_type": "code",
   "execution_count": null,
   "id": "606c79e6",
   "metadata": {},
   "outputs": [],
   "source": [
    "class Test\n",
    "{\n",
    "    private:\n",
    "        Soil_tempState s;\n",
    "        Soil_tempState s1;\n",
    "        Soil_tempRate r;\n",
    "        Soil_tempAuxiliary a;\n",
    "        Soil_tempExogenous ex;\n",
    "        Update mod;\n",
    "    public:\n",
    "}\n"
   ]
  },
  {
   "cell_type": "code",
   "execution_count": null,
   "id": "349c1cee",
   "metadata": {},
   "outputs": [],
   "source": [
    "Test t;\n"
   ]
  }
 ],
 "metadata": {},
 "nbformat": 4,
 "nbformat_minor": 5
}
