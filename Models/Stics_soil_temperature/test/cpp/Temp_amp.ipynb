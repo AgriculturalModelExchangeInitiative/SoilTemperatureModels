{
 "cells": [
  {
   "cell_type": "markdown",
   "id": "1354722a",
   "metadata": {},
   "source": [
    "# Automatic generation of Notebook using PyCropML\n",
    "    This notebook implements a crop model."
   ]
  },
  {
   "cell_type": "markdown",
   "id": "a6d1ae3f",
   "metadata": {},
   "source": [
    "### Model Temp_amp"
   ]
  },
  {
   "cell_type": "code",
   "execution_count": null,
   "id": "94330994",
   "metadata": {},
   "outputs": [],
   "source": [
    "#include \"../../src/cpp/Stics_soil_temperature/soil_tempState.cpp\"\n",
    "#include \"../../src/cpp/Stics_soil_temperature/soil_tempRate.cpp\"\n",
    "#include \"../../src/cpp/Stics_soil_temperature/soil_tempAuxiliary.cpp\"\n",
    "#include \"../../src/cpp/Stics_soil_temperature/soil_tempExogenous.cpp\"\n",
    "#include \"../../src/cpp/Stics_soil_temperature/temp_amp.cpp\"\n"
   ]
  },
  {
   "cell_type": "code",
   "execution_count": null,
   "id": "68604e63",
   "metadata": {},
   "outputs": [],
   "source": [
    "class Test\n",
    "{\n",
    "    private:\n",
    "        Soil_tempState s;\n",
    "        Soil_tempState s1;\n",
    "        Soil_tempRate r;\n",
    "        Soil_tempAuxiliary a;\n",
    "        Soil_tempExogenous ex;\n",
    "        Temp_amp mod;\n",
    "    public:\n",
    "}\n"
   ]
  },
  {
   "cell_type": "code",
   "execution_count": null,
   "id": "5e770a9d",
   "metadata": {},
   "outputs": [],
   "source": [
    "Test t;\n"
   ]
  }
 ],
 "metadata": {},
 "nbformat": 4,
 "nbformat_minor": 5
}
