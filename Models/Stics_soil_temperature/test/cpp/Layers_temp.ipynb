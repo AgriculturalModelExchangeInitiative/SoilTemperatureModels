{
 "cells": [
  {
   "cell_type": "markdown",
   "id": "26c79de5",
   "metadata": {},
   "source": [
    "# Automatic generation of Notebook using PyCropML\n",
    "    This notebook implements a crop model."
   ]
  },
  {
   "cell_type": "markdown",
   "id": "668c7883",
   "metadata": {},
   "source": [
    "### Model Layers_temp"
   ]
  },
  {
   "cell_type": "code",
   "execution_count": null,
   "id": "8a3d4c97",
   "metadata": {},
   "outputs": [],
   "source": [
    "#include \"../../src/cpp/Stics_soil_temperature/soil_tempState.cpp\"\n",
    "#include \"../../src/cpp/Stics_soil_temperature/soil_tempRate.cpp\"\n",
    "#include \"../../src/cpp/Stics_soil_temperature/soil_tempAuxiliary.cpp\"\n",
    "#include \"../../src/cpp/Stics_soil_temperature/soil_tempExogenous.cpp\"\n",
    "#include \"../../src/cpp/Stics_soil_temperature/layers_temp.cpp\"\n"
   ]
  },
  {
   "cell_type": "code",
   "execution_count": null,
   "id": "02169999",
   "metadata": {},
   "outputs": [],
   "source": [
    "class Test\n",
    "{\n",
    "    private:\n",
    "        Soil_tempState s;\n",
    "        Soil_tempState s1;\n",
    "        Soil_tempRate r;\n",
    "        Soil_tempAuxiliary a;\n",
    "        Soil_tempExogenous ex;\n",
    "        Layers_temp mod;\n",
    "    public:\n",
    "}\n"
   ]
  },
  {
   "cell_type": "code",
   "execution_count": null,
   "id": "eecc0955",
   "metadata": {},
   "outputs": [],
   "source": [
    "Test t;\n"
   ]
  }
 ],
 "metadata": {},
 "nbformat": 4,
 "nbformat_minor": 5
}
