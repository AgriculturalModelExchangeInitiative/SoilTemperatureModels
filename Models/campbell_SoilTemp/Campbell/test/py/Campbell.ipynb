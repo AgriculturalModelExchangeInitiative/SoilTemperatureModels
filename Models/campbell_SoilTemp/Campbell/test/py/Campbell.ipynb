{
 "cells": [
  {
   "cell_type": "markdown",
   "id": "03b23418",
   "metadata": {},
   "source": [
    "# Automatic generation of Notebook using PyCropML\n",
    "    This notebook implements a crop model."
   ]
  },
  {
   "cell_type": "markdown",
   "id": "775c1000",
   "metadata": {},
   "source": [
    "### Model Campbell"
   ]
  },
  {
   "cell_type": "code",
   "execution_count": null,
   "id": "0770d438",
   "metadata": {},
   "outputs": [],
   "source": [
    "import numpy\n",
    "from datetime import datetime\n",
    "from array import array\n",
    "import sys\n",
    "sys.path.append(\"../../src/py/Campbell\")\n",
    "from campbell import model_campbell\n",
    "from campbell import init_campbell\n"
   ]
  }
 ],
 "metadata": {},
 "nbformat": 4,
 "nbformat_minor": 5
}
