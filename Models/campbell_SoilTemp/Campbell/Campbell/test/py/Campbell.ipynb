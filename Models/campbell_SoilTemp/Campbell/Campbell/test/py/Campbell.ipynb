{
 "cells": [
  {
   "cell_type": "markdown",
   "id": "965df03b",
   "metadata": {},
   "source": [
    "# Automatic generation of Notebook using PyCropML\n",
    "    This notebook implements a crop model."
   ]
  },
  {
   "cell_type": "markdown",
   "id": "e02b3a16",
   "metadata": {},
   "source": [
    "### Model Campbell"
   ]
  },
  {
   "cell_type": "code",
   "execution_count": null,
   "id": "930da310",
   "metadata": {},
   "outputs": [],
   "source": [
    "import numpy\n",
    "from datetime import datetime\n",
    "from array import array\n",
    "import sys\n",
    "sys.path.append(\"..\\..\\src\\py\\Campbell\")\n",
    "from campbell import model_campbell\n",
    "from campbell import init_campbell\n"
   ]
  }
 ],
 "metadata": {},
 "nbformat": 4,
 "nbformat_minor": 5
}
