{
 "cells": [
  {
   "cell_type": "markdown",
   "id": "06c89d5a",
   "metadata": {},
   "source": [
    "# Automatic generation of Notebook using PyCropML\n",
    "    This notebook implements a crop model."
   ]
  },
  {
   "cell_type": "markdown",
   "id": "58514cc1",
   "metadata": {},
   "source": [
    "### Model Campbell"
   ]
  },
  {
   "cell_type": "code",
   "execution_count": null,
   "id": "ea6da100",
   "metadata": {},
   "outputs": [],
   "source": [
    "import numpy\n",
    "from datetime import datetime\n",
    "from array import array\n",
    "import sys\n",
    "sys.path.append(\"../../src/py/Campbell\")\n",
    "from campbell import model_campbell\n",
    "from campbell import init_campbell\n"
   ]
  }
 ],
 "metadata": {},
 "nbformat": 4,
 "nbformat_minor": 5
}
