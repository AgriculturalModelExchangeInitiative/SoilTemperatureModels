{
 "cells": [
  {
   "cell_type": "markdown",
   "id": "c4f470f8",
   "metadata": {},
   "source": [
    "# Automatic generation of Notebook using PyCropML\n",
    "    This notebook implements a crop model."
   ]
  },
  {
   "cell_type": "markdown",
   "id": "9ab60bf6",
   "metadata": {},
   "source": [
    "### Model Campbell"
   ]
  },
  {
   "cell_type": "code",
   "execution_count": null,
   "id": "9cc08021",
   "metadata": {},
   "outputs": [],
   "source": [
    "import numpy\n",
    "from datetime import datetime\n",
    "from array import array\n",
    "import sys\n",
    "sys.path.append(\"..\\..\\src\\py\\Campbell\")\n",
    "from campbell import model_campbell\n",
    "from campbell import init_campbell\n"
   ]
  }
 ],
 "metadata": {},
 "nbformat": 4,
 "nbformat_minor": 5
}
