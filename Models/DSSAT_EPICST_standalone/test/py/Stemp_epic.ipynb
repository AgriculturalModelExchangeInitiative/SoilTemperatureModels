{
 "cells": [
  {
   "cell_type": "markdown",
   "id": "ee45ed83",
   "metadata": {},
   "source": [
    "# Automatic generation of Notebook using PyCropML\n",
    "    This notebook implements a crop model."
   ]
  },
  {
   "cell_type": "markdown",
   "id": "a47cd90f",
   "metadata": {},
   "source": [
    "### Model Stemp_epic"
   ]
  },
  {
   "cell_type": "code",
   "execution_count": null,
   "id": "4c67e389",
   "metadata": {},
   "outputs": [],
   "source": [
    "import numpy\n",
    "from datetime import datetime\n",
    "from array import array\n",
    "import sys\n",
    "sys.path.append(\"..\\..\\src\\py\\DSSAT_EPICST_standalone\")\n",
    "from stemp_epic import model_stemp_epic\n",
    "from stemp_epic import init_stemp_epic\n"
   ]
  }
 ],
 "metadata": {},
 "nbformat": 4,
 "nbformat_minor": 5
}
