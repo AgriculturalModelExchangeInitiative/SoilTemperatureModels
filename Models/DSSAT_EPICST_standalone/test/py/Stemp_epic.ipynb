{
 "cells": [
  {
   "cell_type": "markdown",
   "id": "9c3f6f8b",
   "metadata": {},
   "source": [
    "# Automatic generation of Notebook using PyCropML\n",
    "    This notebook implements a crop model."
   ]
  },
  {
   "cell_type": "markdown",
   "id": "5cf6b23c",
   "metadata": {},
   "source": [
    "### Model Stemp_epic"
   ]
  },
  {
   "cell_type": "code",
   "execution_count": null,
   "id": "a2b67857",
   "metadata": {},
   "outputs": [],
   "source": [
    "import numpy\n",
    "from datetime import datetime\n",
    "from array import array\n",
    "import sys\n",
    "sys.path.append(\"..\\..\\src\\py\\DSSAT_EPICST_standalone\")\n",
    "from stemp_epic import model_stemp_epic\n",
    "from stemp_epic import init_stemp_epic\n"
   ]
  }
 ],
 "metadata": {},
 "nbformat": 4,
 "nbformat_minor": 5
}
