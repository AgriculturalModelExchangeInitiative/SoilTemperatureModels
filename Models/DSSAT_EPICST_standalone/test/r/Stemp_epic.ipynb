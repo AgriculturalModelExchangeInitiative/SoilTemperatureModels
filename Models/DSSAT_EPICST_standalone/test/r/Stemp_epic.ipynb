{
 "cells": [
  {
   "cell_type": "markdown",
   "id": "e5521ecc",
   "metadata": {},
   "source": [
    "# Automatic generation of Notebook using PyCropML\n",
    "    This notebook implements a crop model."
   ]
  },
  {
   "cell_type": "markdown",
   "id": "ee680904",
   "metadata": {},
   "source": [
    "### Model Stemp_epic"
   ]
  },
  {
   "cell_type": "code",
   "execution_count": null,
   "id": "69479db2",
   "metadata": {},
   "outputs": [],
   "source": [
    "source(\"../../src/r/DSSAT_EPICST_standalone/stemp_epic.r\")\n",
    "library(assertthat)\n"
   ]
  }
 ],
 "metadata": {},
 "nbformat": 4,
 "nbformat_minor": 5
}
