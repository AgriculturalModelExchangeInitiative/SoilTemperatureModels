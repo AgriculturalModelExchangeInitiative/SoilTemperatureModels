{
 "cells": [
  {
   "cell_type": "markdown",
   "id": "4e4ac570",
   "metadata": {},
   "source": [
    "# Automatic generation of Notebook using PyCropML\n",
    "    This notebook implements a crop model."
   ]
  },
  {
   "cell_type": "markdown",
   "id": "36c676d6",
   "metadata": {},
   "source": [
    "### Model Stemp_epic"
   ]
  },
  {
   "cell_type": "code",
   "execution_count": null,
   "id": "9da7dbb3",
   "metadata": {},
   "outputs": [],
   "source": [
    "#include \"..\\..\\src\\cpp\\DSSAT_EPICST_standalone\\Stemp_epic_State.cpp\"\n",
    "#include \"..\\..\\src\\cpp\\DSSAT_EPICST_standalone\\Stemp_epic_Rate.cpp\"\n",
    "#include \"..\\..\\src\\cpp\\DSSAT_EPICST_standalone\\Stemp_epic_Auxiliary.cpp\"\n",
    "#include \"..\\..\\src\\cpp\\DSSAT_EPICST_standalone\\Stemp_epic_Exogenous.cpp\"\n",
    "#include \"..\\..\\src\\cpp\\DSSAT_EPICST_standalone\\Stemp_epic.cpp\"\n"
   ]
  },
  {
   "cell_type": "code",
   "execution_count": null,
   "id": "b885a3f7",
   "metadata": {},
   "outputs": [],
   "source": [
    "class Test\n",
    "{\n",
    "    private:\n",
    "        Stemp_epic_State s;\n",
    "        Stemp_epic_State s1;\n",
    "        Stemp_epic_Rate r;\n",
    "        Stemp_epic_Auxiliary a;\n",
    "        Stemp_epic_Exogenous ex;\n",
    "        Stemp_epic mod;\n",
    "    public:\n",
    "}\n"
   ]
  },
  {
   "cell_type": "code",
   "execution_count": null,
   "id": "a2a5e341",
   "metadata": {},
   "outputs": [],
   "source": [
    "Test t;\n"
   ]
  }
 ],
 "metadata": {},
 "nbformat": 4,
 "nbformat_minor": 5
}
