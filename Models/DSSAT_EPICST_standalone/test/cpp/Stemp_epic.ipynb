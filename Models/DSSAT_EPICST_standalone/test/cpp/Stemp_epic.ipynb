{
 "cells": [
  {
   "cell_type": "markdown",
   "id": "146e6d87",
   "metadata": {},
   "source": [
    "# Automatic generation of Notebook using PyCropML\n",
    "    This notebook implements a crop model."
   ]
  },
  {
   "cell_type": "markdown",
   "id": "10ff46c1",
   "metadata": {},
   "source": [
    "### Model Stemp_epic"
   ]
  },
  {
   "cell_type": "code",
   "execution_count": null,
   "id": "893798e6",
   "metadata": {},
   "outputs": [],
   "source": [
    "#include \"..\\..\\src\\cpp\\DSSAT_EPICST_standalone\\Stemp_epic_State.cpp\"\n",
    "#include \"..\\..\\src\\cpp\\DSSAT_EPICST_standalone\\Stemp_epic_Rate.cpp\"\n",
    "#include \"..\\..\\src\\cpp\\DSSAT_EPICST_standalone\\Stemp_epic_Auxiliary.cpp\"\n",
    "#include \"..\\..\\src\\cpp\\DSSAT_EPICST_standalone\\Stemp_epic_Exogenous.cpp\"\n",
    "#include \"..\\..\\src\\cpp\\DSSAT_EPICST_standalone\\Stemp_epic.cpp\"\n"
   ]
  },
  {
   "cell_type": "code",
   "execution_count": null,
   "id": "4cf2b6a3",
   "metadata": {},
   "outputs": [],
   "source": [
    "class Test\n",
    "{\n",
    "    private:\n",
    "        Stemp_epic_State s;\n",
    "        Stemp_epic_State s1;\n",
    "        Stemp_epic_Rate r;\n",
    "        Stemp_epic_Auxiliary a;\n",
    "        Stemp_epic_Exogenous ex;\n",
    "        Stemp_epic mod;\n",
    "    public:\n",
    "}\n"
   ]
  },
  {
   "cell_type": "code",
   "execution_count": null,
   "id": "77501886",
   "metadata": {},
   "outputs": [],
   "source": [
    "Test t;\n"
   ]
  }
 ],
 "metadata": {},
 "nbformat": 4,
 "nbformat_minor": 5
}
