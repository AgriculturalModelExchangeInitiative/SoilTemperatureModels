{
 "cells": [
  {
   "cell_type": "markdown",
   "id": "0a2166ce",
   "metadata": {},
   "source": [
    "# Automatic generation of Notebook using PyCropML\n",
    "    This notebook implements a crop model."
   ]
  },
  {
   "cell_type": "markdown",
   "id": "de4609c5",
   "metadata": {},
   "source": [
    "### Model Stemp_epic"
   ]
  },
  {
   "cell_type": "code",
   "execution_count": null,
   "id": "707afdf2",
   "metadata": {},
   "outputs": [],
   "source": [
    "#include \"..\\..\\src\\cpp\\DSSAT_EPICST_standalone\\STEMP_EPIC_State.cpp\"\n",
    "#include \"..\\..\\src\\cpp\\DSSAT_EPICST_standalone\\STEMP_EPIC_Rate.cpp\"\n",
    "#include \"..\\..\\src\\cpp\\DSSAT_EPICST_standalone\\STEMP_EPIC_Auxiliary.cpp\"\n",
    "#include \"..\\..\\src\\cpp\\DSSAT_EPICST_standalone\\STEMP_EPIC_Exogenous.cpp\"\n",
    "#include \"..\\..\\src\\cpp\\DSSAT_EPICST_standalone\\STEMP_EPIC.cpp\"\n"
   ]
  },
  {
   "cell_type": "code",
   "execution_count": null,
   "id": "5b897d21",
   "metadata": {},
   "outputs": [],
   "source": [
    "class Test\n",
    "{\n",
    "    private:\n",
    "        Stemp_epic_State s;\n",
    "        Stemp_epic_State s1;\n",
    "        Stemp_epic_Rate r;\n",
    "        Stemp_epic_Auxiliary a;\n",
    "        Stemp_epic_Exogenous ex;\n",
    "        Stemp_epic mod;\n",
    "    public:\n",
    "}\n"
   ]
  },
  {
   "cell_type": "code",
   "execution_count": null,
   "id": "9b749ec1",
   "metadata": {},
   "outputs": [],
   "source": [
    "Test t;\n"
   ]
  }
 ],
 "metadata": {},
 "nbformat": 4,
 "nbformat_minor": 5
}
