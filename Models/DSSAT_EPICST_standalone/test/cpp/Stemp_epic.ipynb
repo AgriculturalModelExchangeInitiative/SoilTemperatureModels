{
 "cells": [
  {
   "cell_type": "markdown",
   "id": "f98f9fa8",
   "metadata": {},
   "source": [
    "# Automatic generation of Notebook using PyCropML\n",
    "    This notebook implements a crop model."
   ]
  },
  {
   "cell_type": "markdown",
   "id": "ae0a6f5c",
   "metadata": {},
   "source": [
    "### Model Stemp_epic"
   ]
  },
  {
   "cell_type": "code",
   "execution_count": null,
   "id": "a6d05f99",
   "metadata": {},
   "outputs": [],
   "source": [
    "#include \"..\\..\\src\\cpp\\DSSAT_EPICST_standalone\\STEMP_EPIC_State.cpp\"\n",
    "#include \"..\\..\\src\\cpp\\DSSAT_EPICST_standalone\\STEMP_EPIC_Rate.cpp\"\n",
    "#include \"..\\..\\src\\cpp\\DSSAT_EPICST_standalone\\STEMP_EPIC_Auxiliary.cpp\"\n",
    "#include \"..\\..\\src\\cpp\\DSSAT_EPICST_standalone\\STEMP_EPIC_Exogenous.cpp\"\n",
    "#include \"..\\..\\src\\cpp\\DSSAT_EPICST_standalone\\STEMP_EPIC.cpp\"\n"
   ]
  },
  {
   "cell_type": "code",
   "execution_count": null,
   "id": "cb024d92",
   "metadata": {},
   "outputs": [],
   "source": [
    "class Test\n",
    "{\n",
    "    private:\n",
    "        Stemp_epic_State s;\n",
    "        Stemp_epic_State s1;\n",
    "        Stemp_epic_Rate r;\n",
    "        Stemp_epic_Auxiliary a;\n",
    "        Stemp_epic_Exogenous ex;\n",
    "        Stemp_epic mod;\n",
    "    public:\n",
    "}\n"
   ]
  },
  {
   "cell_type": "code",
   "execution_count": null,
   "id": "ad15b044",
   "metadata": {},
   "outputs": [],
   "source": [
    "Test t;\n"
   ]
  }
 ],
 "metadata": {},
 "nbformat": 4,
 "nbformat_minor": 5
}
