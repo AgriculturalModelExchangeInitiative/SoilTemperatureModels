{
 "cells": [
  {
   "cell_type": "markdown",
   "id": "a36742de",
   "metadata": {},
   "source": [
    "# Automatic generation of Notebook using PyCropML\n",
    "    This notebook implements a crop model."
   ]
  },
  {
   "cell_type": "markdown",
   "id": "80884de4",
   "metadata": {},
   "source": [
    "### Model Stmpsimcalculator"
   ]
  },
  {
   "cell_type": "code",
   "execution_count": null,
   "id": "204fdb0a",
   "metadata": {},
   "outputs": [],
   "source": [
    "source(\"../../src/r/Simplace_Soil_Temperature/stmpsimcalculator.r\")\n",
    "library(assertthat)\n"
   ]
  },
  {
   "cell_type": "code",
   "execution_count": null,
   "id": "287c559a",
   "metadata": {},
   "outputs": [],
   "source": [
    "\n",
    "\n",
    "test_test1<-function(){\n",
    "    cSoilLayerDepth = c(0.1,0.5,1.5)\n",
    "    cFirstDayMeanTemp = 15.0\n",
    "    cAVT = 9.0\n",
    "    cABD = 1.4\n",
    "    cDampingDepth = 6.0\n",
    "    iSoilWaterContent = 0.3\n",
    "    iSoilSurfaceTemperature = 6.0\n",
    "    param_init = init_stmpsimcalculator(cSoilLayerDepth,cFirstDayMeanTemp,cAVT,cABD,cDampingDepth,iSoilWaterContent,iSoilSurfaceTemperature)\n",
    "    SoilTempArray = param_init$SoilTempArray\n",
    "    rSoilTempArrayRate = param_init$rSoilTempArrayRate\n",
    "    pSoilLayerDepth = param_init$pSoilLayerDepth\n",
    "    params= model_stmpsimcalculator(cSoilLayerDepth, cFirstDayMeanTemp, cAVT, cABD, cDampingDepth, iSoilWaterContent, iSoilSurfaceTemperature, SoilTempArray, rSoilTempArrayRate, pSoilLayerDepth)\n",
    "\n",
    "    SoilTempArray_estimated = params$SoilTempArray\n",
    "    SoilTempArray_computed = c(13.624360856350041,13.399968504634286,12.599999999999845,12.2,11.4,10.6,9.799999999999999,9.0)\n",
    "    assert_that(all.equal(SoilTempArray_estimated, SoilTempArray_computed, scale=1, tol=0.5)==TRUE)\n",
    "}\n",
    "test_test1()"
   ]
  }
 ],
 "metadata": {},
 "nbformat": 4,
 "nbformat_minor": 5
}
