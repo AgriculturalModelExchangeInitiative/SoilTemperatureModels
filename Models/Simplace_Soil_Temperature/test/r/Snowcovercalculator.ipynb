{
 "cells": [
  {
   "cell_type": "markdown",
   "id": "1815ec92",
   "metadata": {},
   "source": [
    "# Automatic generation of Notebook using PyCropML\n",
    "    This notebook implements a crop model."
   ]
  },
  {
   "cell_type": "markdown",
   "id": "c4ac3cba",
   "metadata": {},
   "source": [
    "### Model Snowcovercalculator"
   ]
  },
  {
   "cell_type": "code",
   "execution_count": null,
   "id": "a83b0e0c",
   "metadata": {},
   "outputs": [],
   "source": [
    "source(\"../../src/r/Simplace_Soil_Temperature/snowcovercalculator.r\")\n",
    "library(assertthat)\n"
   ]
  },
  {
   "cell_type": "code",
   "execution_count": null,
   "id": "e7ff3dcd",
   "metadata": {},
   "outputs": [],
   "source": [
    "\n",
    "\n",
    "test_test1<-function(){\n",
    "    cCarbonContent = 10.0\n",
    "    Albedo = 0\n",
    "    iTempMax = 3.0\n",
    "    iTempMin = -9.0\n",
    "    iRadiation = 1.4\n",
    "    iRAIN = 6.0\n",
    "    iCropResidues = 30.0\n",
    "    iPotentialSoilEvaporation = 0.6\n",
    "    iLeafAreaIndex = 0.1\n",
    "    iSoilTempArray = c(2.6,5.4,8.6,12.2,11.4,10.6,9.8,9.0)\n",
    "    cInitialAgeOfSnow = 0\n",
    "    cInitialSnowWaterContent = 0.0\n",
    "    cSnowIsolationFactorA = 2.3\n",
    "    cSnowIsolationFactorB = 0.22\n",
    "    param_init = init_snowcovercalculator(cCarbonContent,cInitialAgeOfSnow,cInitialSnowWaterContent,Albedo,cSnowIsolationFactorA,cSnowIsolationFactorB,iTempMax,iTempMin,iRadiation,iRAIN,iCropResidues,iPotentialSoilEvaporation,iLeafAreaIndex,iSoilTempArray)\n",
    "    pInternalAlbedo = param_init$pInternalAlbedo\n",
    "    SnowWaterContent = param_init$SnowWaterContent\n",
    "    SoilSurfaceTemperature = param_init$SoilSurfaceTemperature\n",
    "    AgeOfSnow = param_init$AgeOfSnow\n",
    "    SnowWaterContent = 5.0\n",
    "    AgeOfSnow = 5\n",
    "    SoilSurfaceTemperature = 1.8397688\n",
    "    params= model_snowcovercalculator(cCarbonContent, cInitialAgeOfSnow, cInitialSnowWaterContent, Albedo, pInternalAlbedo, cSnowIsolationFactorA, cSnowIsolationFactorB, iTempMax, iTempMin, iRadiation, iRAIN, iCropResidues, iPotentialSoilEvaporation, iLeafAreaIndex, iSoilTempArray, SnowWaterContent, SoilSurfaceTemperature, AgeOfSnow)\n",
    "\n",
    "    SnowWaterContent_estimated = params$SnowWaterContent\n",
    "    SnowWaterContent_computed = 10.7\n",
    "    assert_that(all.equal(SnowWaterContent_estimated, SnowWaterContent_computed, scale=1, tol=0.5)==TRUE)\n",
    "    AgeOfSnow_estimated = params$AgeOfSnow\n",
    "    AgeOfSnow_computed = 6\n",
    "    assert_that(all.equal(AgeOfSnow_estimated, AgeOfSnow_computed)==TRUE)\n",
    "    SnowIsolationIndex_estimated = params$SnowIsolationIndex\n",
    "    SnowIsolationIndex_computed = 1.0\n",
    "    assert_that(all.equal(SnowIsolationIndex_estimated, SnowIsolationIndex_computed, scale=1, tol=0.5)==TRUE)\n",
    "    SoilSurfaceTemperature_estimated = params$SoilSurfaceTemperature\n",
    "    SoilSurfaceTemperature_computed = 2.6\n",
    "    assert_that(all.equal(SoilSurfaceTemperature_estimated, SoilSurfaceTemperature_computed, scale=1, tol=0.5)==TRUE)\n",
    "}\n",
    "test_test1()"
   ]
  }
 ],
 "metadata": {},
 "nbformat": 4,
 "nbformat_minor": 5
}
