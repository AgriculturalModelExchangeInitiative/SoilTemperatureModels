{
 "cells": [
  {
   "cell_type": "markdown",
   "id": "a360b802",
   "metadata": {},
   "source": [
    "# Automatic generation of Notebook using PyCropML\n",
    "    This notebook implements a crop model."
   ]
  },
  {
   "cell_type": "markdown",
   "id": "bce05b6d",
   "metadata": {},
   "source": [
    "### Model Stmpsimcalculator"
   ]
  },
  {
   "cell_type": "code",
   "execution_count": null,
   "id": "be7d79a7",
   "metadata": {},
   "outputs": [],
   "source": [
    "#include \"..\\..\\src\\cpp\\Simplace_Soil_Temperature\\SoiltemperatureState.cpp\"\n",
    "#include \"..\\..\\src\\cpp\\Simplace_Soil_Temperature\\SoiltemperatureRate.cpp\"\n",
    "#include \"..\\..\\src\\cpp\\Simplace_Soil_Temperature\\SoiltemperatureAuxiliary.cpp\"\n",
    "#include \"..\\..\\src\\cpp\\Simplace_Soil_Temperature\\SoiltemperatureExogenous.cpp\"\n",
    "#include \"..\\..\\src\\cpp\\Simplace_Soil_Temperature\\Stmpsimcalculator.cpp\"\n"
   ]
  },
  {
   "cell_type": "code",
   "execution_count": null,
   "id": "fccea8bb",
   "metadata": {},
   "outputs": [],
   "source": [
    "class Test\n",
    "{\n",
    "    private:\n",
    "        SoiltemperatureState s;\n",
    "        SoiltemperatureState s1;\n",
    "        SoiltemperatureRate r;\n",
    "        SoiltemperatureAuxiliary a;\n",
    "        SoiltemperatureExogenous ex;\n",
    "        Stmpsimcalculator mod;\n",
    "    public:\n",
    "        //testset1\n",
    "\n",
    "        // test1\n",
    "        void test1()\n",
    "        {\n",
    "            this->mod.setcSoilLayerDepth(None);\n",
    "            this->mod.setcFirstDayMeanTemp(15.0);\n",
    "            this->mod.setcAVT(9.0);\n",
    "            this->mod.setcABD(1.4);\n",
    "            this->mod.setcDampingDepth(6.0);\n",
    "            this->ex.setiSoilWaterContent(0.3);\n",
    "            this->ex.setiSoilSurfaceTemperature(6.0);\n",
    "            this->s.setSoilTempArray(None);\n",
    "            this->s.setrSoilTempArrayRate(None);\n",
    "            this->s.setpSoilLayerDepth(None);\n",
    "            this->mod.Calculate_Model(s,s1, r, a, ex);\n",
    "            //SoilTempArray: [13.624360856350041, 13.399968504634286, 12.599999999999845, 12.2, 11.4, 10.6, 9.799999999999999, 9.0];\n",
    "            cout << \"SoilTempArray estimated :\\n\";\n",
    "            cout << \"\\t\" << this->s.getSoilTempArray() << \"\\n\";\n",
    "        };\n",
    "}\n"
   ]
  },
  {
   "cell_type": "code",
   "execution_count": null,
   "id": "8f76a6ff",
   "metadata": {},
   "outputs": [],
   "source": [
    "Test t;\n",
    "t.test1();\n"
   ]
  }
 ],
 "metadata": {},
 "nbformat": 4,
 "nbformat_minor": 5
}
