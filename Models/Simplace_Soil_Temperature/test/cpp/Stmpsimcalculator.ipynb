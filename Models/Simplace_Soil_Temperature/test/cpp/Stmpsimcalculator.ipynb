{
 "cells": [
  {
   "cell_type": "markdown",
   "id": "3e0ff8dc",
   "metadata": {},
   "source": [
    "# Automatic generation of Notebook using PyCropML\n",
    "    This notebook implements a crop model."
   ]
  },
  {
   "cell_type": "markdown",
   "id": "53b4f190",
   "metadata": {},
   "source": [
    "### Model Stmpsimcalculator"
   ]
  },
  {
   "cell_type": "code",
   "execution_count": null,
   "id": "200a1132",
   "metadata": {},
   "outputs": [],
   "source": [
    "#include \"../../src/cpp/Simplace_Soil_Temperature/SoilTemperatureState.cpp\"\n",
    "#include \"../../src/cpp/Simplace_Soil_Temperature/SoilTemperatureRate.cpp\"\n",
    "#include \"../../src/cpp/Simplace_Soil_Temperature/SoilTemperatureAuxiliary.cpp\"\n",
    "#include \"../../src/cpp/Simplace_Soil_Temperature/SoilTemperatureExogenous.cpp\"\n",
    "#include \"../../src/cpp/Simplace_Soil_Temperature/STMPsimCalculator.cpp\"\n"
   ]
  },
  {
   "cell_type": "code",
   "execution_count": null,
   "id": "9ff8080c",
   "metadata": {},
   "outputs": [],
   "source": [
    "class Test\n",
    "{\n",
    "    private:\n",
    "        SoiltemperatureState s;\n",
    "        SoiltemperatureState s1;\n",
    "        SoiltemperatureRate r;\n",
    "        SoiltemperatureAuxiliary a;\n",
    "        SoiltemperatureExogenous ex;\n",
    "        Stmpsimcalculator mod;\n",
    "    public:\n",
    "        //testset1\n",
    "\n",
    "        // test1\n",
    "        void test1()\n",
    "        {\n",
    "            this->mod.setcSoilLayerDepth(None);\n",
    "            this->mod.setcFirstDayMeanTemp(15.0);\n",
    "            this->mod.setcAVT(9.0);\n",
    "            this->mod.setcABD(1.4);\n",
    "            this->mod.setcDampingDepth(6.0);\n",
    "            this->ex.setiSoilWaterContent(0.3);\n",
    "            this->ex.setiSoilSurfaceTemperature(6.0);\n",
    "            this->s.setSoilTempArray(None);\n",
    "            this->s.setrSoilTempArrayRate(None);\n",
    "            this->s.setpSoilLayerDepth(None);\n",
    "            this->mod.Calculate_Model(s,s1, r, a, ex);\n",
    "            //SoilTempArray: [13.624360856350041, 13.399968504634286, 12.599999999999845, 12.2, 11.4, 10.6, 9.799999999999999, 9.0];\n",
    "            cout << \"SoilTempArray estimated :\\n\";\n",
    "            cout << \"\\t\" << this->s.getSoilTempArray() << \"\\n\";\n",
    "        };\n",
    "}\n"
   ]
  },
  {
   "cell_type": "code",
   "execution_count": null,
   "id": "01568ac0",
   "metadata": {},
   "outputs": [],
   "source": [
    "Test t;\n",
    "t.test1();\n"
   ]
  }
 ],
 "metadata": {},
 "nbformat": 4,
 "nbformat_minor": 5
}
