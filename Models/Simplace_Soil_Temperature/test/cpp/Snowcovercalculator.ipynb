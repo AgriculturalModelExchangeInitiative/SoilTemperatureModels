{
 "cells": [
  {
   "cell_type": "markdown",
   "id": "0cceea3b",
   "metadata": {},
   "source": [
    "# Automatic generation of Notebook using PyCropML\n",
    "    This notebook implements a crop model."
   ]
  },
  {
   "cell_type": "markdown",
   "id": "3e5d0f52",
   "metadata": {},
   "source": [
    "### Model Snowcovercalculator"
   ]
  },
  {
   "cell_type": "code",
   "execution_count": null,
   "id": "6964ea45",
   "metadata": {},
   "outputs": [],
   "source": [
    "#include \"../../src/cpp/Simplace_Soil_Temperature/SoilTemperatureState.cpp\"\n",
    "#include \"../../src/cpp/Simplace_Soil_Temperature/SoilTemperatureRate.cpp\"\n",
    "#include \"../../src/cpp/Simplace_Soil_Temperature/SoilTemperatureAuxiliary.cpp\"\n",
    "#include \"../../src/cpp/Simplace_Soil_Temperature/SoilTemperatureExogenous.cpp\"\n",
    "#include \"../../src/cpp/Simplace_Soil_Temperature/SnowCoverCalculator.cpp\"\n"
   ]
  },
  {
   "cell_type": "code",
   "execution_count": null,
   "id": "9050c752",
   "metadata": {},
   "outputs": [],
   "source": [
    "class Test\n",
    "{\n",
    "    private:\n",
    "        SoiltemperatureState s;\n",
    "        SoiltemperatureState s1;\n",
    "        SoiltemperatureRate r;\n",
    "        SoiltemperatureAuxiliary a;\n",
    "        SoiltemperatureExogenous ex;\n",
    "        Snowcovercalculator mod;\n",
    "    public:\n",
    "        //testset1\n",
    "\n",
    "        // test1\n",
    "        void test1()\n",
    "        {\n",
    "            this->mod.setcCarbonContent(10.0);\n",
    "            this->mod.setAlbedo(0);\n",
    "            this->ex.setiTempMax(3.0);\n",
    "            this->ex.setiTempMin(-9.0);\n",
    "            this->ex.setiRadiation(1.4);\n",
    "            this->ex.setiRAIN(6.0);\n",
    "            this->ex.setiCropResidues(30.0);\n",
    "            this->ex.setiPotentialSoilEvaporation(0.6);\n",
    "            this->ex.setiLeafAreaIndex(0.1);\n",
    "            this->ex.setiSoilTempArray(None);\n",
    "            this->s.setSnowWaterContent(5.0);\n",
    "            this->s.setAgeOfSnow(5);\n",
    "            this->s.setSoilSurfaceTemperature(1.8397688);\n",
    "            this->mod.setcInitialAgeOfSnow(0);\n",
    "            this->mod.setcInitialSnowWaterContent(0.0);\n",
    "            this->s.setpInternalAlbedo();\n",
    "            this->mod.setcSnowIsolationFactorA(2.3);\n",
    "            this->mod.setcSnowIsolationFactorB(0.22);\n",
    "            this->mod.Calculate_Model(s,s1, r, a, ex);\n",
    "            //SnowWaterContent: 10.7;\n",
    "            cout << \"SnowWaterContent estimated :\\n\";\n",
    "            cout << \"\\t\" << this->s.getSnowWaterContent() << \"\\n\";\n",
    "            //AgeOfSnow: 6;\n",
    "            cout << \"AgeOfSnow estimated :\\n\";\n",
    "            cout << \"\\t\" << this->s.getAgeOfSnow() << \"\\n\";\n",
    "            //SnowIsolationIndex: 1.0;\n",
    "            cout << \"SnowIsolationIndex estimated :\\n\";\n",
    "            cout << \"\\t\" << this->a.getSnowIsolationIndex() << \"\\n\";\n",
    "            //SoilSurfaceTemperature: 2.6;\n",
    "            cout << \"SoilSurfaceTemperature estimated :\\n\";\n",
    "            cout << \"\\t\" << this->s.getSoilSurfaceTemperature() << \"\\n\";\n",
    "        };\n",
    "}\n"
   ]
  },
  {
   "cell_type": "code",
   "execution_count": null,
   "id": "8f4d72a2",
   "metadata": {},
   "outputs": [],
   "source": [
    "Test t;\n",
    "t.test1();\n"
   ]
  }
 ],
 "metadata": {},
 "nbformat": 4,
 "nbformat_minor": 5
}
