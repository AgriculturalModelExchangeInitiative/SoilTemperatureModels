{
 "cells": [
  {
   "cell_type": "markdown",
   "id": "4221d541",
   "metadata": {},
   "source": [
    "# Automatic generation of Notebook using PyCropML\n",
    "    This notebook implements a crop model."
   ]
  },
  {
   "cell_type": "markdown",
   "id": "797773e9",
   "metadata": {},
   "source": [
    "### Model Snowcovercalculator"
   ]
  },
  {
   "cell_type": "code",
   "execution_count": null,
   "id": "2241c4d2",
   "metadata": {},
   "outputs": [],
   "source": [
    "#include \"..\\..\\src\\cpp\\Simplace_Soil_Temperature\\SoiltemperatureState.cpp\"\n",
    "#include \"..\\..\\src\\cpp\\Simplace_Soil_Temperature\\SoiltemperatureRate.cpp\"\n",
    "#include \"..\\..\\src\\cpp\\Simplace_Soil_Temperature\\SoiltemperatureAuxiliary.cpp\"\n",
    "#include \"..\\..\\src\\cpp\\Simplace_Soil_Temperature\\SoiltemperatureExogenous.cpp\"\n",
    "#include \"..\\..\\src\\cpp\\Simplace_Soil_Temperature\\Snowcovercalculator.cpp\"\n"
   ]
  },
  {
   "cell_type": "code",
   "execution_count": null,
   "id": "c4285788",
   "metadata": {},
   "outputs": [],
   "source": [
    "class Test\n",
    "{\n",
    "    private:\n",
    "        SoiltemperatureState s;\n",
    "        SoiltemperatureState s1;\n",
    "        SoiltemperatureRate r;\n",
    "        SoiltemperatureAuxiliary a;\n",
    "        SoiltemperatureExogenous ex;\n",
    "        Snowcovercalculator mod;\n",
    "    public:\n",
    "        //testset1\n",
    "\n",
    "        // test1\n",
    "        void test1()\n",
    "        {\n",
    "            this->mod.setcCarbonContent(10.0);\n",
    "            this->ex.setiTempMax(3.0);\n",
    "            this->ex.setiTempMin(-9.0);\n",
    "            this->ex.setiRadiation(1.4);\n",
    "            this->ex.setiRAIN(6.0);\n",
    "            this->ex.setiCropResidues(30.0);\n",
    "            this->ex.setiPotentialSoilEvaporation(0.6);\n",
    "            this->ex.setiLeafAreaIndex(0.1);\n",
    "            this->ex.setiSoilTempArray(None);\n",
    "            this->s.setSnowWaterContent(5.0);\n",
    "            this->s.setAgeOfSnow(5);\n",
    "            this->s.setSoilSurfaceTemperature(1.8397688);\n",
    "            this->s.setAlbedo();\n",
    "            this->mod.Calculate_Model(s,s1, r, a, ex);\n",
    "            //SnowWaterContent: 10.7;\n",
    "            cout << \"SnowWaterContent estimated :\\n\";\n",
    "            cout << \"\\t\" << this->s.getSnowWaterContent() << \"\\n\";\n",
    "            //AgeOfSnow: 6;\n",
    "            cout << \"AgeOfSnow estimated :\\n\";\n",
    "            cout << \"\\t\" << this->s.getAgeOfSnow() << \"\\n\";\n",
    "            //SnowIsolationIndex: 1.0;\n",
    "            cout << \"SnowIsolationIndex estimated :\\n\";\n",
    "            cout << \"\\t\" << this->a.getSnowIsolationIndex() << \"\\n\";\n",
    "            //SoilSurfaceTemperature: 2.6;\n",
    "            cout << \"SoilSurfaceTemperature estimated :\\n\";\n",
    "            cout << \"\\t\" << this->s.getSoilSurfaceTemperature() << \"\\n\";\n",
    "        };\n",
    "}\n"
   ]
  },
  {
   "cell_type": "code",
   "execution_count": null,
   "id": "d51927f6",
   "metadata": {},
   "outputs": [],
   "source": [
    "Test t;\n",
    "t.test1();\n"
   ]
  }
 ],
 "metadata": {},
 "nbformat": 4,
 "nbformat_minor": 5
}
