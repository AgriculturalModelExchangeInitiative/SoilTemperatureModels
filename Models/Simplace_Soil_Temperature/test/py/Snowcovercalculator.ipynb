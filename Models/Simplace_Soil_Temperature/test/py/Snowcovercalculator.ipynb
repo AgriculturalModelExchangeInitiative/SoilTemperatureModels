{
 "cells": [
  {
   "cell_type": "markdown",
   "id": "af23e1fe",
   "metadata": {},
   "source": [
    "# Automatic generation of Notebook using PyCropML\n",
    "    This notebook implements a crop model."
   ]
  },
  {
   "cell_type": "markdown",
   "id": "74745db1",
   "metadata": {},
   "source": [
    "### Model Snowcovercalculator"
   ]
  },
  {
   "cell_type": "code",
   "execution_count": 1,
   "id": "a1f073e7",
   "metadata": {},
   "outputs": [],
   "source": [
    "from datetime import datetime\n",
    "from array import array\n",
    "import sys\n",
    "sys.path.append(\"..\\..\\src\\py\\Simplace_Soil_Temperature\")\n",
    "from snowcovercalculator import model_snowcovercalculator\n",
    "from snowcovercalculator import init_snowcovercalculator\n"
   ]
  },
  {
   "cell_type": "code",
   "execution_count": 5,
   "id": "8180de85",
   "metadata": {},
   "outputs": [],
   "source": [
    "cCarbonContent = 10.0\n",
    "iTempMax = 3.0\n",
    "iTempMin = -9.0\n",
    "iRadiation = 1.4\n",
    "iRAIN = 6.0\n",
    "iCropResidues = 30.0\n",
    "iPotentialSoilEvaporation = 0.6\n",
    "iLeafAreaIndex = 0.1\n",
    "iSoilTempArray = [2.6, 5.4, 8.6, 12.2, 11.4, 10.6, 9.8, 9.0]\n",
    "Albedo, SnowWaterContent, SoilSurfaceTemperature, AgeOfSnow = init_snowcovercalculator(cCarbonContent,iTempMax,iTempMin,iRadiation,iRAIN,iCropResidues,iPotentialSoilEvaporation,iLeafAreaIndex,iSoilTempArray)\n",
    "SnowWaterContent = 5.0\n",
    "AgeOfSnow = 5\n",
    "SoilSurfaceTemperature = 1.8397688\n",
    "params= model_snowcovercalculator(cCarbonContent, iTempMax, iTempMin, iRadiation, iRAIN, iCropResidues, iPotentialSoilEvaporation, iLeafAreaIndex, iSoilTempArray, Albedo, SnowWaterContent, SoilSurfaceTemperature, AgeOfSnow)\n",
    "\n",
    "SnowWaterContent_estimated = round(params[0], 5)\n",
    "SnowWaterContent_computed = 10.7\n",
    "assert (SnowWaterContent_estimated == SnowWaterContent_computed)\n",
    "SoilSurfaceTemperature_estimated = round(params[1], 5)\n",
    "SoilSurfaceTemperature_computed = 2.6\n",
    "assert (SoilSurfaceTemperature_estimated == SoilSurfaceTemperature_computed)\n",
    "AgeOfSnow_estimated =params[2]\n",
    "AgeOfSnow_computed = 6\n",
    "assert AgeOfSnow_computed == AgeOfSnow_estimated\n",
    "SnowIsolationIndex_estimated = round(params[3], 5)\n",
    "SnowIsolationIndex_computed = 1.0\n",
    "assert (SnowIsolationIndex_estimated == SnowIsolationIndex_computed)"
   ]
  },
  {
   "cell_type": "code",
   "execution_count": null,
   "id": "5741fbe0-617c-4a28-9675-c0b663fd8305",
   "metadata": {},
   "outputs": [],
   "source": []
  }
 ],
 "metadata": {
  "kernelspec": {
   "display_name": "Python 3 (ipykernel)",
   "language": "python",
   "name": "python3"
  },
  "language_info": {
   "codemirror_mode": {
    "name": "ipython",
    "version": 3
   },
   "file_extension": ".py",
   "mimetype": "text/x-python",
   "name": "python",
   "nbconvert_exporter": "python",
   "pygments_lexer": "ipython3",
   "version": "3.9.7"
  }
 },
 "nbformat": 4,
 "nbformat_minor": 5
}
