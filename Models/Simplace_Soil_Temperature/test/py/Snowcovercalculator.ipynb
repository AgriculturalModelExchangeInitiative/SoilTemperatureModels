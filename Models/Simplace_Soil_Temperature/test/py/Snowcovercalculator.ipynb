{
 "cells": [
  {
   "cell_type": "markdown",
   "id": "e50e0ac9",
   "metadata": {},
   "source": [
    "# Automatic generation of Notebook using PyCropML\n",
    "    This notebook implements a crop model."
   ]
  },
  {
   "cell_type": "markdown",
   "id": "fc37fcb5",
   "metadata": {},
   "source": [
    "### Model Snowcovercalculator"
   ]
  },
  {
   "cell_type": "code",
   "execution_count": null,
   "id": "c3c9c380",
   "metadata": {},
   "outputs": [],
   "source": [
    "import numpy\n",
    "from datetime import datetime\n",
    "from array import array\n",
    "import sys\n",
    "sys.path.append(\"..\\..\\src\\py\\Simplace_Soil_Temperature\")\n",
    "from snowcovercalculator import model_snowcovercalculator\n",
    "from snowcovercalculator import init_snowcovercalculator\n"
   ]
  },
  {
   "cell_type": "code",
   "execution_count": null,
   "id": "9b516489",
   "metadata": {},
   "outputs": [],
   "source": [
    "cCarbonContent = 10.0\n",
    "iTempMax = 3.0\n",
    "iTempMin = -9.0\n",
    "iRadiation = 1.4\n",
    "iRAIN = 6.0\n",
    "iCropResidues = 30.0\n",
    "iPotentialSoilEvaporation = 0.6\n",
    "iLeafAreaIndex = 0.1\n",
    "iSoilTempArray = [2.6, 5.4, 8.6, 12.2, 11.4, 10.6, 9.8, 9.0]\n",
    "Albedo, SnowWaterContent, SoilSurfaceTemperature, AgeOfSnow = init_snowcovercalculator(cCarbonContent,iTempMax,iTempMin,iRadiation,iRAIN,iCropResidues,iPotentialSoilEvaporation,iLeafAreaIndex,iSoilTempArray)\n",
    "SnowWaterContent = 5.0\n",
    "AgeOfSnow = 5\n",
    "SoilSurfaceTemperature = 1.8397688\n",
    "params= model_snowcovercalculator(cCarbonContent, iTempMax, iTempMin, iRadiation, iRAIN, iCropResidues, iPotentialSoilEvaporation, iLeafAreaIndex, iSoilTempArray, Albedo, SnowWaterContent, SoilSurfaceTemperature, AgeOfSnow)\n",
    "\n",
    "SnowWaterContent_estimated = round(params[0], 5)\n",
    "SnowWaterContent_computed = 10.7\n",
    "assert (SnowWaterContent_estimated == SnowWaterContent_computed)\n",
    "SoilSurfaceTemperature_estimated = round(params[1], 5)\n",
    "SoilSurfaceTemperature_computed = 2.6\n",
    "assert (SoilSurfaceTemperature_estimated == SoilSurfaceTemperature_computed)\n",
    "AgeOfSnow_estimated =params[2]\n",
    "AgeOfSnow_computed = 6\n",
    "assert AgeOfSnow_computed == AgeOfSnow_estimated\n",
    "SnowIsolationIndex_estimated = round(params[3], 5)\n",
    "SnowIsolationIndex_computed = 1.0\n",
    "assert (SnowIsolationIndex_estimated == SnowIsolationIndex_computed)"
   ]
  }
 ],
 "metadata": {},
 "nbformat": 4,
 "nbformat_minor": 5
}
