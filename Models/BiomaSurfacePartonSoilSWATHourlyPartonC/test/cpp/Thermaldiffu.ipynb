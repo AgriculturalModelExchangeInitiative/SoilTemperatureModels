{
 "cells": [
  {
   "cell_type": "markdown",
   "id": "92e35228",
   "metadata": {},
   "source": [
    "# Automatic generation of Notebook using PyCropML\n",
    "    This notebook implements a crop model."
   ]
  },
  {
   "cell_type": "markdown",
   "id": "3c5fa0e6",
   "metadata": {},
   "source": [
    "### Model Thermaldiffu"
   ]
  },
  {
   "cell_type": "code",
   "execution_count": null,
   "id": "8ac08605",
   "metadata": {},
   "outputs": [],
   "source": [
    "#include \"..\\..\\src\\cpp\\BiomaSurfacePartonSoilSWATHourlyPartonC\\SurfacePartonSoilSWATHourlyPartonCState.cpp\"\n",
    "#include \"..\\..\\src\\cpp\\BiomaSurfacePartonSoilSWATHourlyPartonC\\SurfacePartonSoilSWATHourlyPartonCRate.cpp\"\n",
    "#include \"..\\..\\src\\cpp\\BiomaSurfacePartonSoilSWATHourlyPartonC\\SurfacePartonSoilSWATHourlyPartonCAuxiliary.cpp\"\n",
    "#include \"..\\..\\src\\cpp\\BiomaSurfacePartonSoilSWATHourlyPartonC\\SurfacePartonSoilSWATHourlyPartonCExogenous.cpp\"\n",
    "#include \"..\\..\\src\\cpp\\BiomaSurfacePartonSoilSWATHourlyPartonC\\ThermalDiffu.cpp\"\n"
   ]
  },
  {
   "cell_type": "code",
   "execution_count": null,
   "id": "3eebb4b0",
   "metadata": {},
   "outputs": [],
   "source": [
    "class Test\n",
    "{\n",
    "    private:\n",
    "        SurfacepartonsoilswathourlypartoncState s;\n",
    "        SurfacepartonsoilswathourlypartoncState s1;\n",
    "        SurfacepartonsoilswathourlypartoncRate r;\n",
    "        SurfacepartonsoilswathourlypartoncAuxiliary a;\n",
    "        SurfacepartonsoilswathourlypartoncExogenous ex;\n",
    "        Thermaldiffu mod;\n",
    "    public:\n",
    "}\n"
   ]
  },
  {
   "cell_type": "code",
   "execution_count": null,
   "id": "16dd6090",
   "metadata": {},
   "outputs": [],
   "source": [
    "Test t;\n"
   ]
  }
 ],
 "metadata": {},
 "nbformat": 4,
 "nbformat_minor": 5
}
