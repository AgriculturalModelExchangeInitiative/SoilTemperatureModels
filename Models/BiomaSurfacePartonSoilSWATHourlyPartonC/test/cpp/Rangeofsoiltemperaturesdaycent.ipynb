{
 "cells": [
  {
   "cell_type": "markdown",
   "id": "3d817bec",
   "metadata": {},
   "source": [
    "# Automatic generation of Notebook using PyCropML\n",
    "    This notebook implements a crop model."
   ]
  },
  {
   "cell_type": "markdown",
   "id": "57071bad",
   "metadata": {},
   "source": [
    "### Model Rangeofsoiltemperaturesdaycent"
   ]
  },
  {
   "cell_type": "code",
   "execution_count": null,
   "id": "9d4c6f84",
   "metadata": {},
   "outputs": [],
   "source": [
    "#include \"..\\..\\src\\cpp\\BiomaSurfacePartonSoilSWATHourlyPartonC\\SurfacePartonSoilSWATHourlyPartonCState.cpp\"\n",
    "#include \"..\\..\\src\\cpp\\BiomaSurfacePartonSoilSWATHourlyPartonC\\SurfacePartonSoilSWATHourlyPartonCRate.cpp\"\n",
    "#include \"..\\..\\src\\cpp\\BiomaSurfacePartonSoilSWATHourlyPartonC\\SurfacePartonSoilSWATHourlyPartonCAuxiliary.cpp\"\n",
    "#include \"..\\..\\src\\cpp\\BiomaSurfacePartonSoilSWATHourlyPartonC\\SurfacePartonSoilSWATHourlyPartonCExogenous.cpp\"\n",
    "#include \"..\\..\\src\\cpp\\BiomaSurfacePartonSoilSWATHourlyPartonC\\RangeOfSoilTemperaturesDAYCENT.cpp\"\n"
   ]
  },
  {
   "cell_type": "code",
   "execution_count": null,
   "id": "0764e49b",
   "metadata": {},
   "outputs": [],
   "source": [
    "class Test\n",
    "{\n",
    "    private:\n",
    "        SurfacepartonsoilswathourlypartoncState s;\n",
    "        SurfacepartonsoilswathourlypartoncState s1;\n",
    "        SurfacepartonsoilswathourlypartoncRate r;\n",
    "        SurfacepartonsoilswathourlypartoncAuxiliary a;\n",
    "        SurfacepartonsoilswathourlypartoncExogenous ex;\n",
    "        Rangeofsoiltemperaturesdaycent mod;\n",
    "    public:\n",
    "}\n"
   ]
  },
  {
   "cell_type": "code",
   "execution_count": null,
   "id": "919e723c",
   "metadata": {},
   "outputs": [],
   "source": [
    "Test t;\n"
   ]
  }
 ],
 "metadata": {},
 "nbformat": 4,
 "nbformat_minor": 5
}
