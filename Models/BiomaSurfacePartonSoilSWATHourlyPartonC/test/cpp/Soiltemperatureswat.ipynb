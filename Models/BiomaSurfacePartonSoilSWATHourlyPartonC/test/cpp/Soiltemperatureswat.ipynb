{
 "cells": [
  {
   "cell_type": "markdown",
   "id": "e7f3c014",
   "metadata": {},
   "source": [
    "# Automatic generation of Notebook using PyCropML\n",
    "    This notebook implements a crop model."
   ]
  },
  {
   "cell_type": "markdown",
   "id": "e6194954",
   "metadata": {},
   "source": [
    "### Model Soiltemperatureswat"
   ]
  },
  {
   "cell_type": "code",
   "execution_count": null,
   "id": "1192ae03",
   "metadata": {},
   "outputs": [],
   "source": [
    "#include \"..\\..\\src\\cpp\\BiomaSurfacePartonSoilSWATHourlyPartonC\\SurfacepartonsoilswathourlypartoncState.cpp\"\n",
    "#include \"..\\..\\src\\cpp\\BiomaSurfacePartonSoilSWATHourlyPartonC\\SurfacepartonsoilswathourlypartoncRate.cpp\"\n",
    "#include \"..\\..\\src\\cpp\\BiomaSurfacePartonSoilSWATHourlyPartonC\\SurfacepartonsoilswathourlypartoncAuxiliary.cpp\"\n",
    "#include \"..\\..\\src\\cpp\\BiomaSurfacePartonSoilSWATHourlyPartonC\\SurfacepartonsoilswathourlypartoncExogenous.cpp\"\n",
    "#include \"..\\..\\src\\cpp\\BiomaSurfacePartonSoilSWATHourlyPartonC\\Soiltemperatureswat.cpp\"\n"
   ]
  },
  {
   "cell_type": "code",
   "execution_count": null,
   "id": "87d59b96",
   "metadata": {},
   "outputs": [],
   "source": [
    "class Test\n",
    "{\n",
    "    private:\n",
    "        SurfacepartonsoilswathourlypartoncState s;\n",
    "        SurfacepartonsoilswathourlypartoncState s1;\n",
    "        SurfacepartonsoilswathourlypartoncRate r;\n",
    "        SurfacepartonsoilswathourlypartoncAuxiliary a;\n",
    "        SurfacepartonsoilswathourlypartoncExogenous ex;\n",
    "        Soiltemperatureswat mod;\n",
    "    public:\n",
    "}\n"
   ]
  },
  {
   "cell_type": "code",
   "execution_count": null,
   "id": "05fe12ed",
   "metadata": {},
   "outputs": [],
   "source": [
    "Test t;\n"
   ]
  }
 ],
 "metadata": {},
 "nbformat": 4,
 "nbformat_minor": 5
}
