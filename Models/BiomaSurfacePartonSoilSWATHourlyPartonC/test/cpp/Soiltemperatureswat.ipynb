{
 "cells": [
  {
   "cell_type": "markdown",
   "id": "63a2eab4",
   "metadata": {},
   "source": [
    "# Automatic generation of Notebook using PyCropML\n",
    "    This notebook implements a crop model."
   ]
  },
  {
   "cell_type": "markdown",
   "id": "0f4ea47e",
   "metadata": {},
   "source": [
    "### Model Soiltemperatureswat"
   ]
  },
  {
   "cell_type": "code",
   "execution_count": null,
   "id": "3b88b3ee",
   "metadata": {},
   "outputs": [],
   "source": [
    "#include \"..\\..\\src\\cpp\\BiomaSurfacePartonSoilSWATHourlyPartonC\\SurfacePartonSoilSWATHourlyPartonCState.cpp\"\n",
    "#include \"..\\..\\src\\cpp\\BiomaSurfacePartonSoilSWATHourlyPartonC\\SurfacePartonSoilSWATHourlyPartonCRate.cpp\"\n",
    "#include \"..\\..\\src\\cpp\\BiomaSurfacePartonSoilSWATHourlyPartonC\\SurfacePartonSoilSWATHourlyPartonCAuxiliary.cpp\"\n",
    "#include \"..\\..\\src\\cpp\\BiomaSurfacePartonSoilSWATHourlyPartonC\\SurfacePartonSoilSWATHourlyPartonCExogenous.cpp\"\n",
    "#include \"..\\..\\src\\cpp\\BiomaSurfacePartonSoilSWATHourlyPartonC\\SoilTemperatureSWAT.cpp\"\n"
   ]
  },
  {
   "cell_type": "code",
   "execution_count": null,
   "id": "e858ab21",
   "metadata": {},
   "outputs": [],
   "source": [
    "class Test\n",
    "{\n",
    "    private:\n",
    "        SurfacepartonsoilswathourlypartoncState s;\n",
    "        SurfacepartonsoilswathourlypartoncState s1;\n",
    "        SurfacepartonsoilswathourlypartoncRate r;\n",
    "        SurfacepartonsoilswathourlypartoncAuxiliary a;\n",
    "        SurfacepartonsoilswathourlypartoncExogenous ex;\n",
    "        Soiltemperatureswat mod;\n",
    "    public:\n",
    "}\n"
   ]
  },
  {
   "cell_type": "code",
   "execution_count": null,
   "id": "9cb404d6",
   "metadata": {},
   "outputs": [],
   "source": [
    "Test t;\n"
   ]
  }
 ],
 "metadata": {},
 "nbformat": 4,
 "nbformat_minor": 5
}
