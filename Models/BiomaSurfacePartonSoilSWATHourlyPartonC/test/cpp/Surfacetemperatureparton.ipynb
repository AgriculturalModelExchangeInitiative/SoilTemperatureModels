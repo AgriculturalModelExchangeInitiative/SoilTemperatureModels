{
 "cells": [
  {
   "cell_type": "markdown",
   "id": "a75452f2",
   "metadata": {},
   "source": [
    "# Automatic generation of Notebook using PyCropML\n",
    "    This notebook implements a crop model."
   ]
  },
  {
   "cell_type": "markdown",
   "id": "2eb4028e",
   "metadata": {},
   "source": [
    "### Model Surfacetemperatureparton"
   ]
  },
  {
   "cell_type": "code",
   "execution_count": null,
   "id": "ceb6a8e6",
   "metadata": {},
   "outputs": [],
   "source": [
    "#include \"..\\..\\src\\cpp\\BiomaSurfacePartonSoilSWATHourlyPartonC\\SurfacePartonSoilSWATHourlyPartonCState.cpp\"\n",
    "#include \"..\\..\\src\\cpp\\BiomaSurfacePartonSoilSWATHourlyPartonC\\SurfacePartonSoilSWATHourlyPartonCRate.cpp\"\n",
    "#include \"..\\..\\src\\cpp\\BiomaSurfacePartonSoilSWATHourlyPartonC\\SurfacePartonSoilSWATHourlyPartonCAuxiliary.cpp\"\n",
    "#include \"..\\..\\src\\cpp\\BiomaSurfacePartonSoilSWATHourlyPartonC\\SurfacePartonSoilSWATHourlyPartonCExogenous.cpp\"\n",
    "#include \"..\\..\\src\\cpp\\BiomaSurfacePartonSoilSWATHourlyPartonC\\SurfaceTemperatureParton.cpp\"\n"
   ]
  },
  {
   "cell_type": "code",
   "execution_count": null,
   "id": "3afce55a",
   "metadata": {},
   "outputs": [],
   "source": [
    "class Test\n",
    "{\n",
    "    private:\n",
    "        SurfacepartonsoilswathourlypartoncState s;\n",
    "        SurfacepartonsoilswathourlypartoncState s1;\n",
    "        SurfacepartonsoilswathourlypartoncRate r;\n",
    "        SurfacepartonsoilswathourlypartoncAuxiliary a;\n",
    "        SurfacepartonsoilswathourlypartoncExogenous ex;\n",
    "        Surfacetemperatureparton mod;\n",
    "    public:\n",
    "}\n"
   ]
  },
  {
   "cell_type": "code",
   "execution_count": null,
   "id": "8031b9aa",
   "metadata": {},
   "outputs": [],
   "source": [
    "Test t;\n"
   ]
  }
 ],
 "metadata": {},
 "nbformat": 4,
 "nbformat_minor": 5
}
