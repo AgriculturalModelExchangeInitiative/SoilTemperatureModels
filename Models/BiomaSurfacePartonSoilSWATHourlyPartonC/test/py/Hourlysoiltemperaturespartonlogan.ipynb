{
 "cells": [
  {
   "cell_type": "markdown",
   "id": "3896eb71",
   "metadata": {},
   "source": [
    "# Automatic generation of Notebook using PyCropML\n",
    "    This notebook implements a crop model."
   ]
  },
  {
   "cell_type": "markdown",
   "id": "94da88c4",
   "metadata": {},
   "source": [
    "### Model Hourlysoiltemperaturespartonlogan"
   ]
  },
  {
   "cell_type": "code",
   "execution_count": null,
   "id": "3e596f9c",
   "metadata": {},
   "outputs": [],
   "source": [
    "import numpy\n",
    "from datetime import datetime\n",
    "from array import array\n",
    "import sys\n",
    "sys.path.append(\"../../src/py/BiomaSurfacePartonSoilSWATHourlyPartonC\")\n",
    "from hourlysoiltemperaturespartonlogan import model_hourlysoiltemperaturespartonlogan\n"
   ]
  }
 ],
 "metadata": {},
 "nbformat": 4,
 "nbformat_minor": 5
}
