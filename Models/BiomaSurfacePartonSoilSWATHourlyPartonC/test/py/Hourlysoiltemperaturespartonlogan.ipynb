{
 "cells": [
  {
   "cell_type": "markdown",
   "id": "5561d964",
   "metadata": {},
   "source": [
    "# Automatic generation of Notebook using PyCropML\n",
    "    This notebook implements a crop model."
   ]
  },
  {
   "cell_type": "markdown",
   "id": "e24667ef",
   "metadata": {},
   "source": [
    "### Model Hourlysoiltemperaturespartonlogan"
   ]
  },
  {
   "cell_type": "code",
   "execution_count": null,
   "id": "448de59c",
   "metadata": {},
   "outputs": [],
   "source": [
    "import numpy\n",
    "from datetime import datetime\n",
    "from array import array\n",
    "import sys\n",
    "sys.path.append(\"..\\..\\src\\py\\BiomaSurfacePartonSoilSWATHourlyPartonC\")\n",
    "from hourlysoiltemperaturespartonlogan import model_hourlysoiltemperaturespartonlogan\n"
   ]
  }
 ],
 "metadata": {},
 "nbformat": 4,
 "nbformat_minor": 5
}
