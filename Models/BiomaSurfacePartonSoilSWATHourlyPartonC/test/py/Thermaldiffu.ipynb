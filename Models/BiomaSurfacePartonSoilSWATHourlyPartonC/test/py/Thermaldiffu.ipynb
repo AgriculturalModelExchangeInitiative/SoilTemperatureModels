{
 "cells": [
  {
   "cell_type": "markdown",
   "id": "bc560158",
   "metadata": {},
   "source": [
    "# Automatic generation of Notebook using PyCropML\n",
    "    This notebook implements a crop model."
   ]
  },
  {
   "cell_type": "markdown",
   "id": "27f71cf5",
   "metadata": {},
   "source": [
    "### Model Thermaldiffu"
   ]
  },
  {
   "cell_type": "code",
   "execution_count": null,
   "id": "1585b1e4",
   "metadata": {},
   "outputs": [],
   "source": [
    "import numpy\n",
    "from datetime import datetime\n",
    "from array import array\n",
    "import sys\n",
    "sys.path.append(\"..\\..\\src\\py\\BiomaSurfacePartonSoilSWATHourlyPartonC\")\n",
    "from thermaldiffu import model_thermaldiffu\n"
   ]
  }
 ],
 "metadata": {},
 "nbformat": 4,
 "nbformat_minor": 5
}
