{
 "cells": [
  {
   "cell_type": "markdown",
   "id": "8c488594",
   "metadata": {},
   "source": [
    "# Automatic generation of Notebook using PyCropML\n",
    "    This notebook implements a crop model."
   ]
  },
  {
   "cell_type": "markdown",
   "id": "44a73740",
   "metadata": {},
   "source": [
    "### Model Thermaldiffu"
   ]
  },
  {
   "cell_type": "code",
   "execution_count": null,
   "id": "c864bb0e",
   "metadata": {},
   "outputs": [],
   "source": [
    "import numpy\n",
    "from datetime import datetime\n",
    "from array import array\n",
    "import sys\n",
    "sys.path.append(\"..\\..\\src\\py\\BiomaSurfacePartonSoilSWATHourlyPartonC\")\n",
    "from thermaldiffu import model_thermaldiffu\n"
   ]
  }
 ],
 "metadata": {},
 "nbformat": 4,
 "nbformat_minor": 5
}
