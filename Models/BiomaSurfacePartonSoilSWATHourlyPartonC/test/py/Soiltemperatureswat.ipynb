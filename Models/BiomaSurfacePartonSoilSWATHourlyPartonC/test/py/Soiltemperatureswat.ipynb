{
 "cells": [
  {
   "cell_type": "markdown",
   "id": "f49545ec",
   "metadata": {},
   "source": [
    "# Automatic generation of Notebook using PyCropML\n",
    "    This notebook implements a crop model."
   ]
  },
  {
   "cell_type": "markdown",
   "id": "eec459e3",
   "metadata": {},
   "source": [
    "### Model Soiltemperatureswat"
   ]
  },
  {
   "cell_type": "code",
   "execution_count": null,
   "id": "c8c39557",
   "metadata": {},
   "outputs": [],
   "source": [
    "import numpy\n",
    "from datetime import datetime\n",
    "from array import array\n",
    "import sys\n",
    "sys.path.append(\"../../src/py/BiomaSurfacePartonSoilSWATHourlyPartonC\")\n",
    "from soiltemperatureswat import model_soiltemperatureswat\n"
   ]
  }
 ],
 "metadata": {},
 "nbformat": 4,
 "nbformat_minor": 5
}
