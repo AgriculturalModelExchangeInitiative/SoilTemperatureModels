{
 "cells": [
  {
   "cell_type": "markdown",
   "id": "97ae8ee1",
   "metadata": {},
   "source": [
    "# Automatic generation of Notebook using PyCropML\n",
    "    This notebook implements a crop model."
   ]
  },
  {
   "cell_type": "markdown",
   "id": "9521631e",
   "metadata": {},
   "source": [
    "### Model Volumetricheatcapacitykluitenberg"
   ]
  },
  {
   "cell_type": "code",
   "execution_count": null,
   "id": "973581ec",
   "metadata": {},
   "outputs": [],
   "source": [
    "import numpy\n",
    "from datetime import datetime\n",
    "from array import array\n",
    "import sys\n",
    "sys.path.append(\"../../src/py/BiomaSurfacePartonSoilSWATHourlyPartonC\")\n",
    "from volumetricheatcapacitykluitenberg import model_volumetricheatcapacitykluitenberg\n"
   ]
  }
 ],
 "metadata": {},
 "nbformat": 4,
 "nbformat_minor": 5
}
