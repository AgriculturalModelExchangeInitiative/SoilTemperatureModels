{
 "cells": [
  {
   "cell_type": "markdown",
   "id": "9b2ff317",
   "metadata": {},
   "source": [
    "# Automatic generation of Notebook using PyCropML\n",
    "    This notebook implements a crop model."
   ]
  },
  {
   "cell_type": "markdown",
   "id": "549f45cf",
   "metadata": {},
   "source": [
    "### Model Volumetricheatcapacitykluitenberg"
   ]
  },
  {
   "cell_type": "code",
   "execution_count": null,
   "id": "b70ddc2c",
   "metadata": {},
   "outputs": [],
   "source": [
    "import numpy\n",
    "from datetime import datetime\n",
    "from array import array\n",
    "import sys\n",
    "sys.path.append(\"..\\..\\src\\py\\BiomaSurfacePartonSoilSWATHourlyPartonC\")\n",
    "from volumetricheatcapacitykluitenberg import model_volumetricheatcapacitykluitenberg\n"
   ]
  }
 ],
 "metadata": {},
 "nbformat": 4,
 "nbformat_minor": 5
}
