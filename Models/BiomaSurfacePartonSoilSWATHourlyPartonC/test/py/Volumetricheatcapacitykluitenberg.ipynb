{
 "cells": [
  {
   "cell_type": "markdown",
   "id": "992c4b8a",
   "metadata": {},
   "source": [
    "# Automatic generation of Notebook using PyCropML\n",
    "    This notebook implements a crop model."
   ]
  },
  {
   "cell_type": "markdown",
   "id": "79d60d86",
   "metadata": {},
   "source": [
    "### Model Volumetricheatcapacitykluitenberg"
   ]
  },
  {
   "cell_type": "code",
   "execution_count": null,
   "id": "a2b2c336",
   "metadata": {},
   "outputs": [],
   "source": [
    "import numpy\n",
    "from datetime import datetime\n",
    "from array import array\n",
    "import sys\n",
    "sys.path.append(\"..\\..\\src\\py\\BiomaSurfacePartonSoilSWATHourlyPartonC\")\n",
    "from volumetricheatcapacitykluitenberg import model_volumetricheatcapacitykluitenberg\n"
   ]
  }
 ],
 "metadata": {},
 "nbformat": 4,
 "nbformat_minor": 5
}
