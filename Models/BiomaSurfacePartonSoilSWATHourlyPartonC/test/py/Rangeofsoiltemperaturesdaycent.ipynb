{
 "cells": [
  {
   "cell_type": "markdown",
   "id": "66dd6c5e",
   "metadata": {},
   "source": [
    "# Automatic generation of Notebook using PyCropML\n",
    "    This notebook implements a crop model."
   ]
  },
  {
   "cell_type": "markdown",
   "id": "09a9682b",
   "metadata": {},
   "source": [
    "### Model Rangeofsoiltemperaturesdaycent"
   ]
  },
  {
   "cell_type": "code",
   "execution_count": null,
   "id": "c622721e",
   "metadata": {},
   "outputs": [],
   "source": [
    "import numpy\n",
    "from datetime import datetime\n",
    "from array import array\n",
    "import sys\n",
    "sys.path.append(\"..\\..\\src\\py\\BiomaSurfacePartonSoilSWATHourlyPartonC\")\n",
    "from rangeofsoiltemperaturesdaycent import model_rangeofsoiltemperaturesdaycent\n",
    "from rangeofsoiltemperaturesdaycent import init_rangeofsoiltemperaturesdaycent\n"
   ]
  }
 ],
 "metadata": {},
 "nbformat": 4,
 "nbformat_minor": 5
}
