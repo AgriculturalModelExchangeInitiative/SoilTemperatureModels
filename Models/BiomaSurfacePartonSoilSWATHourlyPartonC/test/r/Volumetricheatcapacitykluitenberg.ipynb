{
 "cells": [
  {
   "cell_type": "markdown",
   "id": "8e8183fb",
   "metadata": {},
   "source": [
    "# Automatic generation of Notebook using PyCropML\n",
    "    This notebook implements a crop model."
   ]
  },
  {
   "cell_type": "markdown",
   "id": "ae8a5d2c",
   "metadata": {},
   "source": [
    "### Model Volumetricheatcapacitykluitenberg"
   ]
  },
  {
   "cell_type": "code",
   "execution_count": null,
   "id": "ffe5aebb",
   "metadata": {},
   "outputs": [],
   "source": [
    "source(\"../../src/r/BiomaSurfacePartonSoilSWATHourlyPartonC/volumetricheatcapacitykluitenberg.r\")\n",
    "library(assertthat)\n"
   ]
  }
 ],
 "metadata": {},
 "nbformat": 4,
 "nbformat_minor": 5
}
