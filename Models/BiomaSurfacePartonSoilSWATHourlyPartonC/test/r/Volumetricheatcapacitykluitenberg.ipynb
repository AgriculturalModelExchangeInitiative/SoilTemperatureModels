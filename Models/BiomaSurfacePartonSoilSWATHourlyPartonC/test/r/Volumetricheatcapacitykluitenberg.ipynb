{
 "cells": [
  {
   "cell_type": "markdown",
   "id": "59b36876",
   "metadata": {},
   "source": [
    "# Automatic generation of Notebook using PyCropML\n",
    "    This notebook implements a crop model."
   ]
  },
  {
   "cell_type": "markdown",
   "id": "8babc4dd",
   "metadata": {},
   "source": [
    "### Model Volumetricheatcapacitykluitenberg"
   ]
  },
  {
   "cell_type": "code",
   "execution_count": null,
   "id": "5f16c00c",
   "metadata": {},
   "outputs": [],
   "source": [
    "source(\"../../src/r/BiomaSurfacePartonSoilSWATHourlyPartonC/volumetricheatcapacitykluitenberg.r\")\n",
    "library(assertthat)\n"
   ]
  }
 ],
 "metadata": {},
 "nbformat": 4,
 "nbformat_minor": 5
}
