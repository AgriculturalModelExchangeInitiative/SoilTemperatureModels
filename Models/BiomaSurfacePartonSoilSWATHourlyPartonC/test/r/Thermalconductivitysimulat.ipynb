{
 "cells": [
  {
   "cell_type": "markdown",
   "id": "e3714974",
   "metadata": {},
   "source": [
    "# Automatic generation of Notebook using PyCropML\n",
    "    This notebook implements a crop model."
   ]
  },
  {
   "cell_type": "markdown",
   "id": "5a615815",
   "metadata": {},
   "source": [
    "### Model Thermalconductivitysimulat"
   ]
  },
  {
   "cell_type": "code",
   "execution_count": null,
   "id": "ba1507a7",
   "metadata": {},
   "outputs": [],
   "source": [
    "source(\"../../src/r/BiomaSurfacePartonSoilSWATHourlyPartonC/thermalconductivitysimulat.r\")\n",
    "library(assertthat)\n"
   ]
  }
 ],
 "metadata": {},
 "nbformat": 4,
 "nbformat_minor": 5
}
