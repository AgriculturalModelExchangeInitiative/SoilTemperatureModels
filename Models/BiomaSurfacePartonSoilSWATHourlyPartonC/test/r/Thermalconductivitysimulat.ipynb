{
 "cells": [
  {
   "cell_type": "markdown",
   "id": "2150860e",
   "metadata": {},
   "source": [
    "# Automatic generation of Notebook using PyCropML\n",
    "    This notebook implements a crop model."
   ]
  },
  {
   "cell_type": "markdown",
   "id": "0c5f31d0",
   "metadata": {},
   "source": [
    "### Model Thermalconductivitysimulat"
   ]
  },
  {
   "cell_type": "code",
   "execution_count": null,
   "id": "6eadab50",
   "metadata": {},
   "outputs": [],
   "source": [
    "source(\"../../src/r/BiomaSurfacePartonSoilSWATHourlyPartonC/thermalconductivitysimulat.r\")\n",
    "library(assertthat)\n"
   ]
  }
 ],
 "metadata": {},
 "nbformat": 4,
 "nbformat_minor": 5
}
