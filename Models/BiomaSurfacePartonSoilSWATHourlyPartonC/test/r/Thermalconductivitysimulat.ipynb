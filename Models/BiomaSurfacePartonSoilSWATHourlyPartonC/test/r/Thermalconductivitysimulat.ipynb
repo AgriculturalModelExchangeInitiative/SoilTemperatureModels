{
 "cells": [
  {
   "cell_type": "markdown",
   "id": "3767d0a7",
   "metadata": {},
   "source": [
    "# Automatic generation of Notebook using PyCropML\n",
    "    This notebook implements a crop model."
   ]
  },
  {
   "cell_type": "markdown",
   "id": "a7a686e2",
   "metadata": {},
   "source": [
    "### Model Thermalconductivitysimulat"
   ]
  },
  {
   "cell_type": "code",
   "execution_count": null,
   "id": "239788fa",
   "metadata": {},
   "outputs": [],
   "source": [
    "source(\"../../src/r/BiomaSurfacePartonSoilSWATHourlyPartonC/thermalconductivitysimulat.r\")\n",
    "library(assertthat)\n"
   ]
  }
 ],
 "metadata": {},
 "nbformat": 4,
 "nbformat_minor": 5
}
