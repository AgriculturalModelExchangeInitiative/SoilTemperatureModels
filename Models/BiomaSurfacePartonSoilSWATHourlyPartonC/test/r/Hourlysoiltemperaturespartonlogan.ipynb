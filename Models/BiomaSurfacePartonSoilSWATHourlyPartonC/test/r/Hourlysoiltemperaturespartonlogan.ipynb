{
 "cells": [
  {
   "cell_type": "markdown",
   "id": "377aa7b6",
   "metadata": {},
   "source": [
    "# Automatic generation of Notebook using PyCropML\n",
    "    This notebook implements a crop model."
   ]
  },
  {
   "cell_type": "markdown",
   "id": "276ebe89",
   "metadata": {},
   "source": [
    "### Model Hourlysoiltemperaturespartonlogan"
   ]
  },
  {
   "cell_type": "code",
   "execution_count": null,
   "id": "b2da67aa",
   "metadata": {},
   "outputs": [],
   "source": [
    "source(\"../../src/r/BiomaSurfacePartonSoilSWATHourlyPartonC/hourlysoiltemperaturespartonlogan.r\")\n",
    "library(assertthat)\n"
   ]
  }
 ],
 "metadata": {},
 "nbformat": 4,
 "nbformat_minor": 5
}
