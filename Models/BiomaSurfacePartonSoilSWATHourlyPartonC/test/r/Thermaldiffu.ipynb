{
 "cells": [
  {
   "cell_type": "markdown",
   "id": "de4a2186",
   "metadata": {},
   "source": [
    "# Automatic generation of Notebook using PyCropML\n",
    "    This notebook implements a crop model."
   ]
  },
  {
   "cell_type": "markdown",
   "id": "777ba355",
   "metadata": {},
   "source": [
    "### Model Thermaldiffu"
   ]
  },
  {
   "cell_type": "code",
   "execution_count": null,
   "id": "e0ba75be",
   "metadata": {},
   "outputs": [],
   "source": [
    "source(\"../../src/r/BiomaSurfacePartonSoilSWATHourlyPartonC/thermaldiffu.r\")\n",
    "library(assertthat)\n"
   ]
  }
 ],
 "metadata": {},
 "nbformat": 4,
 "nbformat_minor": 5
}
