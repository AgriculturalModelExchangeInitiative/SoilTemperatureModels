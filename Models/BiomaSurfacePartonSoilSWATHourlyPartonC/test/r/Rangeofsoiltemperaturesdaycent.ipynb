{
 "cells": [
  {
   "cell_type": "markdown",
   "id": "1821098f",
   "metadata": {},
   "source": [
    "# Automatic generation of Notebook using PyCropML\n",
    "    This notebook implements a crop model."
   ]
  },
  {
   "cell_type": "markdown",
   "id": "9f77a655",
   "metadata": {},
   "source": [
    "### Model Rangeofsoiltemperaturesdaycent"
   ]
  },
  {
   "cell_type": "code",
   "execution_count": null,
   "id": "4bf0038b",
   "metadata": {},
   "outputs": [],
   "source": [
    "source(\"../../src/r/BiomaSurfacePartonSoilSWATHourlyPartonC/rangeofsoiltemperaturesdaycent.r\")\n",
    "library(assertthat)\n"
   ]
  }
 ],
 "metadata": {},
 "nbformat": 4,
 "nbformat_minor": 5
}
