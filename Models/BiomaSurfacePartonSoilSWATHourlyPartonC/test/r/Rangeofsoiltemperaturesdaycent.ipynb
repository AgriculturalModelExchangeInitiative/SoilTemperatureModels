{
 "cells": [
  {
   "cell_type": "markdown",
   "id": "efe7242b",
   "metadata": {},
   "source": [
    "# Automatic generation of Notebook using PyCropML\n",
    "    This notebook implements a crop model."
   ]
  },
  {
   "cell_type": "markdown",
   "id": "4dfafd4a",
   "metadata": {},
   "source": [
    "### Model Rangeofsoiltemperaturesdaycent"
   ]
  },
  {
   "cell_type": "code",
   "execution_count": null,
   "id": "0f4dd4b1",
   "metadata": {},
   "outputs": [],
   "source": [
    "source(\"../../src/r/BiomaSurfacePartonSoilSWATHourlyPartonC/rangeofsoiltemperaturesdaycent.r\")\n",
    "library(assertthat)\n"
   ]
  }
 ],
 "metadata": {},
 "nbformat": 4,
 "nbformat_minor": 5
}
