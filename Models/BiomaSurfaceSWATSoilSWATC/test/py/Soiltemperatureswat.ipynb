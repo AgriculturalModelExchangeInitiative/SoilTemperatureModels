{
 "cells": [
  {
   "cell_type": "markdown",
   "id": "6a0d48ce",
   "metadata": {},
   "source": [
    "# Automatic generation of Notebook using PyCropML\n",
    "    This notebook implements a crop model."
   ]
  },
  {
   "cell_type": "markdown",
   "id": "e7f9b3a0",
   "metadata": {},
   "source": [
    "### Model Soiltemperatureswat"
   ]
  },
  {
   "cell_type": "code",
   "execution_count": null,
   "id": "d581616f",
   "metadata": {},
   "outputs": [],
   "source": [
    "import numpy\n",
    "from datetime import datetime\n",
    "from array import array\n",
    "import sys\n",
    "sys.path.append(\"..\\..\\src\\py\\BiomaSurfaceSWATSoilSWATC\")\n",
    "from soiltemperatureswat import model_soiltemperatureswat\n"
   ]
  }
 ],
 "metadata": {},
 "nbformat": 4,
 "nbformat_minor": 5
}
