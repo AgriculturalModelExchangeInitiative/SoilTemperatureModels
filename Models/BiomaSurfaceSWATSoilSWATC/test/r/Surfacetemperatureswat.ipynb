{
 "cells": [
  {
   "cell_type": "markdown",
   "id": "29ed4e69",
   "metadata": {},
   "source": [
    "# Automatic generation of Notebook using PyCropML\n",
    "    This notebook implements a crop model."
   ]
  },
  {
   "cell_type": "markdown",
   "id": "8ac598fe",
   "metadata": {},
   "source": [
    "### Model Surfacetemperatureswat"
   ]
  },
  {
   "cell_type": "code",
   "execution_count": null,
   "id": "33265048",
   "metadata": {},
   "outputs": [],
   "source": [
    "source(\"../../src/r/BiomaSurfaceSWATSoilSWATC/surfacetemperatureswat.r\")\n",
    "library(assertthat)\n"
   ]
  }
 ],
 "metadata": {},
 "nbformat": 4,
 "nbformat_minor": 5
}
