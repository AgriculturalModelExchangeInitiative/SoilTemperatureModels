{
 "cells": [
  {
   "cell_type": "markdown",
   "id": "6c2bcaf6",
   "metadata": {},
   "source": [
    "# Automatic generation of Notebook using PyCropML\n",
    "    This notebook implements a crop model."
   ]
  },
  {
   "cell_type": "markdown",
   "id": "bef579fe",
   "metadata": {},
   "source": [
    "### Model Surfacetemperatureswat"
   ]
  },
  {
   "cell_type": "code",
   "execution_count": null,
   "id": "7fd4be78",
   "metadata": {},
   "outputs": [],
   "source": [
    "source(\"../../src/r/BiomaSurfaceSWATSoilSWATC/surfacetemperatureswat.r\")\n",
    "library(assertthat)\n"
   ]
  }
 ],
 "metadata": {},
 "nbformat": 4,
 "nbformat_minor": 5
}
