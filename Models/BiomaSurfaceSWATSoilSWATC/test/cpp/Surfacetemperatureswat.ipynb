{
 "cells": [
  {
   "cell_type": "markdown",
   "id": "acc21f7c",
   "metadata": {},
   "source": [
    "# Automatic generation of Notebook using PyCropML\n",
    "    This notebook implements a crop model."
   ]
  },
  {
   "cell_type": "markdown",
   "id": "6d15fa5a",
   "metadata": {},
   "source": [
    "### Model Surfacetemperatureswat"
   ]
  },
  {
   "cell_type": "code",
   "execution_count": null,
   "id": "87ef593b",
   "metadata": {},
   "outputs": [],
   "source": [
    "#include \"..\\..\\src\\cpp\\BiomaSurfaceSWATSoilSWATC\\SurfaceswatsoilswatcState.cpp\"\n",
    "#include \"..\\..\\src\\cpp\\BiomaSurfaceSWATSoilSWATC\\SurfaceswatsoilswatcRate.cpp\"\n",
    "#include \"..\\..\\src\\cpp\\BiomaSurfaceSWATSoilSWATC\\SurfaceswatsoilswatcAuxiliary.cpp\"\n",
    "#include \"..\\..\\src\\cpp\\BiomaSurfaceSWATSoilSWATC\\SurfaceswatsoilswatcExogenous.cpp\"\n",
    "#include \"..\\..\\src\\cpp\\BiomaSurfaceSWATSoilSWATC\\Surfacetemperatureswat.cpp\"\n"
   ]
  },
  {
   "cell_type": "code",
   "execution_count": null,
   "id": "891855e9",
   "metadata": {},
   "outputs": [],
   "source": [
    "class Test\n",
    "{\n",
    "    private:\n",
    "        SurfaceswatsoilswatcState s;\n",
    "        SurfaceswatsoilswatcState s1;\n",
    "        SurfaceswatsoilswatcRate r;\n",
    "        SurfaceswatsoilswatcAuxiliary a;\n",
    "        SurfaceswatsoilswatcExogenous ex;\n",
    "        Surfacetemperatureswat mod;\n",
    "    public:\n",
    "}\n"
   ]
  },
  {
   "cell_type": "code",
   "execution_count": null,
   "id": "96373409",
   "metadata": {},
   "outputs": [],
   "source": [
    "Test t;\n"
   ]
  }
 ],
 "metadata": {},
 "nbformat": 4,
 "nbformat_minor": 5
}
