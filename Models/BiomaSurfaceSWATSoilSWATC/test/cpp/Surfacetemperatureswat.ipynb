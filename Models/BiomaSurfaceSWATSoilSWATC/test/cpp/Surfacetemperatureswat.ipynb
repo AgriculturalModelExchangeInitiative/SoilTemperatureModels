{
 "cells": [
  {
   "cell_type": "markdown",
   "id": "eda08cb8",
   "metadata": {},
   "source": [
    "# Automatic generation of Notebook using PyCropML\n",
    "    This notebook implements a crop model."
   ]
  },
  {
   "cell_type": "markdown",
   "id": "0b4e09b6",
   "metadata": {},
   "source": [
    "### Model Surfacetemperatureswat"
   ]
  },
  {
   "cell_type": "code",
   "execution_count": null,
   "id": "0777c7fd",
   "metadata": {},
   "outputs": [],
   "source": [
    "#include \"../../src/cpp/BiomaSurfaceSWATSoilSWATC/SurfaceSWATSoilSWATCState.cpp\"\n",
    "#include \"../../src/cpp/BiomaSurfaceSWATSoilSWATC/SurfaceSWATSoilSWATCRate.cpp\"\n",
    "#include \"../../src/cpp/BiomaSurfaceSWATSoilSWATC/SurfaceSWATSoilSWATCAuxiliary.cpp\"\n",
    "#include \"../../src/cpp/BiomaSurfaceSWATSoilSWATC/SurfaceSWATSoilSWATCExogenous.cpp\"\n",
    "#include \"../../src/cpp/BiomaSurfaceSWATSoilSWATC/SurfaceTemperatureSWAT.cpp\"\n"
   ]
  },
  {
   "cell_type": "code",
   "execution_count": null,
   "id": "a4f30169",
   "metadata": {},
   "outputs": [],
   "source": [
    "class Test\n",
    "{\n",
    "    private:\n",
    "        SurfaceswatsoilswatcState s;\n",
    "        SurfaceswatsoilswatcState s1;\n",
    "        SurfaceswatsoilswatcRate r;\n",
    "        SurfaceswatsoilswatcAuxiliary a;\n",
    "        SurfaceswatsoilswatcExogenous ex;\n",
    "        Surfacetemperatureswat mod;\n",
    "    public:\n",
    "}\n"
   ]
  },
  {
   "cell_type": "code",
   "execution_count": null,
   "id": "708632ec",
   "metadata": {},
   "outputs": [],
   "source": [
    "Test t;\n"
   ]
  }
 ],
 "metadata": {},
 "nbformat": 4,
 "nbformat_minor": 5
}
