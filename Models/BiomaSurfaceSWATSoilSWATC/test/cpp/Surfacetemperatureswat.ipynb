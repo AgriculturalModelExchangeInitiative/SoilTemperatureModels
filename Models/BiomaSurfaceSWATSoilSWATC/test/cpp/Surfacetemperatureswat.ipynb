{
 "cells": [
  {
   "cell_type": "markdown",
   "id": "7cef7fda",
   "metadata": {},
   "source": [
    "# Automatic generation of Notebook using PyCropML\n",
    "    This notebook implements a crop model."
   ]
  },
  {
   "cell_type": "markdown",
   "id": "fa7469f8",
   "metadata": {},
   "source": [
    "### Model Surfacetemperatureswat"
   ]
  },
  {
   "cell_type": "code",
   "execution_count": null,
   "id": "24649630",
   "metadata": {},
   "outputs": [],
   "source": [
    "#include \"..\\..\\src\\cpp\\BiomaSurfaceSWATSoilSWATC\\SurfaceSWATSoilSWATCState.cpp\"\n",
    "#include \"..\\..\\src\\cpp\\BiomaSurfaceSWATSoilSWATC\\SurfaceSWATSoilSWATCRate.cpp\"\n",
    "#include \"..\\..\\src\\cpp\\BiomaSurfaceSWATSoilSWATC\\SurfaceSWATSoilSWATCAuxiliary.cpp\"\n",
    "#include \"..\\..\\src\\cpp\\BiomaSurfaceSWATSoilSWATC\\SurfaceSWATSoilSWATCExogenous.cpp\"\n",
    "#include \"..\\..\\src\\cpp\\BiomaSurfaceSWATSoilSWATC\\SurfaceTemperatureSWAT.cpp\"\n"
   ]
  },
  {
   "cell_type": "code",
   "execution_count": null,
   "id": "e620a66b",
   "metadata": {},
   "outputs": [],
   "source": [
    "class Test\n",
    "{\n",
    "    private:\n",
    "        SurfaceswatsoilswatcState s;\n",
    "        SurfaceswatsoilswatcState s1;\n",
    "        SurfaceswatsoilswatcRate r;\n",
    "        SurfaceswatsoilswatcAuxiliary a;\n",
    "        SurfaceswatsoilswatcExogenous ex;\n",
    "        Surfacetemperatureswat mod;\n",
    "    public:\n",
    "}\n"
   ]
  },
  {
   "cell_type": "code",
   "execution_count": null,
   "id": "84b50be1",
   "metadata": {},
   "outputs": [],
   "source": [
    "Test t;\n"
   ]
  }
 ],
 "metadata": {},
 "nbformat": 4,
 "nbformat_minor": 5
}
