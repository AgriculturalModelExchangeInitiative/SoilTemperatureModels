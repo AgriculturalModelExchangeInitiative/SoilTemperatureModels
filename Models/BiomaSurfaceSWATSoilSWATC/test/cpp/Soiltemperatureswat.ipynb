{
 "cells": [
  {
   "cell_type": "markdown",
   "id": "812754d7",
   "metadata": {},
   "source": [
    "# Automatic generation of Notebook using PyCropML\n",
    "    This notebook implements a crop model."
   ]
  },
  {
   "cell_type": "markdown",
   "id": "217f8f4c",
   "metadata": {},
   "source": [
    "### Model Soiltemperatureswat"
   ]
  },
  {
   "cell_type": "code",
   "execution_count": null,
   "id": "df40b009",
   "metadata": {},
   "outputs": [],
   "source": [
    "#include \"..\\..\\src\\cpp\\BiomaSurfaceSWATSoilSWATC\\SurfaceSWATSoilSWATCState.cpp\"\n",
    "#include \"..\\..\\src\\cpp\\BiomaSurfaceSWATSoilSWATC\\SurfaceSWATSoilSWATCRate.cpp\"\n",
    "#include \"..\\..\\src\\cpp\\BiomaSurfaceSWATSoilSWATC\\SurfaceSWATSoilSWATCAuxiliary.cpp\"\n",
    "#include \"..\\..\\src\\cpp\\BiomaSurfaceSWATSoilSWATC\\SurfaceSWATSoilSWATCExogenous.cpp\"\n",
    "#include \"..\\..\\src\\cpp\\BiomaSurfaceSWATSoilSWATC\\SoilTemperatureSWAT.cpp\"\n"
   ]
  },
  {
   "cell_type": "code",
   "execution_count": null,
   "id": "a95c0f13",
   "metadata": {},
   "outputs": [],
   "source": [
    "class Test\n",
    "{\n",
    "    private:\n",
    "        SurfaceswatsoilswatcState s;\n",
    "        SurfaceswatsoilswatcState s1;\n",
    "        SurfaceswatsoilswatcRate r;\n",
    "        SurfaceswatsoilswatcAuxiliary a;\n",
    "        SurfaceswatsoilswatcExogenous ex;\n",
    "        Soiltemperatureswat mod;\n",
    "    public:\n",
    "}\n"
   ]
  },
  {
   "cell_type": "code",
   "execution_count": null,
   "id": "28095697",
   "metadata": {},
   "outputs": [],
   "source": [
    "Test t;\n"
   ]
  }
 ],
 "metadata": {},
 "nbformat": 4,
 "nbformat_minor": 5
}
