{
 "cells": [
  {
   "cell_type": "markdown",
   "id": "3c90beca",
   "metadata": {},
   "source": [
    "# Automatic generation of Notebook using PyCropML\n",
    "    This notebook implements a crop model."
   ]
  },
  {
   "cell_type": "markdown",
   "id": "2128d341",
   "metadata": {},
   "source": [
    "### Model Soiltemperatureswat"
   ]
  },
  {
   "cell_type": "code",
   "execution_count": null,
   "id": "d0141957",
   "metadata": {},
   "outputs": [],
   "source": [
    "#include \"..\\..\\src\\cpp\\BiomaSurfaceSWATSoilSWATC\\SurfaceswatsoilswatcState.cpp\"\n",
    "#include \"..\\..\\src\\cpp\\BiomaSurfaceSWATSoilSWATC\\SurfaceswatsoilswatcRate.cpp\"\n",
    "#include \"..\\..\\src\\cpp\\BiomaSurfaceSWATSoilSWATC\\SurfaceswatsoilswatcAuxiliary.cpp\"\n",
    "#include \"..\\..\\src\\cpp\\BiomaSurfaceSWATSoilSWATC\\SurfaceswatsoilswatcExogenous.cpp\"\n",
    "#include \"..\\..\\src\\cpp\\BiomaSurfaceSWATSoilSWATC\\Soiltemperatureswat.cpp\"\n"
   ]
  },
  {
   "cell_type": "code",
   "execution_count": null,
   "id": "516b8d78",
   "metadata": {},
   "outputs": [],
   "source": [
    "class Test\n",
    "{\n",
    "    private:\n",
    "        SurfaceswatsoilswatcState s;\n",
    "        SurfaceswatsoilswatcState s1;\n",
    "        SurfaceswatsoilswatcRate r;\n",
    "        SurfaceswatsoilswatcAuxiliary a;\n",
    "        SurfaceswatsoilswatcExogenous ex;\n",
    "        Soiltemperatureswat mod;\n",
    "    public:\n",
    "}\n"
   ]
  },
  {
   "cell_type": "code",
   "execution_count": null,
   "id": "2a488a0c",
   "metadata": {},
   "outputs": [],
   "source": [
    "Test t;\n"
   ]
  }
 ],
 "metadata": {},
 "nbformat": 4,
 "nbformat_minor": 5
}
