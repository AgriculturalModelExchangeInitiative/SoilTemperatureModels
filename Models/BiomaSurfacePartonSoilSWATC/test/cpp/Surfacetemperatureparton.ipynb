{
 "cells": [
  {
   "cell_type": "markdown",
   "id": "5dd5e51d",
   "metadata": {},
   "source": [
    "# Automatic generation of Notebook using PyCropML\n",
    "    This notebook implements a crop model."
   ]
  },
  {
   "cell_type": "markdown",
   "id": "c7f78559",
   "metadata": {},
   "source": [
    "### Model Surfacetemperatureparton"
   ]
  },
  {
   "cell_type": "code",
   "execution_count": null,
   "id": "e89fb223",
   "metadata": {},
   "outputs": [],
   "source": [
    "#include \"..\\..\\src\\cpp\\BiomaSurfacePartonSoilSWATC\\SurfacePartonSoilSWATCState.cpp\"\n",
    "#include \"..\\..\\src\\cpp\\BiomaSurfacePartonSoilSWATC\\SurfacePartonSoilSWATCRate.cpp\"\n",
    "#include \"..\\..\\src\\cpp\\BiomaSurfacePartonSoilSWATC\\SurfacePartonSoilSWATCAuxiliary.cpp\"\n",
    "#include \"..\\..\\src\\cpp\\BiomaSurfacePartonSoilSWATC\\SurfacePartonSoilSWATCExogenous.cpp\"\n",
    "#include \"..\\..\\src\\cpp\\BiomaSurfacePartonSoilSWATC\\SurfaceTemperatureParton.cpp\"\n"
   ]
  },
  {
   "cell_type": "code",
   "execution_count": null,
   "id": "35be0cd2",
   "metadata": {},
   "outputs": [],
   "source": [
    "class Test\n",
    "{\n",
    "    private:\n",
    "        SurfacepartonsoilswatcState s;\n",
    "        SurfacepartonsoilswatcState s1;\n",
    "        SurfacepartonsoilswatcRate r;\n",
    "        SurfacepartonsoilswatcAuxiliary a;\n",
    "        SurfacepartonsoilswatcExogenous ex;\n",
    "        Surfacetemperatureparton mod;\n",
    "    public:\n",
    "}\n"
   ]
  },
  {
   "cell_type": "code",
   "execution_count": null,
   "id": "2989aa18",
   "metadata": {},
   "outputs": [],
   "source": [
    "Test t;\n"
   ]
  }
 ],
 "metadata": {},
 "nbformat": 4,
 "nbformat_minor": 5
}
