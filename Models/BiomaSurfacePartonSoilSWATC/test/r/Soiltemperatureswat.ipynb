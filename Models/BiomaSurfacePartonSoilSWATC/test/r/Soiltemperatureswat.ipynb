{
 "cells": [
  {
   "cell_type": "markdown",
   "id": "a96aa141",
   "metadata": {},
   "source": [
    "# Automatic generation of Notebook using PyCropML\n",
    "    This notebook implements a crop model."
   ]
  },
  {
   "cell_type": "markdown",
   "id": "1ed5510b",
   "metadata": {},
   "source": [
    "### Model Soiltemperatureswat"
   ]
  },
  {
   "cell_type": "code",
   "execution_count": null,
   "id": "32a61b50",
   "metadata": {},
   "outputs": [],
   "source": [
    "source(\"../../src/r/BiomaSurfacePartonSoilSWATC/soiltemperatureswat.r\")\n",
    "library(assertthat)\n"
   ]
  }
 ],
 "metadata": {},
 "nbformat": 4,
 "nbformat_minor": 5
}
