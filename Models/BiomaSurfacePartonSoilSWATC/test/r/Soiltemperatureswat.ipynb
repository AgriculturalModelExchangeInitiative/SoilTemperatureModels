{
 "cells": [
  {
   "cell_type": "markdown",
   "id": "4c73013c",
   "metadata": {},
   "source": [
    "# Automatic generation of Notebook using PyCropML\n",
    "    This notebook implements a crop model."
   ]
  },
  {
   "cell_type": "markdown",
   "id": "643a345a",
   "metadata": {},
   "source": [
    "### Model Soiltemperatureswat"
   ]
  },
  {
   "cell_type": "code",
   "execution_count": null,
   "id": "32c273cf",
   "metadata": {},
   "outputs": [],
   "source": [
    "source(\"../../src/r/BiomaSurfacePartonSoilSWATC/soiltemperatureswat.r\")\n",
    "library(assertthat)\n"
   ]
  }
 ],
 "metadata": {},
 "nbformat": 4,
 "nbformat_minor": 5
}
