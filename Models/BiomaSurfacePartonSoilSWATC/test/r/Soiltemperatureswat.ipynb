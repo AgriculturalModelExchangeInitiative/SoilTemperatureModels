{
 "cells": [
  {
   "cell_type": "markdown",
   "id": "79999d87",
   "metadata": {},
   "source": [
    "# Automatic generation of Notebook using PyCropML\n",
    "    This notebook implements a crop model."
   ]
  },
  {
   "cell_type": "markdown",
   "id": "2db81ac0",
   "metadata": {},
   "source": [
    "### Model Soiltemperatureswat"
   ]
  },
  {
   "cell_type": "code",
   "execution_count": null,
   "id": "e7c74bfd",
   "metadata": {},
   "outputs": [],
   "source": [
    "source(\"../../src/r/BiomaSurfacePartonSoilSWATC/soiltemperatureswat.r\")\n",
    "library(assertthat)\n"
   ]
  }
 ],
 "metadata": {},
 "nbformat": 4,
 "nbformat_minor": 5
}
