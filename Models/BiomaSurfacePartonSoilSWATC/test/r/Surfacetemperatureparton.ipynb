{
 "cells": [
  {
   "cell_type": "markdown",
   "id": "fee6e0e6",
   "metadata": {},
   "source": [
    "# Automatic generation of Notebook using PyCropML\n",
    "    This notebook implements a crop model."
   ]
  },
  {
   "cell_type": "markdown",
   "id": "0138ddd7",
   "metadata": {},
   "source": [
    "### Model Surfacetemperatureparton"
   ]
  },
  {
   "cell_type": "code",
   "execution_count": null,
   "id": "2b533a4d",
   "metadata": {},
   "outputs": [],
   "source": [
    "source(\"../../src/r/BiomaSurfacePartonSoilSWATC/surfacetemperatureparton.r\")\n",
    "library(assertthat)\n"
   ]
  }
 ],
 "metadata": {},
 "nbformat": 4,
 "nbformat_minor": 5
}
