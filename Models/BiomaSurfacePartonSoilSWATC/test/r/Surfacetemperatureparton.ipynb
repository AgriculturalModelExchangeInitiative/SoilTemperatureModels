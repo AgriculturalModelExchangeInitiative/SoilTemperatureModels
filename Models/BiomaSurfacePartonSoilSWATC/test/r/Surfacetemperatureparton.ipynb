{
 "cells": [
  {
   "cell_type": "markdown",
   "id": "201b3787",
   "metadata": {},
   "source": [
    "# Automatic generation of Notebook using PyCropML\n",
    "    This notebook implements a crop model."
   ]
  },
  {
   "cell_type": "markdown",
   "id": "5ad3ae95",
   "metadata": {},
   "source": [
    "### Model Surfacetemperatureparton"
   ]
  },
  {
   "cell_type": "code",
   "execution_count": null,
   "id": "96d49e71",
   "metadata": {},
   "outputs": [],
   "source": [
    "source(\"../../src/r/BiomaSurfacePartonSoilSWATC/surfacetemperatureparton.r\")\n",
    "library(assertthat)\n"
   ]
  }
 ],
 "metadata": {},
 "nbformat": 4,
 "nbformat_minor": 5
}
